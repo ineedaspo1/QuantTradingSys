{
 "cells": [
  {
   "cell_type": "code",
   "execution_count": 268,
   "metadata": {
    "collapsed": true
   },
   "outputs": [],
   "source": [
    "%matplotlib inline\n",
    "import numpy as np\n",
    "import pandas as pd\n",
    "import math\n",
    "import matplotlib.pyplot as plt\n",
    "from sklearn.preprocessing import RobustScaler\n",
    "from scipy.stats import norm\n",
    "\n",
    "import sys\n",
    "sys.path.append('../lib')\n",
    "sys.path.append('../utilities')\n",
    "\n",
    "from plot_utils import *\n",
    "from retrieve_data import *\n",
    "from ta_momentum_studies import *\n",
    "from ta_volume_studies import *\n",
    "from transformers import *\n",
    "import talib as ta"
   ]
  },
  {
   "cell_type": "code",
   "execution_count": 343,
   "metadata": {
    "collapsed": true
   },
   "outputs": [],
   "source": [
    "def RSI(df, period=14):\n",
    "        \"\"\"Relative Strenth Index, suppose Welles Wilder verison\n",
    "           Args:\n",
    "                close: Closing price of instrument\n",
    "                period: number of time periods in the calculation\n",
    "           Return:\n",
    "                RSI signal\n",
    "                feature_dict\n",
    "        \"\"\"\n",
    "        col = 'Close'\n",
    "        col_name = 'RSI_' + str(period)\n",
    "        feature_dict[col_name] = 'Keep'\n",
    "        current_feature['Latest'] = col_name\n",
    "        df[col_name] = ta.RSI(df[col], period)\n",
    "        return df"
   ]
  },
  {
   "cell_type": "code",
   "execution_count": 344,
   "metadata": {
    "collapsed": true
   },
   "outputs": [],
   "source": [
    "def UltOsc(df, t1=7, t2=14, t3=28):\n",
    "    \"\"\" Ultimate Oscillator\n",
    "        Uses weighted sums of three oscillators, designed to capture\n",
    "        momentum across three different timeframes, each of which uses\n",
    "        a different time period\n",
    "\n",
    "        Args:\n",
    "            high, low, close: HLC of instrument\n",
    "            t1, t2, t3: various time periods in the calculation,\n",
    "                        default: 7,14,28\n",
    "            feature_dict: Dictionary of added features\n",
    "        Return:\n",
    "            UO signal\n",
    "            feature_dict\n",
    "    \"\"\"\n",
    "    t1t = 'UltOsc_t1' + str(t1)\n",
    "    t2t = '_t2' + str(t2)\n",
    "    t3t = '_t3' + str(t3)\n",
    "    col_name = t1t + t2t + t3t\n",
    "    current_feature['Latest'] = col_name\n",
    "    feature_dict[col_name] = 'Keep'\n",
    "    df[col_name] = ta.ULTOSC(df.High, df.Low, df.Close,\n",
    "                       t1, t2, t3\n",
    "                       )\n",
    "    return df"
   ]
  },
  {
   "cell_type": "code",
   "execution_count": 363,
   "metadata": {
    "collapsed": true
   },
   "outputs": [],
   "source": [
    "def normalizer(dataSet, colname, n=50, mode = 'scale', linear = False):\n",
    "        \"\"\"\n",
    "             It computes the normalized value on the stats of n values\n",
    "             ( Modes: total or scale ) using the formulas from the book\n",
    "             \"Statistically sound machine learning...\" (Aronson and Masters)\n",
    "             but the decission to apply a non linear scaling is left to the\n",
    "             user. It's scale is supposed to be -100 to 100.\n",
    "             -100 to 100 df is an imput DataFrame. it returns also a\n",
    "             DataFrame, but it could return a list.\n",
    "\n",
    "            Args:\n",
    "                dataSet: dataframe cotaining signal to be normalized\n",
    "                colname: Column name to be normalized\n",
    "                n: number of data points to get the mean and the\n",
    "                   quartiles for the normalization\n",
    "                feature_dict: Dictionary of added features\n",
    "                mode: scale: scale, without centering.\n",
    "                        total: center and scale.\n",
    "                linear: non-linear or linear scaling\n",
    "            Returns:\n",
    "                dataSet: Dataset with new feature generated.\n",
    "                feature_dict: Append entry with colname\n",
    "        \"\"\"\n",
    "        print(\"normalizer!!!!!!!!!!!!!!!!!!!!!!!!!!!!!!!!\\n\")\n",
    "        temp = []\n",
    "        col_name = str(colname) + '_Normalized'\n",
    "        feature_dict[col_name] = 'Keep'\n",
    "        current_feature['Latest'] = col_name\n",
    "        df = dataSet[colname]\n",
    "        for i in range(len(df))[::-1]:\n",
    "            if i  >= n:\n",
    "                # there will be a traveling norm until we reach the initial n\n",
    "                # values. Those values will be normalized using the last\n",
    "                # computed values of F50,F75 and F25\n",
    "                F50 = df[i-n:i].quantile(0.5)\n",
    "                F75 =  df[i-n:i].quantile(0.75)\n",
    "                F25 =  df[i-n:i].quantile(0.25)\n",
    "            if linear == True and mode == 'total':\n",
    "                 v = 50 * ((df.iloc[i] - F50) / (F75 - F25)) - 50\n",
    "            elif linear == True and mode == 'scale':\n",
    "                 v =  25 * df.iloc[i] / (F75 - F25) -50\n",
    "            elif linear == False and mode == 'scale':\n",
    "                 v = 100 * norm.cdf(0.5 * df.iloc[i] / (F75 - F25)) - 50\n",
    "            else:\n",
    "                # even if strange values are given, it will perform full\n",
    "                # normalization with compression as default\n",
    "                v = norm.cdf(50*(df.iloc[i]-F50)/(F75-F25))-50\n",
    "            temp.append(v)\n",
    "        dataSet[col_name] = temp[::-1]\n",
    "        return  dataSet"
   ]
  },
  {
   "cell_type": "code",
   "execution_count": 364,
   "metadata": {},
   "outputs": [
    {
     "name": "stdout",
     "output_type": "stream",
     "text": [
      "Successfully retrieved data series for TLT\n"
     ]
    }
   ],
   "source": [
    "if __name__ == \"__main__\":\n",
    "\n",
    "    dataLoadStartDate = \"2014-04-01\"\n",
    "    dataLoadEndDate = \"2018-04-01\"\n",
    "    issue = \"TLT\"\n",
    "    feature_dict = {}\n",
    "    current_feature = {}\n",
    "\n",
    "    taLibVolSt = TALibVolumeStudies()\n",
    "    taLibMomSt = TALibMomentumStudies()\n",
    "    transf = Transformers()\n",
    "\n",
    "    dSet = DataRetrieve()\n",
    "    df = dSet.read_issue_data(issue)\n",
    "    df = dSet.set_date_range(df, dataLoadStartDate,dataLoadEndDate)"
   ]
  },
  {
   "cell_type": "code",
   "execution_count": 365,
   "metadata": {},
   "outputs": [],
   "source": [
    "def get_from_dict(dataDict, mapList):\n",
    "    \"\"\"Iterate nested dictionary\"\"\"\n",
    "    try:\n",
    "        return reduce(dict.get, mapList, dataDict)\n",
    "    except TypeError:\n",
    "        return None  # or some other default value"
   ]
  },
  {
   "cell_type": "code",
   "execution_count": 370,
   "metadata": {},
   "outputs": [],
   "source": [
    "# Example\n",
    "# RSI, 20d period, no transform\n",
    "input_dict = {} # initialize \n",
    "input_dict = {'f1': \n",
    "              {'fname' : 'RSI', \n",
    "               'params' : [10]\n",
    "               },\n",
    "              'f2': \n",
    "              {'fname' : 'UltimateOscillator', \n",
    "               'params' : [10 , 20, 30]\n",
    "               },\n",
    "              'f3': \n",
    "              {'fname' : 'UltimateOscillator',\n",
    "               'params' : [],\n",
    "               'transform' : ['Normalized', 100]\n",
    "               },\n",
    "              'f4': \n",
    "              {'fname' : 'RSI', \n",
    "               'params' : [20],\n",
    "               'transform' : ['Normalized', 100]\n",
    "               }\n",
    "             }"
   ]
  },
  {
   "cell_type": "code",
   "execution_count": 371,
   "metadata": {},
   "outputs": [],
   "source": [
    "funcDict = {\n",
    "    \"RSI\": RSI,\n",
    "    \"Normalized\": normalizer,\n",
    "    \"UltimateOscillator\": UltOsc\n",
    "}"
   ]
  },
  {
   "cell_type": "code",
   "execution_count": 372,
   "metadata": {},
   "outputs": [
    {
     "name": "stdout",
     "output_type": "stream",
     "text": [
      "fname:  RSI\n",
      "params:  [10]\n",
      "Current feature:  RSI_10\n",
      "transform:  None \n",
      "\n",
      "fname:  UltimateOscillator\n",
      "params:  [10, 20, 30]\n",
      "Current feature:  UltOsc_t110_t220_t330\n",
      "transform:  None \n",
      "\n",
      "fname:  UltimateOscillator\n",
      "params:  []\n",
      "Current feature:  UltOsc_t17_t214_t328\n",
      "transform:  ['Normalized', 100] \n",
      "\n",
      "!!!! Normalized\n",
      "Current feature:  UltOsc_t17_t214_t328\n",
      "normalizer!!!!!!!!!!!!!!!!!!!!!!!!!!!!!!!!\n",
      "\n"
     ]
    },
    {
     "name": "stderr",
     "output_type": "stream",
     "text": [
      "C:\\ProgramData\\Anaconda3\\lib\\site-packages\\scipy\\stats\\_distn_infrastructure.py:879: RuntimeWarning: invalid value encountered in greater\n",
      "  return (self.a < x) & (x < self.b)\n",
      "C:\\ProgramData\\Anaconda3\\lib\\site-packages\\scipy\\stats\\_distn_infrastructure.py:879: RuntimeWarning: invalid value encountered in less\n",
      "  return (self.a < x) & (x < self.b)\n",
      "C:\\ProgramData\\Anaconda3\\lib\\site-packages\\scipy\\stats\\_distn_infrastructure.py:1735: RuntimeWarning: invalid value encountered in greater_equal\n",
      "  cond2 = (x >= self.b) & cond0\n"
     ]
    },
    {
     "name": "stdout",
     "output_type": "stream",
     "text": [
      "Current feature:  UltOsc_t17_t214_t328_Normalized\n",
      "fname:  RSI\n",
      "params:  [20]\n",
      "Current feature:  RSI_20\n",
      "transform:  ['Normalized', 100] \n",
      "\n",
      "!!!! Normalized\n",
      "Current feature:  RSI_20\n",
      "normalizer!!!!!!!!!!!!!!!!!!!!!!!!!!!!!!!!\n",
      "\n",
      "Current feature:  RSI_20_Normalized\n"
     ]
    }
   ],
   "source": [
    "for key in input_dict.keys():\n",
    "    #print(key)\n",
    "    path = [key, 'fname']\n",
    "    print('fname: ', get_from_dict(input_dict, path))\n",
    "    func_name = get_from_dict(input_dict, path)\n",
    "    \n",
    "    path = [key, 'params']\n",
    "    print('params: ', get_from_dict(input_dict, path))\n",
    "    params = get_from_dict(input_dict, path)  \n",
    "    df = funcDict[func_name](df, *params)\n",
    "    print(\"Current feature: \", current_feature['Latest'])\n",
    "    \n",
    "    path = [key, 'transform']\n",
    "    print('transform: ', get_from_dict(input_dict, path), '\\n')\n",
    "    do_transform = get_from_dict(input_dict, path)\n",
    "    \n",
    "    if do_transform:\n",
    "        print('!!!!', do_transform[0], )\n",
    "        pass_params = (do_transform[1::])\n",
    "        print(\"Current feature: \", current_feature['Latest'])\n",
    "        df = funcDict[do_transform[0]](df, current_feature['Latest'], *pass_params)\n",
    "        print(\"Current feature: \", current_feature['Latest'])"
   ]
  },
  {
   "cell_type": "code",
   "execution_count": 374,
   "metadata": {},
   "outputs": [
    {
     "name": "stdout",
     "output_type": "stream",
     "text": [
      "           Symbol       Date   Close     High       Low    Open   Volume  \\\n",
      "2014-04-01    TLT 2014-04-01  107.89  108.360  107.8400  108.26  9067266   \n",
      "2014-04-02    TLT 2014-04-02  107.27  107.550  107.1700  107.39  6887212   \n",
      "2014-04-03    TLT 2014-04-03  107.74  107.935  107.4400  107.52  4937393   \n",
      "2014-04-04    TLT 2014-04-04  108.46  108.690  107.8499  107.87  8977484   \n",
      "2014-04-07    TLT 2014-04-07  109.11  109.290  108.6000  108.62  7562895   \n",
      "\n",
      "               Pri  RSI_10  UltOsc_t110_t220_t330  UltOsc_t17_t214_t328  \\\n",
      "2014-04-01  107.89     NaN                    NaN                   NaN   \n",
      "2014-04-02  107.27     NaN                    NaN                   NaN   \n",
      "2014-04-03  107.74     NaN                    NaN                   NaN   \n",
      "2014-04-04  108.46     NaN                    NaN                   NaN   \n",
      "2014-04-07  109.11     NaN                    NaN                   NaN   \n",
      "\n",
      "            UltOsc_t17_t214_t328_Normalized  RSI_20  RSI_20_Normalized  \n",
      "2014-04-01                              NaN     NaN                NaN  \n",
      "2014-04-02                              NaN     NaN                NaN  \n",
      "2014-04-03                              NaN     NaN                NaN  \n",
      "2014-04-04                              NaN     NaN                NaN  \n",
      "2014-04-07                              NaN     NaN                NaN  \n"
     ]
    }
   ],
   "source": [
    "print(df.head(5))"
   ]
  },
  {
   "cell_type": "code",
   "execution_count": null,
   "metadata": {
    "collapsed": true
   },
   "outputs": [],
   "source": []
  }
 ],
 "metadata": {
  "kernelspec": {
   "display_name": "Python 3",
   "language": "python",
   "name": "python3"
  },
  "language_info": {
   "codemirror_mode": {
    "name": "ipython",
    "version": 3
   },
   "file_extension": ".py",
   "mimetype": "text/x-python",
   "name": "python",
   "nbconvert_exporter": "python",
   "pygments_lexer": "ipython3",
   "version": "3.6.6"
  }
 },
 "nbformat": 4,
 "nbformat_minor": 2
}
