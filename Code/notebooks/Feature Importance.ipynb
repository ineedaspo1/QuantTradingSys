{
 "cells": [
  {
   "cell_type": "markdown",
   "metadata": {},
   "source": [
    "## Analyze feature importance"
   ]
  },
  {
   "cell_type": "code",
   "execution_count": 1,
   "metadata": {
    "collapsed": true
   },
   "outputs": [],
   "source": [
    "%matplotlib inline"
   ]
  },
  {
   "cell_type": "code",
   "execution_count": 2,
   "metadata": {},
   "outputs": [
    {
     "name": "stderr",
     "output_type": "stream",
     "text": [
      "C:\\ProgramData\\Anaconda3\\lib\\site-packages\\statsmodels\\compat\\pandas.py:56: FutureWarning: The pandas.core.datetools module is deprecated and will be removed in a future version. Please use the pandas.tseries module instead.\n",
      "  from pandas.core import datetools\n"
     ]
    }
   ],
   "source": [
    "import json\n",
    "\n",
    "from Code.lib.plot_utils import PlotUtility\n",
    "from Code.lib.time_utils import TimeUtility\n",
    "from Code.lib.retrieve_data import DataRetrieve, ComputeTarget\n",
    "from Code.lib.candle_indicators import CandleIndicators\n",
    "from Code.lib.transformers import Transformers\n",
    "from Code.lib.ta_momentum_studies import TALibMomentumStudies\n",
    "from Code.lib.model_utils import ModelUtility, TimeSeriesSplitImproved\n",
    "from Code.lib.feature_generator import FeatureGenerator\n",
    "from Code.utilities.stat_tests import stationarity_tests\n",
    "from Code.lib.config import current_feature, feature_dict\n",
    "from Code.models import models_utils"
   ]
  },
  {
   "cell_type": "code",
   "execution_count": 3,
   "metadata": {
    "collapsed": true
   },
   "outputs": [],
   "source": [
    "import pandas as pd\n",
    "import numpy as np\n",
    "np.set_printoptions(precision=2)\n",
    "import datetime\n",
    "from dateutil.relativedelta import relativedelta\n",
    "import matplotlib.pylab as plt\n",
    "from pandas.tseries.offsets import BDay\n",
    "import os.path\n",
    "import pickle"
   ]
  },
  {
   "cell_type": "code",
   "execution_count": 4,
   "metadata": {
    "collapsed": true
   },
   "outputs": [],
   "source": [
    "from sklearn.model_selection import StratifiedShuffleSplit, TimeSeriesSplit\n",
    "from sklearn import svm\n",
    "from sklearn.ensemble import RandomForestClassifier, AdaBoostClassifier, GradientBoostingClassifier\n",
    "from sklearn.discriminant_analysis import QuadraticDiscriminantAnalysis\n",
    "from sklearn.neighbors import KNeighborsClassifier\n",
    "from sklearn.tree import DecisionTreeClassifier\n",
    "from sklearn.metrics import confusion_matrix, accuracy_score, precision_score, recall_score, f1_score"
   ]
  },
  {
   "cell_type": "markdown",
   "metadata": {},
   "source": [
    "### Load issue data and set date range\n",
    "Pivot date is last date and time segments calculated by OOS months and IS-OOS ratio"
   ]
  },
  {
   "cell_type": "code",
   "execution_count": 5,
   "metadata": {},
   "outputs": [
    {
     "name": "stdout",
     "output_type": "stream",
     "text": [
      "Successfully retrieved data series for TLT\n"
     ]
    }
   ],
   "source": [
    "plotIt = PlotUtility()\n",
    "timeUtil = TimeUtility()\n",
    "ct = ComputeTarget()\n",
    "candle_ind = CandleIndicators()\n",
    "dSet = DataRetrieve()\n",
    "taLibMomSt = TALibMomentumStudies()\n",
    "transf = Transformers()\n",
    "modelUtil = ModelUtility()\n",
    "featureGen = FeatureGenerator()\n",
    "    \n",
    "issue = \"TLT\"\n",
    "# Set IS-OOS parameters\n",
    "pivotDate = datetime.date(2018, 4, 2)\n",
    "is_oos_ratio = 3\n",
    "oos_months = 4\n",
    "segments = 2\n",
    "\n",
    "dataSet = dSet.read_issue_data(issue)\n",
    "\n",
    "# get first data from loaded data instead of hard coding start date\n",
    "dataSet = dSet.set_date_range(dataSet, \"2014-09-26\", pivotDate)\n",
    "\n",
    "#set beLong level\n",
    "beLongThreshold = 0.000\n",
    "dataSet = ct.setTarget(dataSet, \"Long\", beLongThreshold)"
   ]
  },
  {
   "cell_type": "markdown",
   "metadata": {},
   "source": [
    "### Set features\n",
    "Features should be normalized..."
   ]
  },
  {
   "cell_type": "code",
   "execution_count": 6,
   "metadata": {},
   "outputs": [
    {
     "name": "stdout",
     "output_type": "stream",
     "text": [
      "f1\n",
      "Current feature:  ATR_5\n",
      "transform:  ['Normalized', 50]\n",
      "f2\n",
      "Current feature:  RSI_2\n",
      "transform:  ['Normalized', 50]\n",
      "f3\n",
      "Current feature:  DeltaATRratio_S2_L10\n",
      "transform:  ['Scaler', 'robust']\n",
      "f4\n",
      "Current feature:  ATRratio_S10_L30\n",
      "transform:  ['Normalized', 50]\n",
      "f5\n",
      "Current feature:  ATRratio_S10_L30_Normalized\n",
      "transform:  ['Normalized', 50]\n",
      "f6\n",
      "Current feature:  PPO_f12_s26\n",
      "transform:  ['Normalized', 50]\n",
      "f7\n",
      "Current feature:  CMO_10\n",
      "transform:  ['Normalized', 50]\n",
      "f8\n",
      "Current feature:  CCI_10\n",
      "transform:  ['Normalized', 50]\n",
      "f9\n",
      "Current feature:  ROC_10\n",
      "transform:  ['Normalized', 50]\n"
     ]
    }
   ],
   "source": [
    "input_dict = {} # initialize\n",
    "input_dict = {'f1': \n",
    "          {'fname' : 'ATR', \n",
    "           'params' : [5],\n",
    "           'transform' : ['Normalized', 50]\n",
    "           },\n",
    "          'f2': \n",
    "          {'fname' : 'RSI', \n",
    "           'params' : [2],\n",
    "           'transform' : ['Normalized', 50]\n",
    "           },\n",
    "          'f3': \n",
    "          {'fname' : 'DeltaATRRatio', \n",
    "           'params' : [2, 10],\n",
    "           'transform' : ['Scaler', 'robust']\n",
    "           },\n",
    "          'f4': \n",
    "          {'fname' : 'ATRRatio', \n",
    "           'params' : [10, 30],\n",
    "           'transform' : ['Normalized', 50]\n",
    "           },\n",
    "          'f5': \n",
    "          {'fname' : 'Lag', \n",
    "           'params' : ['Close', 3],\n",
    "           'transform' : ['Normalized', 50]\n",
    "           },\n",
    "          'f6': \n",
    "          {'fname' : 'PPO', \n",
    "           'params' : [12, 26],\n",
    "           'transform' : ['Normalized', 50]\n",
    "           },\n",
    "          'f7': \n",
    "          {'fname' : 'CMO', \n",
    "           'params' : [10],\n",
    "           'transform' : ['Normalized', 50]\n",
    "           },\n",
    "          'f8': \n",
    "          {'fname' : 'CCI', \n",
    "           'params' : [10],\n",
    "           'transform' : ['Normalized', 50]\n",
    "           },\n",
    "          'f9': \n",
    "          {'fname' : 'ROC', \n",
    "           'params' : [10],\n",
    "           'transform' : ['Normalized', 50]\n",
    "           }\n",
    "         }        \n",
    "dataSet = featureGen.generate_features(dataSet, input_dict)"
   ]
  },
  {
   "cell_type": "markdown",
   "metadata": {},
   "source": [
    "### Load processing dates for IS and OOS; set start date for model analysis"
   ]
  },
  {
   "cell_type": "code",
   "execution_count": 7,
   "metadata": {},
   "outputs": [
    {
     "name": "stdout",
     "output_type": "stream",
     "text": [
      "                    Segments:  2\n",
      "                IS OOS Ratio:  3\n",
      "                  OOS months:  4\n",
      "                   IS Months:  12\n",
      "              Months to load:  28\n",
      "              Data Load Date:  2016-07-02\n",
      "              IS Start  Date:  2016-08-02\n",
      "              OOS Start Date:  2017-08-02\n",
      "                  Pivot Date:  2018-04-02\n",
      "Issue: TLT\n",
      "Start date: 2016-08-02  End date: 2017-08-02\n"
     ]
    }
   ],
   "source": [
    "# set date splits\n",
    "isOosDates = timeUtil.is_oos_data_split(issue, pivotDate, is_oos_ratio, oos_months, segments)\n",
    "dataLoadStartDate = isOosDates[0]\n",
    "is_start_date = isOosDates[1]\n",
    "oos_start_date = isOosDates[2]\n",
    "is_months = isOosDates[3]\n",
    "is_end_date = isOosDates[4]\n",
    "oos_end_date = isOosDates[5]\n",
    "\n",
    "modelStartDate = is_start_date\n",
    "modelEndDate = modelStartDate + relativedelta(months=is_months)\n",
    "print(\"Issue: \" + issue)\n",
    "print(\"Start date: \" + str(modelStartDate) + \"  End date: \" + str(modelEndDate))\n",
    "\n",
    "\n",
    "predictor_vars = \"Temp holding spot\""
   ]
  },
  {
   "cell_type": "markdown",
   "metadata": {},
   "source": [
    "### Split data for analysis and make a copy for Expected Value calcs"
   ]
  },
  {
   "cell_type": "code",
   "execution_count": 8,
   "metadata": {
    "collapsed": true
   },
   "outputs": [],
   "source": [
    "mmData = dataSet[modelStartDate:modelEndDate].copy()\n",
    "nrows = mmData.shape[0]\n",
    "\n",
    "# EV related\n",
    "evData = dataSet[modelStartDate:modelEndDate].copy()\n"
   ]
  },
  {
   "cell_type": "markdown",
   "metadata": {},
   "source": [
    "### Select features to drop including OHL, gainAhead, symbol, Date, Close"
   ]
  },
  {
   "cell_type": "code",
   "execution_count": 9,
   "metadata": {
    "collapsed": true
   },
   "outputs": [],
   "source": [
    "col_vals = [k for k,v in feature_dict.items() if v == 'Drop']\n",
    "to_drop = ['Open','High','Low', 'gainAhead', 'Symbol', 'Date', 'Close']\n",
    "for x in to_drop:\n",
    "    col_vals.append(x)\n",
    "mmData = dSet.drop_columns(mmData, col_vals)\n"
   ]
  },
  {
   "cell_type": "code",
   "execution_count": 10,
   "metadata": {},
   "outputs": [
    {
     "name": "stdout",
     "output_type": "stream",
     "text": [
      "              Volume  ATR_5_Normalized  RSI_2_Normalized  \\\n",
      "2016-08-02  10051207          0.691147          0.179089   \n",
      "2016-08-03   4930593          0.586599          0.222015   \n",
      "2016-08-04   5645951          0.612027          0.513696   \n",
      "2016-08-05   7778635          0.615324          0.248952   \n",
      "2016-08-08   5185234          0.537933          0.326083   \n",
      "\n",
      "            DeltaATRratio_S2_L10_Scaled  Close_lag1  Close_lag2  Close_lag3  \\\n",
      "2016-08-02                     0.595746      139.77      141.56      140.39   \n",
      "2016-08-03                     0.778238      138.33      139.77      141.56   \n",
      "2016-08-04                     0.723425      138.41      138.33      139.77   \n",
      "2016-08-05                     0.718940      139.45      138.41      138.33   \n",
      "2016-08-08                     0.780335      138.00      139.45      138.41   \n",
      "\n",
      "            ATRratio_S10_L30_Normalized_Normalized  PPO_f12_s26_Normalized  \\\n",
      "2016-08-02                                0.587817                0.075076   \n",
      "2016-08-03                                0.653159                0.092431   \n",
      "2016-08-04                                0.652312                0.105268   \n",
      "2016-08-05                                0.663411                0.118087   \n",
      "2016-08-08                                0.694617                0.126161   \n",
      "\n",
      "            CMO_10_Normalized  CCI_10_Normalized  ROC_10_Normalized  \n",
      "2016-08-02           0.224077           0.216045           0.317696  \n",
      "2016-08-03           0.231328           0.213369           0.377150  \n",
      "2016-08-04           0.336373           0.391955           0.433757  \n",
      "2016-08-05           0.211390           0.182807           0.310497  \n",
      "2016-08-08           0.235189           0.170390           0.333766  \n"
     ]
    }
   ],
   "source": [
    "######################\n",
    "# ML section\n",
    "######################\n",
    "#  Make 'iterations' index vectors for the train-test split\n",
    "iterations = 100\n",
    "tscv = TimeSeriesSplit(n_splits=10)\n",
    "\n",
    "dX, dy = modelUtil.prepare_for_classification(mmData)        \n",
    "\n",
    "tscv = TimeSeriesSplit(n_splits=6, max_train_size=24)\n",
    "\n",
    "#predictor_vars = \"convert info_dict to columns to insert\"\n",
    "model_results = []\n",
    "\n",
    "mmData = dSet.drop_columns(mmData, 'beLong')\n",
    "print(mmData.head())"
   ]
  },
  {
   "cell_type": "markdown",
   "metadata": {},
   "source": [
    "#### 8 different classification algorithms\n",
    "\n",
    "* Decision tree\n",
    "* RandomForest - Ensemble method\n",
    "* XGBoost\n",
    "* SVM (Support Vector Machine) Classifier\n",
    "* Nearest Neighbors Classifier\n",
    "* SGD (Stochastic Gradient Descent) classifier\n",
    "* Gaussian Naive Bayes\n",
    "* MLP (Multi-layer Perceptron) Neural network"
   ]
  },
  {
   "cell_type": "code",
   "execution_count": 11,
   "metadata": {
    "collapsed": true
   },
   "outputs": [],
   "source": [
    "def setRFClass(**parameters):\n",
    "    if parameters is not None:\n",
    "        params_used = parameters\n",
    "    model = RandomForestClassifier(n_jobs=-1,\n",
    "                                   random_state=55,\n",
    "                                   oob_score = 'TRUE',\n",
    "                                   **parameters\n",
    "                                   )\n",
    "    print(model)\n",
    "    return model"
   ]
  },
  {
   "cell_type": "code",
   "execution_count": 12,
   "metadata": {
    "collapsed": true
   },
   "outputs": [],
   "source": [
    "def setKNNClass(**parameters):\n",
    "    if parameters is not None:\n",
    "        params_used = parameters\n",
    "    model = KNeighborsClassifier(**parameters)\n",
    "    print(model)\n",
    "    return model"
   ]
  },
  {
   "cell_type": "code",
   "execution_count": 13,
   "metadata": {},
   "outputs": [],
   "source": [
    "def setSVMClass(**parameters):\n",
    "    if parameters is not None:\n",
    "        params_used = parameters\n",
    "    model = svm.SVC(shrinking=True,\n",
    "                    random_state=0,\n",
    "                    gamma='auto',\n",
    "                    kernel='linear',\n",
    "                    **parameters\n",
    "                   )\n",
    "    print(model)\n",
    "    return model"
   ]
  },
  {
   "cell_type": "code",
   "execution_count": 14,
   "metadata": {
    "collapsed": true
   },
   "outputs": [],
   "source": [
    "def setAdaBoostClass(**parameters):\n",
    "    if parameters is not None:\n",
    "        params_used = parameters\n",
    "    model = AdaBoostClassifier(base_estimator = DecisionTreeClassifier(max_depth=10),\n",
    "                               **parameters\n",
    "                               )\n",
    "    print(model)\n",
    "    return model"
   ]
  },
  {
   "cell_type": "code",
   "execution_count": 15,
   "metadata": {
    "collapsed": true
   },
   "outputs": [],
   "source": [
    "def setGTBClass(**parameters):\n",
    "    if parameters is not None:\n",
    "        params_used = parameters\n",
    "    model = GradientBoostingClassifier(**parameters)\n",
    "    print(model)\n",
    "    return model"
   ]
  },
  {
   "cell_type": "code",
   "execution_count": 16,
   "metadata": {
    "collapsed": true
   },
   "outputs": [],
   "source": [
    "def setQDAClass(**parameters):\n",
    "    if parameters is not None:\n",
    "        params_used = parameters\n",
    "    model = QuadraticDiscriminantAnalysis(**parameters)\n",
    "    print(model)\n",
    "    return model"
   ]
  },
  {
   "cell_type": "code",
   "execution_count": 17,
   "metadata": {},
   "outputs": [
    {
     "name": "stdout",
     "output_type": "stream",
     "text": [
      "RandomForestClassifier(bootstrap=True, class_weight=None, criterion='gini',\n",
      "            max_depth=None, max_features='auto', max_leaf_nodes=None,\n",
      "            min_impurity_decrease=0.0, min_impurity_split=None,\n",
      "            min_samples_leaf=1, min_samples_split=20,\n",
      "            min_weight_fraction_leaf=0.0, n_estimators=200, n_jobs=-1,\n",
      "            oob_score='TRUE', random_state=55, verbose=0, warm_start=False)\n"
     ]
    }
   ],
   "source": [
    "modelname = \"RF\"\n",
    "model = setRFClass(min_samples_split=20, n_estimators=200)"
   ]
  },
  {
   "cell_type": "code",
   "execution_count": 18,
   "metadata": {},
   "outputs": [
    {
     "name": "stdout",
     "output_type": "stream",
     "text": [
      "KNeighborsClassifier(algorithm='auto', leaf_size=30, metric='minkowski',\n",
      "           metric_params=None, n_jobs=None, n_neighbors=5, p=2,\n",
      "           weights='uniform')\n"
     ]
    }
   ],
   "source": [
    "modelname = \"KNN\"\n",
    "model = setKNNClass(n_neighbors=5)"
   ]
  },
  {
   "cell_type": "code",
   "execution_count": 19,
   "metadata": {},
   "outputs": [
    {
     "name": "stdout",
     "output_type": "stream",
     "text": [
      "SVC(C=0.1, cache_size=200, class_weight=None, coef0=0.0,\n",
      "  decision_function_shape='ovr', degree=3, gamma='auto', kernel='linear',\n",
      "  max_iter=-1, probability=False, random_state=0, shrinking=True,\n",
      "  tol=0.001, verbose=False)\n"
     ]
    }
   ],
   "source": [
    "modelname = \"SVM\"\n",
    "model = setSVMClass(C=0.1)"
   ]
  },
  {
   "cell_type": "code",
   "execution_count": 20,
   "metadata": {},
   "outputs": [
    {
     "name": "stdout",
     "output_type": "stream",
     "text": [
      "AdaBoostClassifier(algorithm='SAMME.R',\n",
      "          base_estimator=DecisionTreeClassifier(class_weight=None, criterion='gini', max_depth=10,\n",
      "            max_features=None, max_leaf_nodes=None,\n",
      "            min_impurity_decrease=0.0, min_impurity_split=None,\n",
      "            min_samples_leaf=1, min_samples_split=2,\n",
      "            min_weight_fraction_leaf=0.0, presort=False, random_state=None,\n",
      "            splitter='best'),\n",
      "          learning_rate=0.2, n_estimators=500, random_state=None)\n"
     ]
    }
   ],
   "source": [
    "modelname = \"AdaBoost\"\n",
    "model = setAdaBoostClass(learning_rate=0.2, n_estimators=500)"
   ]
  },
  {
   "cell_type": "code",
   "execution_count": 21,
   "metadata": {},
   "outputs": [
    {
     "name": "stdout",
     "output_type": "stream",
     "text": [
      "GradientBoostingClassifier(criterion='friedman_mse', init=None,\n",
      "              learning_rate=0.05, loss='deviance', max_depth=6,\n",
      "              max_features=None, max_leaf_nodes=None,\n",
      "              min_impurity_decrease=0.0, min_impurity_split=None,\n",
      "              min_samples_leaf=1, min_samples_split=2,\n",
      "              min_weight_fraction_leaf=0.0, n_estimators=10,\n",
      "              n_iter_no_change=None, presort='auto', random_state=None,\n",
      "              subsample=0.5, tol=0.0001, validation_fraction=0.1,\n",
      "              verbose=0, warm_start=False)\n"
     ]
    }
   ],
   "source": [
    "modelname = \"Gradient Tree Boosting\"\n",
    "model = setGTBClass(learning_rate=0.05, subsample=0.5, max_depth=6, n_estimators=10)"
   ]
  },
  {
   "cell_type": "code",
   "execution_count": 22,
   "metadata": {},
   "outputs": [
    {
     "name": "stdout",
     "output_type": "stream",
     "text": [
      "QuadraticDiscriminantAnalysis(priors=None, reg_param=0.0,\n",
      "               store_covariance=False, store_covariances=None, tol=0.0001)\n"
     ]
    }
   ],
   "source": [
    "modelname = \"Quadratic Discriminant Analysis\"\n",
    "model = setQDAClass()"
   ]
  },
  {
   "cell_type": "markdown",
   "metadata": {},
   "source": [
    "#### Get feature importance for model"
   ]
  },
  {
   "cell_type": "code",
   "execution_count": 23,
   "metadata": {
    "collapsed": true
   },
   "outputs": [],
   "source": [
    "def get_feature_importance(clf, model_name):\n",
    "        clfs = {'RF':'feature_importances',\n",
    "                'ExtraTreesClassifier': 'feature_importances',\n",
    "                'AdaBoostClassifier': 'feature_importances',\n",
    "                'LogisticRegression': 'coef',\n",
    "                'SVM': 'coef',\n",
    "                'GTB': 'feature_importances',\n",
    "                'GaussianNB': None,\n",
    "                'DecisionTreeClassifier': 'feature_importances',\n",
    "                'SGDClassifier': 'coef',\n",
    "                'KNN': None,\n",
    "                'linear.SVC': 'coef'}\n",
    "\n",
    "        if clfs[model_name] == 'feature_importances':\n",
    "            return  clf.feature_importances_.ravel()\n",
    "        elif clfs[model_name] == 'coef':\n",
    "            return  clf.coef_.ravel()\n",
    "        else:\n",
    "            return None"
   ]
  },
  {
   "cell_type": "markdown",
   "metadata": {},
   "source": [
    "#### Loop through various models and get feature importance for each"
   ]
  },
  {
   "cell_type": "code",
   "execution_count": null,
   "metadata": {},
   "outputs": [],
   "source": [
    "def plot_coefficients(classifier_coef, feature_names, top_features=20):\n",
    "     top_features = int(top_features/2)\n",
    "     coef = classifier_coef\n",
    "     top_positive_coefficients = np.argsort(coef)[-top_features:]\n",
    "     top_negative_coefficients = np.argsort(coef)[:top_features]\n",
    "     top_coefficients = np.hstack([top_negative_coefficients, top_positive_coefficients])\n",
    "     #top_coefficients = np.argsort(coef)[feature_names]\n",
    "     # create plot\n",
    "     plt.figure(figsize=(10, 4))\n",
    "     colors = ['red' if c < 0 else 'blue' for c in coef[top_coefficients]]\n",
    "     plt.bar(np.arange(2 * top_features), coef[top_coefficients], color=colors)\n",
    "     feature_names = np.array(feature_names)\n",
    "     plt.xticks(np.arange(0, 1 + 2 * top_features), feature_names[top_coefficients], rotation=60, ha='right')\n",
    "     plt.show()"
   ]
  },
  {
   "cell_type": "code",
   "execution_count": null,
   "metadata": {},
   "outputs": [
    {
     "name": "stdout",
     "output_type": "stream",
     "text": [
      "RandomForestClassifier(bootstrap=True, class_weight=None, criterion='gini',\n",
      "            max_depth=None, max_features=None, max_leaf_nodes=None,\n",
      "            min_impurity_decrease=0.0, min_impurity_split=None,\n",
      "            min_samples_leaf=1, min_samples_split=20,\n",
      "            min_weight_fraction_leaf=0.0, n_estimators=200, n_jobs=-1,\n",
      "            oob_score='TRUE', random_state=55, verbose=0, warm_start=False)\n",
      "KNeighborsClassifier(algorithm='auto', leaf_size=30, metric='minkowski',\n",
      "           metric_params=None, n_jobs=None, n_neighbors=5, p=2,\n",
      "           weights='uniform')\n",
      "GradientBoostingClassifier(criterion='friedman_mse', init=None,\n",
      "              learning_rate=0.05, loss='deviance', max_depth=6,\n",
      "              max_features=None, max_leaf_nodes=None,\n",
      "              min_impurity_decrease=0.0, min_impurity_split=None,\n",
      "              min_samples_leaf=1, min_samples_split=2,\n",
      "              min_weight_fraction_leaf=0.0, n_estimators=10,\n",
      "              n_iter_no_change=None, presort='auto', random_state=None,\n",
      "              subsample=0.5, tol=0.0001, validation_fraction=0.1,\n",
      "              verbose=0, warm_start=False)\n",
      "SVC(C=1, cache_size=200, class_weight=None, coef0=0.0,\n",
      "  decision_function_shape='ovr', degree=3, gamma='auto', kernel='linear',\n",
      "  max_iter=-1, probability=False, random_state=0, shrinking=True,\n",
      "  tol=0.001, verbose=False)\n",
      "======== RF =========\n"
     ]
    },
    {
     "data": {
      "image/png": "[encoded data removed]",
      "text/plain": [
       "<Figure size 720x288 with 1 Axes>"
      ]
     },
     "metadata": {},
     "output_type": "display_data"
    },
    {
     "name": "stdout",
     "output_type": "stream",
     "text": [
      "======== KNN =========\n",
      "======== GTB =========\n"
     ]
    },
    {
     "data": {
      "image/png": "[encoded data removed]",
      "text/plain": [
       "<Figure size 720x288 with 1 Axes>"
      ]
     },
     "metadata": {},
     "output_type": "display_data"
    }
   ],
   "source": [
    "to_model = {\"RF\": setRFClass(min_samples_split=20, n_estimators=200, max_features=None), \n",
    "            \"KNN\": setKNNClass(n_neighbors=5),\n",
    "            \"GTB\": setGTBClass(learning_rate=0.05, subsample=0.5, max_depth=6, n_estimators=10),\n",
    "            \"SVM\": setSVMClass(C=1)}\n",
    "\n",
    "names = mmData.columns.values[0:]\n",
    "\n",
    "for key, value in to_model.items():\n",
    "    modelname = key\n",
    "    model = value\n",
    "    model.fit(dX, dy)\n",
    "    fi = get_feature_importance(model, modelname)\n",
    "    print(\"======== \" + modelname + \" =========\")\n",
    "    if fi is not None:\n",
    "        #zipped = zip(names, fi)\n",
    "        #print(sorted(zipped, key=lambda x: x[1], reverse=True))\n",
    "#         fi,names = zip(*sorted(zip(fi,names)))\n",
    "#         plt.bar(range(len(names)), fi, align='center')\n",
    "#         plt.xticks(range(len(names)), names)\n",
    "#         plt.show()\n",
    "        plot_coefficients(fi, names, len(names))"
   ]
  },
  {
   "cell_type": "code",
   "execution_count": null,
   "metadata": {
    "collapsed": true
   },
   "outputs": [],
   "source": []
  }
 ],
 "metadata": {
  "kernelspec": {
   "display_name": "Python 3",
   "language": "python",
   "name": "python3"
  },
  "language_info": {
   "codemirror_mode": {
    "name": "ipython",
    "version": 3
   },
   "file_extension": ".py",
   "mimetype": "text/x-python",
   "name": "python",
   "nbconvert_exporter": "python",
   "pygments_lexer": "ipython3",
   "version": "3.6.6"
  }
 },
 "nbformat": 4,
 "nbformat_minor": 2
}
