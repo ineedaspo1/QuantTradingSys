{
 "cells": [
  {
   "cell_type": "markdown",
   "metadata": {},
   "source": [
    "## Analyzing In sample model analysis with deeper level analysis of confusion matrix"
   ]
  },
  {
   "cell_type": "code",
   "execution_count": 1,
   "metadata": {
    "collapsed": true
   },
   "outputs": [],
   "source": [
    "%matplotlib inline"
   ]
  },
  {
   "cell_type": "code",
   "execution_count": 2,
   "metadata": {},
   "outputs": [
    {
     "name": "stderr",
     "output_type": "stream",
     "text": [
      "C:\\ProgramData\\Anaconda3\\lib\\site-packages\\statsmodels\\compat\\pandas.py:56: FutureWarning: The pandas.core.datetools module is deprecated and will be removed in a future version. Please use the pandas.tseries module instead.\n",
      "  from pandas.core import datetools\n"
     ]
    }
   ],
   "source": [
    "import json\n",
    "\n",
    "from Code.lib.plot_utils import PlotUtility\n",
    "from Code.lib.time_utils import TimeUtility\n",
    "from Code.lib.retrieve_data import DataRetrieve, ComputeTarget\n",
    "from Code.lib.candle_indicators import CandleIndicators\n",
    "from Code.lib.transformers import Transformers\n",
    "from Code.lib.ta_momentum_studies import TALibMomentumStudies\n",
    "from Code.lib.model_utils import ModelUtility, TimeSeriesSplitImproved\n",
    "from Code.lib.feature_generator import FeatureGenerator\n",
    "from Code.utilities.stat_tests import stationarity_tests\n",
    "from Code.lib.config import current_feature, feature_dict\n",
    "from Code.models import models_utils"
   ]
  },
  {
   "cell_type": "code",
   "execution_count": 3,
   "metadata": {
    "collapsed": true
   },
   "outputs": [],
   "source": [
    "import pandas as pd\n",
    "import numpy as np\n",
    "np.set_printoptions(precision=2)\n",
    "import datetime\n",
    "from dateutil.relativedelta import relativedelta\n",
    "import matplotlib.pylab as plt\n",
    "from pandas.tseries.offsets import BDay\n",
    "import os.path\n",
    "import pickle"
   ]
  },
  {
   "cell_type": "code",
   "execution_count": 4,
   "metadata": {},
   "outputs": [],
   "source": [
    "from sklearn.model_selection import StratifiedShuffleSplit, TimeSeriesSplit\n",
    "from sklearn import svm\n",
    "from sklearn.ensemble import RandomForestClassifier, AdaBoostClassifier, GradientBoostingClassifier\n",
    "from sklearn.discriminant_analysis import QuadraticDiscriminantAnalysis\n",
    "from sklearn.neighbors import KNeighborsClassifier\n",
    "from sklearn.tree import DecisionTreeClassifier\n",
    "from sklearn.metrics import confusion_matrix, accuracy_score, precision_score, recall_score, f1_score"
   ]
  },
  {
   "cell_type": "markdown",
   "metadata": {},
   "source": [
    "### Load issue data and set date range\n",
    "Pivot date is last date and time segments calculated by OOS months and IS-OOS ratio"
   ]
  },
  {
   "cell_type": "code",
   "execution_count": 5,
   "metadata": {},
   "outputs": [
    {
     "name": "stdout",
     "output_type": "stream",
     "text": [
      "Successfully retrieved data series for TLT\n"
     ]
    }
   ],
   "source": [
    "plotIt = PlotUtility()\n",
    "timeUtil = TimeUtility()\n",
    "ct = ComputeTarget()\n",
    "candle_ind = CandleIndicators()\n",
    "dSet = DataRetrieve()\n",
    "taLibMomSt = TALibMomentumStudies()\n",
    "transf = Transformers()\n",
    "modelUtil = ModelUtility()\n",
    "featureGen = FeatureGenerator()\n",
    "    \n",
    "issue = \"TLT\"\n",
    "# Set IS-OOS parameters\n",
    "pivotDate = datetime.date(2018, 4, 2)\n",
    "is_oos_ratio = 3\n",
    "oos_months = 4\n",
    "segments = 2\n",
    "\n",
    "dataSet = dSet.read_issue_data(issue)\n",
    "\n",
    "# get first data from loaded data instead of hard coding start date\n",
    "dataSet = dSet.set_date_range(dataSet, \"2014-09-26\", pivotDate)\n",
    "\n",
    "#set beLong level\n",
    "beLongThreshold = 0.000\n",
    "dataSet = ct.setTarget(dataSet, \"Long\", beLongThreshold)"
   ]
  },
  {
   "cell_type": "markdown",
   "metadata": {},
   "source": [
    "### Set features\n",
    "Features should be normalized..."
   ]
  },
  {
   "cell_type": "code",
   "execution_count": 6,
   "metadata": {},
   "outputs": [
    {
     "name": "stdout",
     "output_type": "stream",
     "text": [
      "f1\n",
      "Current feature:  ATR_5\n",
      "transform:  ['Normalized', 50]\n",
      "f2\n",
      "Current feature:  RSI_2\n",
      "transform:  ['Normalized', 50]\n",
      "f3\n",
      "Current feature:  DeltaATRratio_S2_L10\n",
      "transform:  ['Scaler', 'robust']\n"
     ]
    }
   ],
   "source": [
    "input_dict = {} # initialize\n",
    "input_dict = {'f1': \n",
    "          {'fname' : 'ATR', \n",
    "           'params' : [5],\n",
    "           'transform' : ['Normalized', 50]\n",
    "           },\n",
    "          'f2': \n",
    "          {'fname' : 'RSI', \n",
    "           'params' : [2],\n",
    "           'transform' : ['Normalized', 50]\n",
    "           },\n",
    "          'f3': \n",
    "          {'fname' : 'DeltaATRRatio', \n",
    "           'params' : [2, 10],\n",
    "           'transform' : ['Scaler', 'robust']\n",
    "           }\n",
    "         }    \n",
    "dataSet2 = featureGen.generate_features(dataSet, input_dict)"
   ]
  },
  {
   "cell_type": "markdown",
   "metadata": {},
   "source": [
    "### Load processing dates for IS and OOS; set start date for model analysis"
   ]
  },
  {
   "cell_type": "code",
   "execution_count": 7,
   "metadata": {},
   "outputs": [
    {
     "name": "stdout",
     "output_type": "stream",
     "text": [
      "                    Segments:  2\n",
      "                IS OOS Ratio:  3\n",
      "                  OOS months:  4\n",
      "                   IS Months:  12\n",
      "              Months to load:  28\n",
      "              Data Load Date:  2016-07-02\n",
      "              IS Start  Date:  2016-08-02\n",
      "              OOS Start Date:  2017-08-02\n",
      "                  Pivot Date:  2018-04-02\n",
      "Issue: TLT\n",
      "Start date: 2016-08-02  End date: 2017-08-02\n"
     ]
    }
   ],
   "source": [
    "# set date splits\n",
    "isOosDates = timeUtil.is_oos_data_split(issue, pivotDate, is_oos_ratio, oos_months, segments)\n",
    "dataLoadStartDate = isOosDates[0]\n",
    "is_start_date = isOosDates[1]\n",
    "oos_start_date = isOosDates[2]\n",
    "is_months = isOosDates[3]\n",
    "is_end_date = isOosDates[4]\n",
    "oos_end_date = isOosDates[5]\n",
    "\n",
    "modelStartDate = is_start_date\n",
    "modelEndDate = modelStartDate + relativedelta(months=is_months)\n",
    "print(\"Issue: \" + issue)\n",
    "print(\"Start date: \" + str(modelStartDate) + \"  End date: \" + str(modelEndDate))\n",
    "\n",
    "\n",
    "predictor_vars = \"Temp holding spot\""
   ]
  },
  {
   "cell_type": "markdown",
   "metadata": {},
   "source": [
    "### Split data for analysis and make a copy for Expected Value calcs"
   ]
  },
  {
   "cell_type": "code",
   "execution_count": 8,
   "metadata": {
    "collapsed": true
   },
   "outputs": [],
   "source": [
    "mmData = dataSet[modelStartDate:modelEndDate].copy()\n",
    "nrows = mmData.shape[0]\n",
    "\n",
    "# EV related\n",
    "evData = dataSet[modelStartDate:modelEndDate].copy()\n"
   ]
  },
  {
   "cell_type": "markdown",
   "metadata": {},
   "source": [
    "### Plot data under analysis"
   ]
  },
  {
   "cell_type": "code",
   "execution_count": 9,
   "metadata": {},
   "outputs": [
    {
     "data": {
      "image/png": "[encoded data removed]",
      "text/plain": [
       "<Figure size 720x432 with 2 Axes>"
      ]
     },
     "metadata": {},
     "output_type": "display_data"
    },
    {
     "data": {
      "image/png": "[encoded data removed]",
      "text/plain": [
       "<Figure size 432x144 with 1 Axes>"
      ]
     },
     "metadata": {},
     "output_type": "display_data"
    }
   ],
   "source": [
    "plotTitle = issue + \", \" + str(modelStartDate) + \" to \" + str(modelEndDate)\n",
    "plotIt.plot_v2x(mmData, plotTitle)\n",
    "plotIt.histogram(mmData['beLong'],\n",
    "                 x_label=\"beLong signal\",\n",
    "                 y_label=\"Frequency\",\n",
    "                 title = \"beLong distribution for \" + issue\n",
    "                 )        \n",
    "plt.show(block=False)"
   ]
  },
  {
   "cell_type": "markdown",
   "metadata": {},
   "source": [
    "### Evaluation stationarity of Close"
   ]
  },
  {
   "cell_type": "code",
   "execution_count": 10,
   "metadata": {},
   "outputs": [
    {
     "name": "stdout",
     "output_type": "stream",
     "text": [
      "=============================================================\n",
      "\n",
      "====== ADF Test for Stationarity for  Close =======\n",
      "Issue:  TLT\n",
      "Start Date:  2016-08-02\n",
      "End Date:  2017-08-02\n",
      "\n",
      "ADF Statistic: -1.842918\n",
      "p-value: 0.359372\n",
      "** The series is likely non-stationary **\n",
      "Critical Values:\n",
      "\t1%: -3.457\n",
      "\t5%: -2.873\n",
      "\t10%: -2.573\n",
      "\n",
      "====== Hurst Exponent Test ======\n",
      "Hurst(GBM):   0.506\n",
      "Hurst(MR):    -0.001\n",
      "Hurst(TR):    0.916\n",
      "Hurst(TLT):   0.496\n",
      "========================================\n"
     ]
    }
   ],
   "source": [
    "stationarity_tests(mmData, 'Close', issue)"
   ]
  },
  {
   "cell_type": "markdown",
   "metadata": {},
   "source": [
    "### Evaluate stationarity of features\n"
   ]
  },
  {
   "cell_type": "code",
   "execution_count": 11,
   "metadata": {},
   "outputs": [
    {
     "name": "stdout",
     "output_type": "stream",
     "text": [
      "=============================================================\n",
      "\n",
      "====== ADF Test for Stationarity for  ATR_5_Normalized =======\n",
      "Issue:  TLT\n",
      "Start Date:  2016-08-02\n",
      "End Date:  2017-08-02\n",
      "\n",
      "ADF Statistic: -3.587153\n",
      "p-value: 0.006011\n",
      "** The series is likely stationary **\n",
      "Critical Values:\n",
      "\t1%: -3.457\n",
      "\t5%: -2.873\n",
      "\t10%: -2.573\n",
      "\n",
      "====== Hurst Exponent Test ======\n",
      "Hurst(GBM):   0.503\n",
      "Hurst(MR):    -0.000\n",
      "Hurst(TR):    0.910\n",
      "Hurst(TLT):   0.496\n",
      "========================================\n",
      "=============================================================\n",
      "\n",
      "====== ADF Test for Stationarity for  RSI_2_Normalized =======\n",
      "Issue:  TLT\n",
      "Start Date:  2016-08-02\n",
      "End Date:  2017-08-02\n",
      "\n",
      "ADF Statistic: -6.392331\n",
      "p-value: 0.000000\n",
      "** The series is likely stationary **\n",
      "Critical Values:\n",
      "\t1%: -3.457\n",
      "\t5%: -2.873\n",
      "\t10%: -2.573\n",
      "\n",
      "====== Hurst Exponent Test ======\n",
      "Hurst(GBM):   0.504\n",
      "Hurst(MR):    0.001\n",
      "Hurst(TR):    0.914\n",
      "Hurst(TLT):   0.072\n",
      "========================================\n",
      "=============================================================\n",
      "\n",
      "====== ADF Test for Stationarity for  DeltaATRratio_S2_L10_Scaled =======\n",
      "Issue:  TLT\n",
      "Start Date:  2016-08-02\n",
      "End Date:  2017-08-02\n",
      "\n",
      "ADF Statistic: -9.620492\n",
      "p-value: 0.000000\n",
      "** The series is likely stationary **\n",
      "Critical Values:\n",
      "\t1%: -3.457\n",
      "\t5%: -2.873\n",
      "\t10%: -2.573\n",
      "\n",
      "====== Hurst Exponent Test ======\n",
      "Hurst(GBM):   0.504\n",
      "Hurst(MR):    -0.000\n",
      "Hurst(TR):    0.913\n",
      "Hurst(TLT):   0.032\n",
      "========================================\n"
     ]
    }
   ],
   "source": [
    "#stationarity_tests(mmData, 'Close', issue)\n",
    "\n",
    "cols = [k for k,v in feature_dict.items() if v == 'Keep']\n",
    "for x in cols:\n",
    "    stationarity_tests(mmData, x, issue)"
   ]
  },
  {
   "cell_type": "markdown",
   "metadata": {},
   "source": [
    "### Select features to drop including OHL, gainAhead, symbol, Date, Close"
   ]
  },
  {
   "cell_type": "code",
   "execution_count": 12,
   "metadata": {
    "collapsed": true
   },
   "outputs": [],
   "source": [
    "col_vals = [k for k,v in feature_dict.items() if v == 'Drop']\n",
    "to_drop = ['Open','High','Low', 'gainAhead', 'Symbol', 'Date', 'Close']\n",
    "for x in to_drop:\n",
    "    col_vals.append(x)\n",
    "mmData = dSet.drop_columns(mmData, col_vals)"
   ]
  },
  {
   "cell_type": "markdown",
   "metadata": {},
   "source": [
    "### Plot correlation matrix\n",
    "Improve this to identify and drop features with corr value higher than 0.3\n",
    "Look at other methods to identify features and their contribution"
   ]
  },
  {
   "cell_type": "code",
   "execution_count": 13,
   "metadata": {},
   "outputs": [
    {
     "data": {
      "image/png": "[encoded data removed]",
      "text/plain": [
       "<Figure size 720x720 with 2 Axes>"
      ]
     },
     "metadata": {},
     "output_type": "display_data"
    }
   ],
   "source": [
    "plotIt.correlation_matrix(mmData)"
   ]
  },
  {
   "cell_type": "markdown",
   "metadata": {},
   "source": [
    "### Function to define CM results and details of other measures\n",
    "Organize by most important\n",
    "##### Accuracy (also Rate of Correctness)\n",
    "Percentage of accurate predictions\n",
    "##### Precision\n",
    "Positive predicted value(PPV)\n",
    "#### Rate of Missing Chances (RMC)\n",
    "FN / # of true instances\n",
    "#### Rate of Failure (RF)\n",
    "FP / # positive instances \n",
    "##### MCC \n",
    "In essence a correlation coefficient between the observed and predicted binary classifications.\n",
    "It returns a value between −1 and +1. \n",
    "A coefficient of +1 represents a perfect prediction.\n",
    "0 no better than random prediction.\n",
    "−1 indicates total disagreement between prediction and observation.\n",
    "\n",
    "##### Recall (also Sensitivity, Hit Rate, True Positive Rate (TPR))\n",
    "Proportion of actual positives that are correctly identified\n",
    "##### Specificity (also called Selectivity, True Negative Rate (TNR))\n",
    "Proportion of actual negatives that are correctly identified\n",
    "\n",
    "##### Negative Predicted Value (NPV)\n",
    "\n"
   ]
  },
  {
   "cell_type": "code",
   "execution_count": 14,
   "metadata": {
    "collapsed": true
   },
   "outputs": [],
   "source": [
    "def conf_matrix_results(cm_results):\n",
    "    import math\n",
    "    return_cm = ()\n",
    "    tp = cm_results[1,1]\n",
    "    fn = cm_results[1,0]\n",
    "    fp = cm_results[0,1]\n",
    "    tn = cm_results[0,0]\n",
    "    precision = tp/(tp + fp)\n",
    "    recall = tp/(tp + fn)\n",
    "    accuracy = (tp + tn)/(tp + fn + fp + tn)\n",
    "    specificity = tn/(tp+tn)\n",
    "    rmc = fn/(fn+tp)\n",
    "    rf = fp/(fp + tp)\n",
    "    npv = tn/(tn+fn)\n",
    "    f1 = (2.0 * precision * recall) / (precision + recall)\n",
    "    mcc = ((tp*tn) - (fp*fn))/(math.sqrt((tp+fp)*(tp+fn)*(tn+fp)*(tn+fn)))\n",
    "    return_cm = (precision, recall, accuracy, f1)\n",
    "    \n",
    "    print('{0:>30} {1:2.2f}'.format(\"Accuracy: \", accuracy))\n",
    "    print('{0:>30} {1:2.2f}'.format(\"Precision (PPV): \", precision))\n",
    "    print('{0:>30} {1:2.2f}'.format(\"Rate of Missing Chances: \", rmc))\n",
    "    print('{0:>30} {1:2.2f}'.format(\"Rate of Failure: \", rf))\n",
    "    \n",
    "    print('{0:>30} {1:2.2f}'.format(\"Neg Pred Value (NPV): \", npv))\n",
    "    print('{0:>30} {1:2.2f}'.format(\"MCC: \", mcc))\n",
    "\n",
    "    return return_cm"
   ]
  },
  {
   "cell_type": "markdown",
   "metadata": {},
   "source": [
    "#### Function for Confusion Matrix Plot\n",
    "Print CM for totals and percentages"
   ]
  },
  {
   "cell_type": "code",
   "execution_count": 15,
   "metadata": {
    "collapsed": true
   },
   "outputs": [],
   "source": [
    "def cm_plot(cm, type):\n",
    "    plt.clf()\n",
    "    plt.imshow(cm, interpolation='nearest', cmap=plt.cm.Wistia)\n",
    "    classNames = ['Negative','Positive']\n",
    "    plt.title(type + ' beLong Confusion Matrix - Test Data')\n",
    "    plt.ylabel('True label')\n",
    "    plt.xlabel('Predicted label')\n",
    "    tick_marks = np.arange(len(classNames))\n",
    "    plt.xticks(tick_marks, classNames, rotation=45)\n",
    "    plt.yticks(tick_marks, classNames)\n",
    "    s = [['TN','FP'], ['FN', 'TP']]\n",
    "    for i in range(2):\n",
    "        for j in range(2):\n",
    "            # counts\n",
    "            plt.text(j,i, str(s[i][j])+\" = \"+str(cm[i][j])+\"\\n\")\n",
    "            # percentage of total\n",
    "            plt.text(j,i, str('{:.2%}'.format(cm[i][j]/cm.sum())))\n",
    "    plt.show()"
   ]
  },
  {
   "cell_type": "markdown",
   "metadata": {},
   "source": [
    "#### Get average gain/loss from beLong signals\n",
    "Across data set, sum gainAhead and count number signals to provide an average gain (mutiply * 100 to get %)"
   ]
  },
  {
   "cell_type": "code",
   "execution_count": 16,
   "metadata": {
    "collapsed": true
   },
   "outputs": [],
   "source": [
    "def get_evData_avg(evData, signal):\n",
    "    # sum gainAhead of signals\n",
    "    ev_sum = evData.loc[evData['beLong'] == signal, 'gainAhead'].sum()\n",
    "    ev_cnt = evData.loc[evData['beLong'] == signal, 'beLong'].count()\n",
    "    ev_avg = ev_sum/ev_cnt\n",
    "    return ev_avg"
   ]
  },
  {
   "cell_type": "markdown",
   "metadata": {},
   "source": [
    "#### Expected Value\n",
    "Associate the confusion matrix with an expected value using a cost benefit analysis matrix.\n",
    "1. Get probabilities for the confusion matrix\n",
    "2. Retrieve the average returns for the confusion matrix. In this case, the only returns that affect the expected value are the:\n",
    "    * Average gains for TP\n",
    "    * Average losses for FP\n",
    "    * 0 loss used for TN, and FN (FN is a missed opportunity, but no loss)\n",
    "3. Multiply and CB and CM probabilities"
   ]
  },
  {
   "cell_type": "code",
   "execution_count": 17,
   "metadata": {
    "collapsed": true
   },
   "outputs": [],
   "source": [
    "def find_expected_value(cm, cost_benefit):\n",
    "    # if you use a probability matrix instead, this next line will return the same matrix back\n",
    "    #print(\"CB\\n\", cost_benefit)\n",
    "    probabilities = cm / cm.sum()\n",
    "    #print(\"Probabilities:\\n\", probabilities)\n",
    "    ev = probabilities * cost_benefit\n",
    "    #print(\"EV array:\\n\", ev)\n",
    "    return ev.sum()"
   ]
  },
  {
   "cell_type": "code",
   "execution_count": 18,
   "metadata": {
    "collapsed": true
   },
   "outputs": [],
   "source": [
    "######################\n",
    "# ML section\n",
    "######################\n",
    "#  Make 'iterations' index vectors for the train-test split\n",
    "iterations = 100\n",
    "tscv = TimeSeriesSplit(n_splits=10)\n",
    "\n",
    "dX, dy = modelUtil.prepare_for_classification(mmData)        \n",
    "\n",
    "sss = StratifiedShuffleSplit(n_splits=iterations,\n",
    "                             test_size=0.33,\n",
    "                             random_state=None\n",
    "                             )\n",
    "\n",
    "tscv = TimeSeriesSplit(n_splits=6, max_train_size=24)\n",
    "\n",
    "predictor_vars = \"convert info_dict to columns to insert\"\n",
    "model_results = []"
   ]
  },
  {
   "cell_type": "markdown",
   "metadata": {},
   "source": [
    "#### 8 different classification algorithms\n",
    "\n",
    "* Decision tree\n",
    "* RandomForest - Ensemble method\n",
    "* XGBoost\n",
    "* SVM (Support Vector Machine) Classifier\n",
    "* Nearest Neighbors Classifier\n",
    "* SGD (Stochastic Gradient Descent) classifier\n",
    "* Gaussian Naive Bayes\n",
    "* MLP (Multi-layer Perceptron) Neural network"
   ]
  },
  {
   "cell_type": "code",
   "execution_count": 19,
   "metadata": {},
   "outputs": [],
   "source": [
    "def setRFClass(**parameters):\n",
    "    if parameters is not None:\n",
    "        params_used = parameters\n",
    "    model = RandomForestClassifier(n_jobs=-1,\n",
    "                                   random_state=55,\n",
    "                                   oob_score = 'TRUE',\n",
    "                                   **parameters\n",
    "                                   )\n",
    "    print(model)\n",
    "    return model"
   ]
  },
  {
   "cell_type": "code",
   "execution_count": 20,
   "metadata": {
    "collapsed": true
   },
   "outputs": [],
   "source": [
    "def setKNNClass(**parameters):\n",
    "    if parameters is not None:\n",
    "        params_used = parameters\n",
    "    model = KNeighborsClassifier(**parameters)\n",
    "    print(model)\n",
    "    return model"
   ]
  },
  {
   "cell_type": "code",
   "execution_count": 21,
   "metadata": {
    "collapsed": true
   },
   "outputs": [],
   "source": [
    "def setSVMClass(**parameters):\n",
    "    if parameters is not None:\n",
    "        params_used = parameters\n",
    "    model = svm.SVC(shrinking=False,\n",
    "                    random_state=0,\n",
    "                    gamma='scale',\n",
    "                    **parameters\n",
    "                   )\n",
    "    print(model)\n",
    "    return model"
   ]
  },
  {
   "cell_type": "code",
   "execution_count": 22,
   "metadata": {
    "collapsed": true
   },
   "outputs": [],
   "source": [
    "def setAdaBoostClass(**parameters):\n",
    "    if parameters is not None:\n",
    "        params_used = parameters\n",
    "    model = AdaBoostClassifier(base_estimator = DecisionTreeClassifier(max_depth=10),\n",
    "                               **parameters\n",
    "                               )\n",
    "    print(model)\n",
    "    return model"
   ]
  },
  {
   "cell_type": "code",
   "execution_count": 23,
   "metadata": {
    "collapsed": true
   },
   "outputs": [],
   "source": [
    "def setGTBClass(**parameters):\n",
    "    if parameters is not None:\n",
    "        params_used = parameters\n",
    "    model = GradientBoostingClassifier(**parameters)\n",
    "    print(model)\n",
    "    return model"
   ]
  },
  {
   "cell_type": "code",
   "execution_count": 24,
   "metadata": {
    "collapsed": true
   },
   "outputs": [],
   "source": [
    "def setQDAClass(**parameters):\n",
    "    if parameters is not None:\n",
    "        params_used = parameters\n",
    "    model = QuadraticDiscriminantAnalysis(**parameters)\n",
    "    print(model)\n",
    "    return model"
   ]
  },
  {
   "cell_type": "code",
   "execution_count": 27,
   "metadata": {},
   "outputs": [
    {
     "name": "stdout",
     "output_type": "stream",
     "text": [
      "RandomForestClassifier(bootstrap=True, class_weight=None, criterion='gini',\n",
      "            max_depth=None, max_features='auto', max_leaf_nodes=None,\n",
      "            min_impurity_decrease=0.0, min_impurity_split=None,\n",
      "            min_samples_leaf=1, min_samples_split=20,\n",
      "            min_weight_fraction_leaf=0.0, n_estimators=200, n_jobs=-1,\n",
      "            oob_score='TRUE', random_state=55, verbose=0, warm_start=False)\n"
     ]
    }
   ],
   "source": [
    "modelname = \"RF\"\n",
    "model = setRFClass(min_samples_split=20, n_estimators=200)"
   ]
  },
  {
   "cell_type": "code",
   "execution_count": 28,
   "metadata": {},
   "outputs": [
    {
     "name": "stdout",
     "output_type": "stream",
     "text": [
      "KNeighborsClassifier(algorithm='auto', leaf_size=30, metric='minkowski',\n",
      "           metric_params=None, n_jobs=None, n_neighbors=5, p=2,\n",
      "           weights='uniform')\n"
     ]
    }
   ],
   "source": [
    "modelname = \"KNN\"\n",
    "model = setKNNClass(n_neighbors=5)"
   ]
  },
  {
   "cell_type": "code",
   "execution_count": 29,
   "metadata": {},
   "outputs": [
    {
     "name": "stdout",
     "output_type": "stream",
     "text": [
      "SVC(C=1.0, cache_size=200, class_weight=None, coef0=0.0,\n",
      "  decision_function_shape='ovr', degree=3, gamma='scale', kernel='rbf',\n",
      "  max_iter=-1, probability=False, random_state=0, shrinking=False,\n",
      "  tol=0.001, verbose=False)\n"
     ]
    }
   ],
   "source": [
    "modelname = \"SVM\"\n",
    "model = setSVMClass()"
   ]
  },
  {
   "cell_type": "code",
   "execution_count": 30,
   "metadata": {},
   "outputs": [
    {
     "name": "stdout",
     "output_type": "stream",
     "text": [
      "AdaBoostClassifier(algorithm='SAMME.R',\n",
      "          base_estimator=DecisionTreeClassifier(class_weight=None, criterion='gini', max_depth=10,\n",
      "            max_features=None, max_leaf_nodes=None,\n",
      "            min_impurity_decrease=0.0, min_impurity_split=None,\n",
      "            min_samples_leaf=1, min_samples_split=2,\n",
      "            min_weight_fraction_leaf=0.0, presort=False, random_state=None,\n",
      "            splitter='best'),\n",
      "          learning_rate=0.2, n_estimators=500, random_state=None)\n"
     ]
    }
   ],
   "source": [
    "modelname = \"AdaBoost\"\n",
    "model = setAdaBoostClass(learning_rate=0.2, n_estimators=500)"
   ]
  },
  {
   "cell_type": "code",
   "execution_count": 31,
   "metadata": {},
   "outputs": [
    {
     "name": "stdout",
     "output_type": "stream",
     "text": [
      "GradientBoostingClassifier(criterion='friedman_mse', init=None,\n",
      "              learning_rate=0.05, loss='deviance', max_depth=6,\n",
      "              max_features=None, max_leaf_nodes=None,\n",
      "              min_impurity_decrease=0.0, min_impurity_split=None,\n",
      "              min_samples_leaf=1, min_samples_split=2,\n",
      "              min_weight_fraction_leaf=0.0, n_estimators=10,\n",
      "              n_iter_no_change=None, presort='auto', random_state=None,\n",
      "              subsample=0.5, tol=0.0001, validation_fraction=0.1,\n",
      "              verbose=0, warm_start=False)\n"
     ]
    }
   ],
   "source": [
    "modelname = \"Gradient Tree Boosting\"\n",
    "model = setGTBClass(learning_rate=0.05, subsample=0.5, max_depth=6, n_estimators=10)"
   ]
  },
  {
   "cell_type": "code",
   "execution_count": 32,
   "metadata": {},
   "outputs": [
    {
     "name": "stdout",
     "output_type": "stream",
     "text": [
      "QuadraticDiscriminantAnalysis(priors=None, reg_param=0.0,\n",
      "               store_covariance=False, store_covariances=None, tol=0.0001)\n"
     ]
    }
   ],
   "source": [
    "modelname = \"Quadratic Discriminant Analysis\"\n",
    "model = setQDAClass()"
   ]
  },
  {
   "cell_type": "code",
   "execution_count": 33,
   "metadata": {},
   "outputs": [
    {
     "name": "stdout",
     "output_type": "stream",
     "text": [
      "RandomForestClassifier(bootstrap=True, class_weight=None, criterion='gini',\n",
      "            max_depth=None, max_features='auto', max_leaf_nodes=None,\n",
      "            min_impurity_decrease=0.0, min_impurity_split=None,\n",
      "            min_samples_leaf=1, min_samples_split=20,\n",
      "            min_weight_fraction_leaf=0.0, n_estimators=200, n_jobs=-1,\n",
      "            oob_score='TRUE', random_state=55, verbose=0, warm_start=False)\n",
      "KNeighborsClassifier(algorithm='auto', leaf_size=30, metric='minkowski',\n",
      "           metric_params=None, n_jobs=None, n_neighbors=5, p=2,\n",
      "           weights='uniform')\n"
     ]
    },
    {
     "ename": "NameError",
     "evalue": "name 'model_test' is not defined",
     "output_type": "error",
     "traceback": [
      "\u001b[1;31m---------------------------------------------------------------------------\u001b[0m",
      "\u001b[1;31mNameError\u001b[0m                                 Traceback (most recent call last)",
      "\u001b[1;32m<ipython-input-33-5b598eb54dbf>\u001b[0m in \u001b[0;36m<module>\u001b[1;34m()\u001b[0m\n\u001b[0;32m      4\u001b[0m     \u001b[0mmodelname\u001b[0m \u001b[1;33m=\u001b[0m \u001b[0mkey\u001b[0m\u001b[1;33m\u001b[0m\u001b[0m\n\u001b[0;32m      5\u001b[0m     \u001b[0minfo_dict\u001b[0m \u001b[1;33m=\u001b[0m \u001b[1;33m{\u001b[0m\u001b[1;34m'issue'\u001b[0m\u001b[1;33m:\u001b[0m\u001b[0missue\u001b[0m\u001b[1;33m,\u001b[0m \u001b[1;34m'modelStartDate'\u001b[0m\u001b[1;33m:\u001b[0m\u001b[0mmodelStartDate\u001b[0m\u001b[1;33m,\u001b[0m \u001b[1;34m'modelEndDate'\u001b[0m\u001b[1;33m:\u001b[0m\u001b[0mmodelEndDate\u001b[0m\u001b[1;33m,\u001b[0m \u001b[1;34m'modelname'\u001b[0m\u001b[1;33m:\u001b[0m\u001b[0mmodelname\u001b[0m\u001b[1;33m,\u001b[0m \u001b[1;34m'nrows'\u001b[0m\u001b[1;33m:\u001b[0m\u001b[0mnrows\u001b[0m\u001b[1;33m}\u001b[0m\u001b[1;33m\u001b[0m\u001b[0m\n\u001b[1;32m----> 6\u001b[1;33m     \u001b[0mmodel_results\u001b[0m \u001b[1;33m=\u001b[0m \u001b[0mmodel_test\u001b[0m\u001b[1;33m(\u001b[0m\u001b[0mdX\u001b[0m\u001b[1;33m,\u001b[0m \u001b[0mdy\u001b[0m\u001b[1;33m,\u001b[0m \u001b[0mvalue\u001b[0m\u001b[1;33m,\u001b[0m \u001b[0mmodel_results\u001b[0m\u001b[1;33m,\u001b[0m \u001b[0msss\u001b[0m\u001b[1;33m,\u001b[0m \u001b[0minfo_dict\u001b[0m\u001b[1;33m)\u001b[0m\u001b[1;33m\u001b[0m\u001b[0m\n\u001b[0m\u001b[0;32m      7\u001b[0m \u001b[0mprint\u001b[0m\u001b[1;33m(\u001b[0m\u001b[0mmodel_results\u001b[0m\u001b[1;33m)\u001b[0m\u001b[1;33m\u001b[0m\u001b[0m\n",
      "\u001b[1;31mNameError\u001b[0m: name 'model_test' is not defined"
     ]
    }
   ],
   "source": [
    "to_model = {\"RF\": setRFClass(min_samples_split=20, n_estimators=200), \n",
    "            \"KNN\": setKNNClass(n_neighbors=5)}\n",
    "for key, value in to_model.items():\n",
    "    modelname = key\n",
    "    info_dict = {'issue':issue, 'modelStartDate':modelStartDate, 'modelEndDate':modelEndDate, 'modelname':modelname, 'nrows':nrows}\n",
    "    model_results = modelUtil.model_and_test(dX, dy, model, model_results, sss, info_dict, evData)\n",
    "print(model_results)"
   ]
  },
  {
   "cell_type": "code",
   "execution_count": 38,
   "metadata": {},
   "outputs": [
    {
     "name": "stdout",
     "output_type": "stream",
     "text": [
      "----------------------\n",
      "==In Sample==\n"
     ]
    },
    {
     "data": {
      "image/png": "[encoded data removed]",
      "text/plain": [
       "<Figure size 432x288 with 1 Axes>"
      ]
     },
     "metadata": {},
     "output_type": "display_data"
    },
    {
     "name": "stdout",
     "output_type": "stream",
     "text": [
      "                    Accuracy:  0.62\n",
      "             Precision (PPV):  0.60\n",
      "     Rate of Missing Chances:  0.20\n",
      "             Rate of Failure:  0.40\n",
      "        Neg Pred Value (NPV):  0.66\n",
      "                         MCC:  0.24\n",
      "              Expected Value:  0.035%\n",
      "\n",
      "\n",
      "----------------------\n",
      "==Out of Sample==\n"
     ]
    },
    {
     "data": {
      "image/png": "[encoded data removed]",
      "text/plain": [
       "<Figure size 432x288 with 1 Axes>"
      ]
     },
     "metadata": {},
     "output_type": "display_data"
    },
    {
     "name": "stdout",
     "output_type": "stream",
     "text": [
      "                    Accuracy:  0.55\n",
      "             Precision (PPV):  0.56\n",
      "     Rate of Missing Chances:  0.27\n",
      "             Rate of Failure:  0.44\n",
      "        Neg Pred Value (NPV):  0.55\n",
      "                         MCC:  0.10\n",
      "              Expected Value:  0.002%\n",
      "\n",
      "\n",
      "[{'Issue': 'TLT', 'StartDate': '2016-08-02', 'EndDate': '2017-08-02', 'Model': 'RF', 'Rows': 253, 'beLongCount': '132', 'Features': ['ATR_5_Normalized', 'RSI_2_Normalized', 'DeltaATRratio_S2_L10_Scaled'], 'IS-Accuracy': 0.6167455621301775, 'IS-Precision': 0.59950190477831133, 'IS-Recall': 0.79943181818181808, 'IS-F1': 0.68420974188700368, 'IS-EV': 0.034936464401530726, 'OOS-Accuracy': 0.55380952380952364, 'OOS-Precision': 0.55631216879085377, 'OOS-Recall': 0.73318181818181816, 'OOS-F1': 0.63072876107606002, 'OOS-EV': 0.0024340730987808343}]\n"
     ]
    }
   ],
   "source": [
    "### add issue, other data OR use dictionary to pass data!!!!!!\n",
    "\n",
    "info_dict = {'issue':issue, 'modelStartDate':modelStartDate, 'modelEndDate':modelEndDate, 'modelname':modelname, 'nrows':nrows,}\n",
    "model_results = modelUtil.model_and_test(dX, dy, model, model_results, sss, info_dict, evData)\n",
    "print(model_results)"
   ]
  },
  {
   "cell_type": "code",
   "execution_count": null,
   "metadata": {
    "collapsed": true
   },
   "outputs": [],
   "source": []
  }
 ],
 "metadata": {
  "kernelspec": {
   "display_name": "Python 3",
   "language": "python",
   "name": "python3"
  },
  "language_info": {
   "codemirror_mode": {
    "name": "ipython",
    "version": 3
   },
   "file_extension": ".py",
   "mimetype": "text/x-python",
   "name": "python",
   "nbconvert_exporter": "python",
   "pygments_lexer": "ipython3",
   "version": "3.6.6"
  }
 },
 "nbformat": 4,
 "nbformat_minor": 2
}
