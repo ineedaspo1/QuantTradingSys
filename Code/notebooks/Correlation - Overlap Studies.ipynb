{
 "cells": [
  {
   "cell_type": "markdown",
   "metadata": {},
   "source": [
    "## Correlation - examining overlap features\n",
    "    BollBands_<period>..??? How to use??\n",
    "    KAMA_<period>\n",
    "    MesaAMA_f<fast period>_s<slow period>\n",
    "    EMA_<period>\n",
    "    SMA_<period>\n",
    "    WghtdMA_<period>\n",
    "    TripleMA_<period>\n",
    "    DblExpMA_<period>\n",
    "    InstTrendline\n",
    "    Midpoint_<period>\n",
    "    Midprice_<period>\n",
    "    PSAR_<period>\n"
   ]
  },
  {
   "cell_type": "code",
   "execution_count": 1,
   "metadata": {
    "collapsed": true
   },
   "outputs": [],
   "source": [
    "%matplotlib inline"
   ]
  },
  {
   "cell_type": "code",
   "execution_count": 2,
   "metadata": {},
   "outputs": [
    {
     "name": "stderr",
     "output_type": "stream",
     "text": [
      "C:\\ProgramData\\Anaconda3\\lib\\site-packages\\statsmodels\\compat\\pandas.py:56: FutureWarning: The pandas.core.datetools module is deprecated and will be removed in a future version. Please use the pandas.tseries module instead.\n",
      "  from pandas.core import datetools\n"
     ]
    }
   ],
   "source": [
    "import json\n",
    "\n",
    "from Code.lib.plot_utils import PlotUtility\n",
    "from Code.lib.time_utils import TimeUtility\n",
    "from Code.lib.retrieve_data import DataRetrieve, ComputeTarget\n",
    "from Code.lib.candle_indicators import CandleIndicators\n",
    "from Code.lib.transformers import Transformers\n",
    "from Code.lib.ta_overlap_studies import TALibOverlapStudies\n",
    "from Code.lib.model_utils import ModelUtility\n",
    "from Code.lib.feature_generator import FeatureGenerator\n",
    "from Code.utilities.stat_tests import stationarity_tests\n",
    "from Code.lib.config import current_feature, feature_dict\n",
    "from Code.models import models_utils"
   ]
  },
  {
   "cell_type": "code",
   "execution_count": 3,
   "metadata": {
    "collapsed": true
   },
   "outputs": [],
   "source": [
    "import pandas as pd\n",
    "import numpy as np\n",
    "import datetime\n",
    "from dateutil.relativedelta import relativedelta\n",
    "import matplotlib.pylab as plt\n",
    "from pandas.tseries.offsets import BDay\n",
    "import os.path\n",
    "import pickle"
   ]
  },
  {
   "cell_type": "code",
   "execution_count": 4,
   "metadata": {
    "collapsed": true
   },
   "outputs": [],
   "source": [
    "from sklearn.model_selection import StratifiedShuffleSplit\n",
    "from sklearn.model_selection import TimeSeriesSplit\n",
    "from sklearn.ensemble import RandomForestClassifier\n",
    "from sklearn.metrics import confusion_matrix\n",
    "from sklearn.metrics import accuracy_score\n",
    "from sklearn.metrics import precision_score\n",
    "from sklearn.metrics import recall_score\n",
    "from sklearn.metrics import f1_score"
   ]
  },
  {
   "cell_type": "markdown",
   "metadata": {},
   "source": [
    "### Load issue data and set date range\n",
    "Pivot date is last date and time segments calculated by OOS months and IS-OOS ratio"
   ]
  },
  {
   "cell_type": "code",
   "execution_count": 5,
   "metadata": {},
   "outputs": [
    {
     "name": "stdout",
     "output_type": "stream",
     "text": [
      "Successfully retrieved data series for TLT\n"
     ]
    }
   ],
   "source": [
    "plotIt = PlotUtility()\n",
    "timeUtil = TimeUtility()\n",
    "ct = ComputeTarget()\n",
    "candle_ind = CandleIndicators()\n",
    "dSet = DataRetrieve()\n",
    "taLibOS = TALibOverlapStudies()\n",
    "transf = Transformers()\n",
    "modelUtil = ModelUtility()\n",
    "featureGen = FeatureGenerator()\n",
    "    \n",
    "issue = \"TLT\"\n",
    "# Set IS-OOS parameters\n",
    "pivotDate = datetime.date(2018, 4, 2)\n",
    "is_oos_ratio = 2\n",
    "oos_months = 4\n",
    "segments = 2\n",
    "\n",
    "dataSet = dSet.read_issue_data(issue)\n",
    "\n",
    "# get first data from loaded data instead of hard coding start date\n",
    "dataSet = dSet.set_date_range(dataSet, \"2014-09-26\", pivotDate)\n",
    "\n",
    "#set beLong level\n",
    "beLongThreshold = 0.000\n",
    "dataSet = ct.setTarget(dataSet, \"Long\", beLongThreshold)"
   ]
  },
  {
   "cell_type": "markdown",
   "metadata": {},
   "source": [
    "### Set features\n",
    "Features should be normalized..."
   ]
  },
  {
   "cell_type": "code",
   "execution_count": 6,
   "metadata": {},
   "outputs": [
    {
     "name": "stdout",
     "output_type": "stream",
     "text": [
      "f1\n",
      "Current feature:  EMA_4\n",
      "transform:  None\n",
      "f2\n",
      "Current feature:  SMA_4\n",
      "transform:  None\n",
      "f3\n",
      "Current feature:  WghtdMA_4\n",
      "transform:  None\n",
      "f4\n",
      "Current feature:  TripleEMA_4\n",
      "transform:  None\n",
      "f5\n",
      "Current feature:  TriangMA_4\n",
      "transform:  None\n",
      "f6\n",
      "Current feature:  DblEMA_4\n",
      "transform:  None\n",
      "f7\n",
      "Current feature:  KAMA_4\n",
      "transform:  None\n",
      "f8\n",
      "Current feature:  DeltaMesaAMA_f0.9_s0.1\n",
      "transform:  ['Normalized', 20]\n",
      "f9\n",
      "Current feature:  InstTrendline\n",
      "transform:  None\n",
      "f10\n",
      "Current feature:  Midpoint_4\n",
      "transform:  None\n",
      "f11\n",
      "Current feature:  Midprice_4\n",
      "transform:  None\n",
      "f12\n",
      "Current feature:  PSAR_4\n",
      "transform:  None\n"
     ]
    }
   ],
   "source": [
    "input_dict = {} # initialize\n",
    "input_dict = {'f1': \n",
    "              {'fname' : 'exp_MA', \n",
    "               'params' : [4]\n",
    "               },\n",
    "              'f2': \n",
    "              {'fname' : 'simple_MA', \n",
    "               'params' : [4]\n",
    "               },\n",
    "              'f3': \n",
    "              {'fname' : 'weighted_MA', \n",
    "               'params' : [4]\n",
    "               },\n",
    "              'f4': \n",
    "              {'fname' : 'triple_EMA', \n",
    "               'params' : [4]\n",
    "               },\n",
    "              'f5': \n",
    "              {'fname' : 'triangMA', \n",
    "               'params' : [4]\n",
    "               },\n",
    "              'f6': \n",
    "              {'fname' : 'dblEMA', \n",
    "               'params' : [4]\n",
    "               },\n",
    "              'f7': \n",
    "              {'fname' : 'kaufman_AMA', \n",
    "               'params' : [4]\n",
    "               },\n",
    "              'f8': \n",
    "              {'fname' : 'delta_MESA_AMA', \n",
    "               'params' : [0.9, 0.1],\n",
    "               'transform' : ['Normalized', 20]\n",
    "               },\n",
    "              'f9': \n",
    "              {'fname' : 'inst_Trendline', \n",
    "               'params' : []\n",
    "               },\n",
    "              'f10': \n",
    "              {'fname' : 'mid_point', \n",
    "               'params' : [4]\n",
    "               },\n",
    "              'f11': \n",
    "              {'fname' : 'mid_price', \n",
    "               'params' : [4]\n",
    "               },\n",
    "              'f12': \n",
    "              {'fname' : 'pSAR', \n",
    "               'params' : [4]\n",
    "               }\n",
    "             }\n",
    "dataSet2 = featureGen.generate_features(dataSet, input_dict)"
   ]
  },
  {
   "cell_type": "markdown",
   "metadata": {},
   "source": [
    "### Load processing dates for IS and OOS; set start date for model analysis"
   ]
  },
  {
   "cell_type": "code",
   "execution_count": 7,
   "metadata": {},
   "outputs": [
    {
     "name": "stdout",
     "output_type": "stream",
     "text": [
      "                    Segments:  2\n",
      "                IS OOS Ratio:  2\n",
      "                  OOS months:  4\n",
      "                   IS Months:  8\n",
      "              Months to load:  20\n",
      "              Data Load Date:  2016-11-02\n",
      "              IS Start  Date:  2016-12-02\n",
      "              OOS Start Date:  2017-08-02\n",
      "                  Pivot Date:  2018-04-02\n",
      "Issue: TLT\n",
      "Start date: 2016-12-02  End date: 2017-08-02\n"
     ]
    }
   ],
   "source": [
    "# set date splits\n",
    "isOosDates = timeUtil.is_oos_data_split(issue, pivotDate, is_oos_ratio, oos_months, segments)\n",
    "dataLoadStartDate = isOosDates[0]\n",
    "is_start_date = isOosDates[1]\n",
    "oos_start_date = isOosDates[2]\n",
    "is_months = isOosDates[3]\n",
    "is_end_date = isOosDates[4]\n",
    "oos_end_date = isOosDates[5]\n",
    "\n",
    "modelStartDate = is_start_date\n",
    "modelEndDate = modelStartDate + relativedelta(months=is_months)\n",
    "print(\"Issue: \" + issue)\n",
    "print(\"Start date: \" + str(modelStartDate) + \"  End date: \" + str(modelEndDate))\n",
    "\n",
    "\n",
    "predictor_vars = \"Temp holding spot\""
   ]
  },
  {
   "cell_type": "markdown",
   "metadata": {},
   "source": [
    "### Split data for analysis and make a copy for Expected Value calcs"
   ]
  },
  {
   "cell_type": "code",
   "execution_count": 8,
   "metadata": {
    "collapsed": true
   },
   "outputs": [],
   "source": [
    "mmData = dataSet[modelStartDate:modelEndDate].copy()\n",
    "nrows = mmData.shape[0]\n",
    "\n",
    "# EV related\n",
    "evData = dataSet[modelStartDate:modelEndDate].copy()\n"
   ]
  },
  {
   "cell_type": "markdown",
   "metadata": {},
   "source": [
    "### Select features to drop including OHL, gainAhead, symbol, Date, Close"
   ]
  },
  {
   "cell_type": "code",
   "execution_count": 9,
   "metadata": {
    "collapsed": true
   },
   "outputs": [],
   "source": [
    "col_vals = [k for k,v in feature_dict.items() if v == 'Drop']\n",
    "to_drop = ['Open','High','Low', 'gainAhead', 'Symbol', 'Date', 'Close', 'beLong', 'Volume']\n",
    "for x in to_drop:\n",
    "    col_vals.append(x)\n",
    "mmData = dSet.drop_columns(mmData, col_vals)"
   ]
  },
  {
   "cell_type": "code",
   "execution_count": 10,
   "metadata": {},
   "outputs": [
    {
     "name": "stdout",
     "output_type": "stream",
     "text": [
      "                 EMA_4     SMA_4  WghtdMA_4  TripleEMA_4  TriangMA_4  \\\n",
      "2016-12-02  119.924336  120.1975    119.729   119.271929  119.960000   \n",
      "2016-12-05  119.742602  119.5100    119.438   119.306389  119.395000   \n",
      "2016-12-06  119.597561  119.2950    119.386   119.300582  119.375000   \n",
      "2016-12-07  119.918537  119.7125    119.828   120.131765  119.616667   \n",
      "2016-12-08  119.543122  119.5575    119.535   119.314407  119.668333   \n",
      "\n",
      "              DblEMA_4      KAMA_4  DeltaMesaAMA_f0.9_s0.1_Normalized  \\\n",
      "2016-12-02  119.383932  121.464962                           0.780127   \n",
      "2016-12-05  119.309319  121.090381                           0.734119   \n",
      "2016-12-06  119.250567  120.971455                           0.750446   \n",
      "2016-12-07  119.902926  120.804140                           0.886189   \n",
      "2016-12-08  119.308507  120.727580                           0.875290   \n",
      "\n",
      "            InstTrendline  Midpoint_4  Midprice_4    PSAR_4  \n",
      "2016-12-02     124.826053     120.475   120.02000  121.4480  \n",
      "2016-12-05     124.262030     119.485   119.32500  120.6864  \n",
      "2016-12-06     123.852627     119.165   119.01875  120.3975  \n",
      "2016-12-07     123.463223     119.890   119.53500  117.6400  \n",
      "2016-12-08     123.050620     119.690   119.53500  118.2360  \n"
     ]
    }
   ],
   "source": [
    "print(mmData.head())"
   ]
  },
  {
   "cell_type": "markdown",
   "metadata": {},
   "source": [
    "### Plot correlation matrix\n",
    "Improve this to identify and drop features with corr value higher than 0.3\n",
    "Look at other methods to identify features and their contribution"
   ]
  },
  {
   "cell_type": "code",
   "execution_count": 11,
   "metadata": {},
   "outputs": [
    {
     "data": {
      "image/png": "[encoded data removed]",
      "text/plain": [
       "<Figure size 432x288 with 2 Axes>"
      ]
     },
     "metadata": {},
     "output_type": "display_data"
    }
   ],
   "source": [
    "plotIt.correlation_matrix(mmData)"
   ]
  },
  {
   "cell_type": "markdown",
   "metadata": {
    "collapsed": true
   },
   "source": [
    "#### Examine and drop features with corr value > 0.85"
   ]
  },
  {
   "cell_type": "code",
   "execution_count": 12,
   "metadata": {},
   "outputs": [
    {
     "name": "stdout",
     "output_type": "stream",
     "text": [
      "                                   EMA_4     SMA_4  WghtdMA_4  TripleEMA_4  \\\n",
      "EMA_4                                NaN  0.997349   0.998368     0.982065   \n",
      "SMA_4                                NaN       NaN   0.996668     0.973024   \n",
      "WghtdMA_4                            NaN       NaN        NaN     0.988170   \n",
      "TripleEMA_4                          NaN       NaN        NaN          NaN   \n",
      "TriangMA_4                           NaN       NaN        NaN          NaN   \n",
      "DblEMA_4                             NaN       NaN        NaN          NaN   \n",
      "KAMA_4                               NaN       NaN        NaN          NaN   \n",
      "DeltaMesaAMA_f0.9_s0.1_Normalized    NaN       NaN        NaN          NaN   \n",
      "InstTrendline                        NaN       NaN        NaN          NaN   \n",
      "Midpoint_4                           NaN       NaN        NaN          NaN   \n",
      "Midprice_4                           NaN       NaN        NaN          NaN   \n",
      "PSAR_4                               NaN       NaN        NaN          NaN   \n",
      "\n",
      "                                   TriangMA_4  DblEMA_4    KAMA_4  \\\n",
      "EMA_4                                0.996173  0.989410  0.978072   \n",
      "SMA_4                                0.999425  0.983891  0.977709   \n",
      "WghtdMA_4                            0.996203  0.994767  0.971084   \n",
      "TripleEMA_4                          0.971410  0.998105  0.940947   \n",
      "TriangMA_4                                NaN  0.982846  0.976300   \n",
      "DblEMA_4                                  NaN       NaN  0.950924   \n",
      "KAMA_4                                    NaN       NaN       NaN   \n",
      "DeltaMesaAMA_f0.9_s0.1_Normalized         NaN       NaN       NaN   \n",
      "InstTrendline                             NaN       NaN       NaN   \n",
      "Midpoint_4                                NaN       NaN       NaN   \n",
      "Midprice_4                                NaN       NaN       NaN   \n",
      "PSAR_4                                    NaN       NaN       NaN   \n",
      "\n",
      "                                   DeltaMesaAMA_f0.9_s0.1_Normalized  \\\n",
      "EMA_4                                                      -0.026840   \n",
      "SMA_4                                                      -0.028507   \n",
      "WghtdMA_4                                                   0.014034   \n",
      "TripleEMA_4                                                 0.100888   \n",
      "TriangMA_4                                                 -0.025906   \n",
      "DblEMA_4                                                    0.082683   \n",
      "KAMA_4                                                     -0.080061   \n",
      "DeltaMesaAMA_f0.9_s0.1_Normalized                                NaN   \n",
      "InstTrendline                                                    NaN   \n",
      "Midpoint_4                                                       NaN   \n",
      "Midprice_4                                                       NaN   \n",
      "PSAR_4                                                           NaN   \n",
      "\n",
      "                                   InstTrendline  Midpoint_4  Midprice_4  \\\n",
      "EMA_4                                   0.744879    0.996106    0.994958   \n",
      "SMA_4                                   0.737084    0.998287    0.996879   \n",
      "WghtdMA_4                               0.719694    0.994970    0.992616   \n",
      "TripleEMA_4                             0.673057    0.972738    0.967877   \n",
      "TriangMA_4                              0.733444    0.996671    0.995432   \n",
      "DblEMA_4                                0.677024    0.982899    0.978843   \n",
      "KAMA_4                                  0.823815    0.978169    0.977230   \n",
      "DeltaMesaAMA_f0.9_s0.1_Normalized      -0.243673   -0.029854   -0.051583   \n",
      "InstTrendline                                NaN    0.739543    0.740215   \n",
      "Midpoint_4                                   NaN         NaN    0.997471   \n",
      "Midprice_4                                   NaN         NaN         NaN   \n",
      "PSAR_4                                       NaN         NaN         NaN   \n",
      "\n",
      "                                     PSAR_4  \n",
      "EMA_4                              0.897691  \n",
      "SMA_4                              0.912314  \n",
      "WghtdMA_4                          0.882896  \n",
      "TripleEMA_4                        0.810936  \n",
      "TriangMA_4                         0.911965  \n",
      "DblEMA_4                           0.837981  \n",
      "KAMA_4                             0.916277  \n",
      "DeltaMesaAMA_f0.9_s0.1_Normalized -0.266734  \n",
      "InstTrendline                      0.757716  \n",
      "Midpoint_4                         0.909642  \n",
      "Midprice_4                         0.916343  \n",
      "PSAR_4                                  NaN  \n",
      "\n",
      "=====To Drop=====\n",
      "['SMA_4', 'WghtdMA_4', 'TripleEMA_4', 'TriangMA_4', 'DblEMA_4', 'KAMA_4', 'Midpoint_4', 'Midprice_4', 'PSAR_4']\n"
     ]
    }
   ],
   "source": [
    "# Create correlation matrix\n",
    "corr_matrix = mmData.corr()\n",
    "\n",
    "# Select upper triangle of correlation matrix\n",
    "upper = corr_matrix.where(np.triu(np.ones(corr_matrix.shape), k=1).astype(np.bool))\n",
    "print(upper)\n",
    "\n",
    "# Find index of feature columns with correlation greater than 0.85\n",
    "to_drop = [column for column in upper.columns if any(upper[column] > 0.85)]\n",
    "print(\"\\n=====To Drop=====\\n\" + str(to_drop))"
   ]
  },
  {
   "cell_type": "code",
   "execution_count": null,
   "metadata": {
    "collapsed": true
   },
   "outputs": [],
   "source": []
  }
 ],
 "metadata": {
  "kernelspec": {
   "display_name": "Python 3",
   "language": "python",
   "name": "python3"
  },
  "language_info": {
   "codemirror_mode": {
    "name": "ipython",
    "version": 3
   },
   "file_extension": ".py",
   "mimetype": "text/x-python",
   "name": "python",
   "nbconvert_exporter": "python",
   "pygments_lexer": "ipython3",
   "version": "3.6.6"
  }
 },
 "nbformat": 4,
 "nbformat_minor": 2
}
