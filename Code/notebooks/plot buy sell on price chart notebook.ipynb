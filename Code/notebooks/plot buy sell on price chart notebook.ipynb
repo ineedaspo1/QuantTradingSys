{
 "cells": [
  {
   "cell_type": "code",
   "execution_count": 7,
   "metadata": {
    "collapsed": true
   },
   "outputs": [],
   "source": [
    "%matplotlib inline\n",
    "\n",
    "import sys\n",
    "sys.path.append('../lib')\n",
    "sys.path.append('../utilities')"
   ]
  },
  {
   "cell_type": "code",
   "execution_count": 8,
   "metadata": {
    "collapsed": true
   },
   "outputs": [],
   "source": [
    "import pandas as pd\n",
    "import numpy as np\n",
    "import os\n",
    "from pandas.tseries.holiday import USFederalHolidayCalendar\n",
    "from pandas.tseries.offsets import CustomBusinessDay\n",
    "import pickle\n",
    "\n",
    "import datetime as dt\n",
    "\n",
    "from pandas.tseries.holiday import AbstractHolidayCalendar, Holiday, nearest_workday, \\\n",
    "    USMartinLutherKingJr, USPresidentsDay, GoodFriday, USMemorialDay, \\\n",
    "    USLaborDay, USThanksgivingDay"
   ]
  },
  {
   "cell_type": "code",
   "execution_count": 9,
   "metadata": {
    "collapsed": true
   },
   "outputs": [],
   "source": [
    "class USTradingCalendar(AbstractHolidayCalendar):\n",
    "    rules = [\n",
    "        Holiday('NewYearsDay', month=1, day=1, observance=nearest_workday),\n",
    "        USMartinLutherKingJr,\n",
    "        USPresidentsDay,\n",
    "        GoodFriday,\n",
    "        USMemorialDay,\n",
    "        Holiday('USIndependenceDay', month=7, day=4, observance=nearest_workday),\n",
    "        USLaborDay,\n",
    "        USThanksgivingDay,\n",
    "        Holiday('Christmas', month=12, day=25, observance=nearest_workday)\n",
    "    ]"
   ]
  },
  {
   "cell_type": "code",
   "execution_count": 10,
   "metadata": {
    "collapsed": true
   },
   "outputs": [],
   "source": [
    "class DataRetrieve:   \n",
    "    \"\"\"Class of functions used to retrieve issue data\"\"\"\n",
    "    def read_pickle_data(self, file_name, issue):\n",
    "        \"\"\"Reads data from a pickle file   \n",
    "           Args:\n",
    "                file_name: filename of pickle file\n",
    "                issue: symbol of data to be retrieved\n",
    "           Return:\n",
    "                df: Dataframe of issue data\n",
    "        \"\"\"\n",
    "        try:\n",
    "            df = pd.read_pickle(file_name)\n",
    "        except:\n",
    "            print(\"================================\")\n",
    "            print(\"No information for ticker '%s'\" % issue)\n",
    "            print(\"================================\")\n",
    "            raise SystemExit\n",
    "        print (\"Successfully retrieved data series for \" + issue)\n",
    "        return df\n",
    "        \n",
    "    def read_issue_data(self, issue):\n",
    "        \"\"\"Reads equity from a pickle file   \n",
    "           Args:\n",
    "                issue: symbol of data to be retrieved\n",
    "           Return:\n",
    "                df: Dataframe of issue data\n",
    "           To update: Set location of filename location outside of class\n",
    "        \"\"\"\n",
    "        self.issue = issue\n",
    "        issue_name = issue + '.pkl'\n",
    "        file_name = os.path.join(r'C:\\Users\\kruegkj\\kevinkr OneDrive\\OneDrive\\IssueData\\Equity', issue_name)\n",
    "        df = self.read_pickle_data(file_name, issue)\n",
    "        return df\n",
    "    \n",
    "    def read_fred_data(self, issue):\n",
    "        \"\"\"Reads FRED data from a pickle file   \n",
    "           Args:\n",
    "                issue: symbol of data to be retrieved\n",
    "           Return:\n",
    "                df: Dataframe of issue data\n",
    "           To update: Set location of filename location outside of class\n",
    "        \"\"\"\n",
    "        self.issue = issue\n",
    "        issue_name = issue + '.pkl'\n",
    "        file_name = os.path.join(r'C:\\Users\\kruegkj\\kevinkr OneDrive\\OneDrive\\IssueData\\Auxiliary', issue_name)\n",
    "        print(file_name)\n",
    "        df = self.read_pickle_data(file_name, issue)\n",
    "        return df\n",
    "        \n",
    "    def set_date_range(self, df, dfStartDt, dfEndDt, dateName='Date'):\n",
    "        \"\"\"Set US bus cal date range to be retrieved from datetimeindex   \n",
    "           Args:\n",
    "                df: dataframe of issue data\n",
    "                dfStartDt: start date\n",
    "                dfEndDt: end date\n",
    "                dateName: name of Date column, default is 'Name'\n",
    "           Return:\n",
    "                df3: Dataframe of issue data\n",
    "           To update: Set location of filename location outside of class\n",
    "        \"\"\"\n",
    "        us_cal = CustomBusinessDay(calendar=USTradingCalendar())\n",
    "        df.set_index(pd.to_datetime(df[dateName]), inplace=True)\n",
    "        df3 = df.reindex(pd.date_range(start=dfStartDt, end=dfEndDt, freq=us_cal))\n",
    "        return df3\n",
    "\n",
    "    def drop_columns(self, df, col_vals):\n",
    "        \"\"\"Utility to drop columns   \n",
    "           Args:\n",
    "                df: dataframe of issue data\n",
    "                col_vals: list of column names\n",
    "           Return:\n",
    "                df: Dataframe with columns dropped\n",
    "           To update: Verify columns exist before dropping\n",
    "        \"\"\"\n",
    "        df.drop(col_vals, axis =1, inplace=True)\n",
    "        return df\n",
    "    \n",
    "    def save_obj(self, obj, name ):\n",
    "        with open('../obj/'+ name + '.pkl', 'wb+') as f:\n",
    "            pickle.dump(obj, f, pickle.HIGHEST_PROTOCOL)\n",
    "    \n",
    "    def load_obj(self, name):\n",
    "        with open('../obj/' + name + '.pkl', 'rb') as f:\n",
    "            return pickle.load(f)\n",
    "    "
   ]
  },
  {
   "cell_type": "code",
   "execution_count": 11,
   "metadata": {
    "collapsed": true
   },
   "outputs": [],
   "source": [
    "class ComputeTarget:\n",
    "    \n",
    "    def setTarget(self, df, direction, beLongThreshold):\n",
    "        \"\"\"Set value of target to 1 if gainAhead>0, otherwise set to 0   \n",
    "           Args:\n",
    "                df: dataframe of issue data\n",
    "                direction: long or short (currently unused, assume long)\n",
    "                beLongThreshold: gain must be above this threshold to \n",
    "                    set direction\n",
    "           Return:\n",
    "                df: Dataframe with gainAhead and beLong columns added\n",
    "           To update: Added direction and correct code to identify\n",
    "               long and short thresholds and correct signal\n",
    "        \"\"\"\n",
    "        df['gainAhead'] = ComputeTarget.gainAhead(df.Close)\n",
    "        df['beLong'] = np.where(df.gainAhead>beLongThreshold,1,-1)\n",
    "        return df\n",
    "\n",
    "    def gainAhead(p):\n",
    "        \"\"\"Computes change in the next 1 bar. A change of 1% is 0.01.\n",
    "           The final value is unknown.  Its value is 0.0. \n",
    "           Args:\n",
    "                p: price series\n",
    "           Return:\n",
    "                g: numpy array of changes\n",
    "        \"\"\"\n",
    "        nrows = p.shape[0]\n",
    "        g = np.zeros(nrows)\n",
    "        for i in range(0,nrows-1):\n",
    "            g[i] = (p[i+1]-p[i])/p[i]\n",
    "            # if % change is 0, change to small number\n",
    "            if (abs(g[i]) < 0.0001):\n",
    "                g[i] = 0.0001\n",
    "        return g\n",
    "        \n",
    "    def priceChange(self, p):\n",
    "        \"\"\"Computes pricechange in the next 1 bar. \n",
    "           The final value is unknown.  Its value is 0.0. \n",
    "           Args:\n",
    "                p: price series\n",
    "           Return:\n",
    "                pc: numpy array of changes\n",
    "        \"\"\"\n",
    "        nrows = p.shape[0]\n",
    "        pc = np.zeros(nrows)\n",
    "        for i in range(1,nrows):\n",
    "            pc[i] = (p[i]-p[i-1])/p[i-1]\n",
    "        return pc"
   ]
  },
  {
   "cell_type": "code",
   "execution_count": 12,
   "metadata": {},
   "outputs": [
    {
     "name": "stdout",
     "output_type": "stream",
     "text": [
      "Successfully retrieved data series for TLT\n",
      "C:\\Users\\kruegkj\\kevinkr OneDrive\\OneDrive\\IssueData\\Auxiliary\\VIXCLS.pkl\n",
      "Successfully retrieved data series for VIXCLS\n",
      "C:\\Users\\kruegkj\\kevinkr OneDrive\\OneDrive\\IssueData\\Auxiliary\\DTB3.pkl\n",
      "Successfully retrieved data series for DTB3\n",
      "nrows:  1051\n",
      "(1051, 9)\n",
      "           Symbol       Date   Close      High       Low    Open    Volume  \\\n",
      "2018-05-18    TLT 2018-05-18  117.21  117.2900  116.5100  116.51   9606468   \n",
      "2018-05-21    TLT 2018-05-21  117.27  117.3800  116.9500  117.13   4448525   \n",
      "2018-05-22    TLT 2018-05-22  117.09  117.3450  116.8510  117.29   4700736   \n",
      "2018-05-23    TLT 2018-05-23  117.94  118.1100  117.6552  117.75   9633993   \n",
      "2018-05-24    TLT 2018-05-24  118.88  119.0550  118.6408  118.69   8164813   \n",
      "2018-05-25    TLT 2018-05-25  119.62  119.8400  119.4650  119.56   8482823   \n",
      "2018-05-29    TLT 2018-05-29  122.24  122.5200  120.4261  120.79  21668143   \n",
      "2018-05-30    TLT 2018-05-30  121.42  121.4799  120.7400  121.00  11270810   \n",
      "2018-05-31    TLT 2018-05-31  121.22  121.9800  120.9500  121.56  10460782   \n",
      "2018-06-01    TLT 2018-06-01  120.30  120.7050  119.8500  120.17   8718753   \n",
      "\n",
      "            gainAhead  beLong  \n",
      "2018-05-18   0.000512       1  \n",
      "2018-05-21  -0.001535      -1  \n",
      "2018-05-22   0.007259       1  \n",
      "2018-05-23   0.007970       1  \n",
      "2018-05-24   0.006225       1  \n",
      "2018-05-25   0.021903       1  \n",
      "2018-05-29  -0.006708      -1  \n",
      "2018-05-30  -0.001647      -1  \n",
      "2018-05-31  -0.007590      -1  \n",
      "2018-06-01   0.000000      -1  \n"
     ]
    }
   ],
   "source": [
    "    from plot_utils import *\n",
    "    plotIt = PlotUtility()\n",
    "    \n",
    "    dataLoadStartDate = \"2014-04-01\"\n",
    "    dataLoadEndDate = \"2018-06-01\"\n",
    "    issue = \"TLT\"\n",
    "    aux_issue = \"VIXCLS\"\n",
    "    threeMoTbill = \"DTB3\"\n",
    "    \n",
    "    dSet = DataRetrieve()\n",
    "    dataSet = dSet.read_issue_data(issue)\n",
    "    dataSet = dSet.set_date_range(\n",
    "            dataSet, \n",
    "            dataLoadStartDate,\n",
    "            dataLoadEndDate)\n",
    "    \n",
    "    vixDataSet = dSet.read_fred_data(aux_issue)\n",
    "    vixDataSet = dSet.set_date_range(\n",
    "            vixDataSet, \n",
    "            dataLoadStartDate,\n",
    "            dataLoadEndDate,\n",
    "            dateName=\"DATE\")\n",
    "    \n",
    "    threeMoDataSet = dSet.read_fred_data(threeMoTbill)\n",
    "    threeMoDataSet = dSet.set_date_range(\n",
    "            threeMoDataSet, \n",
    "            dataLoadStartDate,\n",
    "            dataLoadEndDate,\n",
    "            dateName=\"DATE\")\n",
    "    \n",
    "    beLongThreshold = 0.0\n",
    "    ct = ComputeTarget()\n",
    "    targetDataSet = ct.setTarget(\n",
    "            dataSet, \n",
    "            \"Long\", \n",
    "            beLongThreshold)\n",
    "    nrows = targetDataSet.shape[0]\n",
    "    print (\"nrows: \", nrows)\n",
    "    print (targetDataSet.shape)\n",
    "    print (targetDataSet.tail(10))"
   ]
  },
  {
   "cell_type": "code",
   "execution_count": 14,
   "metadata": {},
   "outputs": [
    {
     "name": "stdout",
     "output_type": "stream",
     "text": [
      "beLong counts: \n",
      " 1    571\n",
      "-1    480\n",
      "Name: beLong, dtype: int64\n",
      "out of  1051\n"
     ]
    }
   ],
   "source": [
    "    print (\"beLong counts: \")\n",
    "    print (targetDataSet['beLong'].value_counts())\n",
    "    print (\"out of \", nrows)\n",
    "    \n",
    "    testFirstYear = \"2014-04-01\"\n",
    "    testFinalYear = \"2014-06-01\"\n",
    "    qtPlot = targetDataSet.ix[testFirstYear:testFinalYear]\n",
    "    \n",
    "    "
   ]
  },
  {
   "cell_type": "code",
   "execution_count": 15,
   "metadata": {
    "collapsed": true
   },
   "outputs": [],
   "source": [
    "import matplotlib.pyplot as plt"
   ]
  },
  {
   "cell_type": "code",
   "execution_count": 36,
   "metadata": {},
   "outputs": [],
   "source": [
    "buys = qtPlot.ix[(qtPlot['beLong'] > 0)]\n",
    "sells = qtPlot.ix[(qtPlot['beLong'] < 0)]"
   ]
  },
  {
   "cell_type": "code",
   "execution_count": 37,
   "metadata": {},
   "outputs": [
    {
     "data": {
      "text/plain": [
       "[<matplotlib.lines.Line2D at 0xad203c8>]"
      ]
     },
     "execution_count": 37,
     "metadata": {},
     "output_type": "execute_result"
    },
    {
     "data": {
      "image/png": "[encoded data removed]",
      "text/plain": [
       "<Figure size 432x288 with 1 Axes>"
      ]
     },
     "metadata": {},
     "output_type": "display_data"
    }
   ],
   "source": [
    "plt.plot(qtPlot.index, qtPlot['Close'])\n",
    "plt.plot(buys.index, qtPlot.ix[buys.index]['Close'], '^', markersize=10, color='g')\n",
    "plt.plot(sells.index, qtPlot.ix[sells.index]['Close'], 'v', markersize=10, color='r')\n",
    "#plt.plot(qtPlot.index, qtPlot['beLong'])"
   ]
  },
  {
   "cell_type": "code",
   "execution_count": 24,
   "metadata": {},
   "outputs": [
    {
     "name": "stdout",
     "output_type": "stream",
     "text": [
      "<class 'pandas.core.frame.DataFrame'>\n",
      "DatetimeIndex: 42 entries, 2014-04-01 to 2014-05-30\n",
      "Freq: C\n",
      "Data columns (total 9 columns):\n",
      "Symbol       42 non-null object\n",
      "Date         42 non-null datetime64[ns]\n",
      "Close        42 non-null float64\n",
      "High         42 non-null float64\n",
      "Low          42 non-null float64\n",
      "Open         42 non-null float64\n",
      "Volume       42 non-null int64\n",
      "gainAhead    42 non-null float64\n",
      "beLong       42 non-null int32\n",
      "dtypes: datetime64[ns](1), float64(5), int32(1), int64(1), object(1)\n",
      "memory usage: 3.1+ KB\n",
      "None\n"
     ]
    }
   ],
   "source": [
    "print(qtPlot.info())"
   ]
  },
  {
   "cell_type": "code",
   "execution_count": null,
   "metadata": {
    "collapsed": true
   },
   "outputs": [],
   "source": []
  }
 ],
 "metadata": {
  "kernelspec": {
   "display_name": "Python 3",
   "language": "python",
   "name": "python3"
  },
  "language_info": {
   "codemirror_mode": {
    "name": "ipython",
    "version": 3
   },
   "file_extension": ".py",
   "mimetype": "text/x-python",
   "name": "python",
   "nbconvert_exporter": "python",
   "pygments_lexer": "ipython3",
   "version": "3.6.6"
  }
 },
 "nbformat": 4,
 "nbformat_minor": 2
}
