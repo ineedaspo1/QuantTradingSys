{
 "cells": [
  {
   "cell_type": "code",
   "execution_count": 1,
   "metadata": {},
   "outputs": [
    {
     "name": "stderr",
     "output_type": "stream",
     "text": [
      "C:\\ProgramData\\Anaconda3\\lib\\site-packages\\statsmodels\\compat\\pandas.py:56: FutureWarning: The pandas.core.datetools module is deprecated and will be removed in a future version. Please use the pandas.tseries module instead.\n",
      "  from pandas.core import datetools\n"
     ]
    }
   ],
   "source": [
    "# -*- coding: utf-8 -*-\n",
    "\"\"\"\n",
    "Created on Sat May 26 10:19:51 2018\n",
    "\n",
    "@author: kruegkj\n",
    "\n",
    "time_test_modelling.py\n",
    "Goal: Test and verify in sample and out of sample time splits for dataset\n",
    "\"\"\"\n",
    "from Code.lib.plot_utils import PlotUtility\n",
    "from Code.lib.time_utils import TimeUtility\n",
    "from Code.lib.retrieve_data import DataRetrieve, ComputeTarget\n",
    "from Code.utilities.stat_tests import adf_test, hurst_setup\n",
    "\n",
    "import datetime\n",
    "from dateutil.relativedelta import relativedelta\n",
    "from pandas.tseries.offsets import BDay\n",
    "import matplotlib.pylab as plt\n",
    "\n",
    "\n",
    "plotIt = PlotUtility()\n",
    "timeUtil = TimeUtility()\n",
    "dSet = DataRetrieve()\n",
    "ct = ComputeTarget()\n",
    "\n",
    "issue = \"tlt\" \n",
    "pivotDate = datetime.date(2018, 4, 2)\n",
    "is_oos_ratio = 4\n",
    "oos_months = 3\n",
    "segments = 3\n",
    "    \n",
    "\n",
    "        \n",
    "        \n",
    "        \n",
    "        "
   ]
  },
  {
   "cell_type": "code",
   "execution_count": 2,
   "metadata": {},
   "outputs": [
    {
     "name": "stdout",
     "output_type": "stream",
     "text": [
      "Segments: 3\n",
      "IS OOS Ratio: 4\n",
      "OOS months: 3\n",
      "IS Months: 12\n",
      "Months to load: 39\n",
      "Data Load Date:  2016-06-02\n",
      "In Sample Start  Date:  2016-07-02\n",
      "Out of Sample Start Date:  2017-07-02\n",
      "Pivot Date:  2018-04-02\n",
      "Successfully retrieved data series for tlt\n"
     ]
    }
   ],
   "source": [
    "# get segmented dates\n",
    "isOosDates = timeUtil.is_oos_data_split(issue, pivotDate, is_oos_ratio, oos_months, segments)\n",
    "dataLoadStartDate = isOosDates[0]\n",
    "is_start_date = isOosDates[1]\n",
    "oos_start_date = isOosDates[2]\n",
    "is_months = isOosDates[3]  \n",
    "is_end_date = isOosDates[4]\n",
    "oos_end_date = isOosDates[5]\n",
    "\n",
    "#load data\n",
    "dataSet = dSet.read_issue_data(issue)   \n",
    "dataSet = dSet.set_date_range(dataSet, dataLoadStartDate, pivotDate)\n",
    "\n",
    "#set beLong level\n",
    "beLongThreshold = 0.0\n",
    "dataSet = ct.setTarget(dataSet, \"Long\", beLongThreshold)\n",
    "    \n",
    "\n",
    "        "
   ]
  },
  {
   "cell_type": "code",
   "execution_count": 3,
   "metadata": {
    "collapsed": true
   },
   "outputs": [],
   "source": [
    "def stationarity_tests(s_df, issue):\n",
    "    print(\"=============================================================\")\n",
    "    adf_test(s_df, issue)\n",
    "    hurst_setup(s_df['Close'][:], issue)\n",
    "    print(\"========================================\")\n",
    "    \n"
   ]
  },
  {
   "cell_type": "code",
   "execution_count": 4,
   "metadata": {},
   "outputs": [
    {
     "name": "stdout",
     "output_type": "stream",
     "text": [
      "\n",
      "\n",
      "\n",
      "IN SAMPLE\n",
      "IS start:  2016-07-02\n",
      "IS end:  2017-07-02\n",
      "\n",
      "\n",
      "\n",
      "OUT OF SAMPLE\n",
      "OOS start:  2017-07-02\n",
      "OOS end:  2017-10-02\n",
      "\n",
      "\n",
      "\n",
      "IN SAMPLE\n",
      "IS start:  2016-10-03 00:00:00\n",
      "IS end:  2017-10-02 00:00:00\n",
      "\n",
      "\n",
      "\n",
      "OUT OF SAMPLE\n",
      "OOS start:  2017-10-03 00:00:00\n",
      "OOS end:  2018-01-01 00:00:00\n",
      "\n",
      "\n",
      "\n",
      "IN SAMPLE\n",
      "IS start:  2017-01-04 00:00:00\n",
      "IS end:  2018-01-03 00:00:00\n",
      "\n",
      "\n",
      "\n",
      "OUT OF SAMPLE\n",
      "OOS start:  2018-01-02 00:00:00\n",
      "OOS end:  2018-03-30 00:00:00\n"
     ]
    }
   ],
   "source": [
    "for i in range(segments):\n",
    "    modelData = dSet.set_date_range(dataSet,\n",
    "                                    is_start_date,\n",
    "                                    is_end_date\n",
    "                                    )\n",
    "    print (\"\\n\\n\\nIN SAMPLE\")\n",
    "    # Stationarity tests\n",
    "    #stationarity_tests(modelData, issue)\n",
    "    #print_beLongs(modelData)\n",
    "    #plotIt.plot_beLongs(\"In Sample\",\n",
    "    #                    issue,\n",
    "    #                    modelData,\n",
    "    #                    is_start_date,\n",
    "    #                    is_end_date\n",
    "    #                   )\n",
    "    print(\"IS start: \", is_start_date)\n",
    "    print(\"IS end: \", is_end_date)\n",
    "\n",
    "    is_start_date = is_start_date + relativedelta(months=oos_months) + BDay(1)\n",
    "    is_end_date = is_start_date + relativedelta(months=is_months) - BDay(1)\n",
    "\n",
    "    # OOS\n",
    "    modelData = dSet.set_date_range(dataSet,\n",
    "                                    oos_start_date,\n",
    "                                    oos_end_date\n",
    "                                    )\n",
    "    print (\"\\n\\n\\nOUT OF SAMPLE\")\n",
    "    #stationarity_tests(modelData, issue)\n",
    "    #print_beLongs(modelData)\n",
    "    #plotIt.plot_beLongs(\"Out of Sample\",\n",
    "    #                    issue,\n",
    "    #                    modelData,\n",
    "    #                    oos_start_date,\n",
    "    #                    oos_end_date\n",
    "    #                    )\n",
    "    print(\"OOS start: \", oos_start_date)\n",
    "    print(\"OOS end: \", oos_end_date)\n",
    "    oos_start_date = oos_end_date  + BDay(1)\n",
    "    oos_end_date = oos_end_date + relativedelta(months=oos_months) - BDay(1)"
   ]
  },
  {
   "cell_type": "code",
   "execution_count": 2,
   "metadata": {
    "collapsed": true
   },
   "outputs": [],
   "source": [
    "from statsmodels.tsa.seasonal import seasonal_decompose"
   ]
  },
  {
   "cell_type": "code",
   "execution_count": 13,
   "metadata": {
    "collapsed": true
   },
   "outputs": [],
   "source": [
    "%matplotlib inline"
   ]
  },
  {
   "cell_type": "code",
   "execution_count": 14,
   "metadata": {
    "collapsed": true
   },
   "outputs": [],
   "source": [
    "price = dataSet.iloc[:,2]"
   ]
  },
  {
   "cell_type": "code",
   "execution_count": 15,
   "metadata": {},
   "outputs": [
    {
     "name": "stdout",
     "output_type": "stream",
     "text": [
      "Date\n",
      "2016-06-02    131.36\n",
      "2016-06-03    133.23\n",
      "2016-06-06    132.24\n",
      "2016-06-07    132.56\n",
      "2016-06-08    133.27\n",
      "Name: Close, dtype: float64\n"
     ]
    }
   ],
   "source": [
    "print(price.head())"
   ]
  },
  {
   "cell_type": "code",
   "execution_count": 6,
   "metadata": {
    "collapsed": true
   },
   "outputs": [],
   "source": [
    "price_decomp = seasonal_decompose(price, freq=12)"
   ]
  },
  {
   "cell_type": "code",
   "execution_count": 7,
   "metadata": {
    "collapsed": true
   },
   "outputs": [],
   "source": [
    "price_trend = price_decomp.trend \n",
    "price_seasonal = price_decomp.seasonal \n",
    "price_residual = price_decomp.resid "
   ]
  },
  {
   "cell_type": "code",
   "execution_count": 16,
   "metadata": {
    "collapsed": true
   },
   "outputs": [],
   "source": [
    "def despine(axs):\n",
    "    # to be able to handle subplot grids\n",
    "    # it assumes the input is a list of \n",
    "    # axes instances, if it is not a list, \n",
    "    # it puts it in one\n",
    "    if type(axs) != type([]):\n",
    "        axs = [axs]\n",
    "    for ax in axs:\n",
    "        ax.yaxis.set_ticks_position('left')\n",
    "        ax.xaxis.set_ticks_position('bottom')\n",
    "        ax.spines['bottom'].set_position(('outward', 10))\n",
    "        ax.spines['left'].set_position(('outward', 10))"
   ]
  },
  {
   "cell_type": "code",
   "execution_count": 17,
   "metadata": {},
   "outputs": [
    {
     "data": {
      "image/png": "[encoded data removed]",
      "text/plain": [
       "<Figure size 648x324 with 4 Axes>"
      ]
     },
     "metadata": {},
     "output_type": "display_data"
    }
   ],
   "source": [
    "def change_plot(ax): \n",
    "    despine(ax) \n",
    "    ax.locator_params(axis='y', nbins=5) \n",
    "    plt.setp(ax.get_xticklabels(), rotation=90, ha='center') \n",
    " \n",
    "plt.figure(figsize=(9,4.5)) \n",
    " \n",
    "plt.subplot(221) \n",
    "plt.plot(price, color='Green') \n",
    "change_plot(plt.gca()) \n",
    "plt.title('Price', color='Green') \n",
    "xl = plt.xlim() \n",
    "yl = plt.ylim() \n",
    " \n",
    "plt.subplot(222) \n",
    "plt.plot(price.index,price_trend,  \n",
    "         color='Coral') \n",
    "change_plot(plt.gca()) \n",
    "plt.title('Trend', color='Coral') \n",
    "plt.gca().yaxis.tick_right() \n",
    "plt.gca().yaxis.set_label_position(\"right\") \n",
    "plt.xlim(xl) \n",
    "plt.ylim(yl) \n",
    " \n",
    "plt.subplot(223) \n",
    "plt.plot(price.index,price_seasonal,  \n",
    "         color='SteelBlue') \n",
    "change_plot(plt.gca()) \n",
    "plt.gca().xaxis.tick_top() \n",
    "plt.gca().xaxis.set_major_formatter(plt.NullFormatter()) \n",
    "plt.xlabel('Seasonality', color='SteelBlue', labelpad=-20) \n",
    "plt.xlim(xl) \n",
    "plt.ylim((-8000,8000)) \n",
    " \n",
    "plt.subplot(224) \n",
    "plt.plot(price.index,price_residual, \n",
    "         color='IndianRed') \n",
    "change_plot(plt.gca()) \n",
    "plt.xlim(xl) \n",
    "plt.gca().yaxis.tick_right() \n",
    "plt.gca().yaxis.set_label_position(\"right\") \n",
    "plt.gca().xaxis.tick_top() \n",
    "plt.gca().xaxis.set_major_formatter(plt.NullFormatter()) \n",
    "plt.ylim((-8000,8000)) \n",
    "plt.xlabel('Residuals', color='IndianRed', labelpad=-20) \n",
    " \n",
    "plt.tight_layout() \n",
    "plt.subplots_adjust(hspace=0.55) "
   ]
  },
  {
   "cell_type": "code",
   "execution_count": null,
   "metadata": {
    "collapsed": true
   },
   "outputs": [],
   "source": []
  }
 ],
 "metadata": {
  "kernelspec": {
   "display_name": "Python 3",
   "language": "python",
   "name": "python3"
  },
  "language_info": {
   "codemirror_mode": {
    "name": "ipython",
    "version": 3
   },
   "file_extension": ".py",
   "mimetype": "text/x-python",
   "name": "python",
   "nbconvert_exporter": "python",
   "pygments_lexer": "ipython3",
   "version": "3.6.6"
  }
 },
 "nbformat": 4,
 "nbformat_minor": 2
}
