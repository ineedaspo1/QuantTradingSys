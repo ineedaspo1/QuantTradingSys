{
 "cells": [
  {
   "cell_type": "markdown",
   "metadata": {},
   "source": [
    "## Correlation - examining and dropping highly correlated"
   ]
  },
  {
   "cell_type": "code",
   "execution_count": 1,
   "metadata": {
    "collapsed": true
   },
   "outputs": [],
   "source": [
    "%matplotlib inline"
   ]
  },
  {
   "cell_type": "code",
   "execution_count": 2,
   "metadata": {},
   "outputs": [
    {
     "name": "stderr",
     "output_type": "stream",
     "text": [
      "C:\\ProgramData\\Anaconda3\\lib\\site-packages\\statsmodels\\compat\\pandas.py:56: FutureWarning: The pandas.core.datetools module is deprecated and will be removed in a future version. Please use the pandas.tseries module instead.\n",
      "  from pandas.core import datetools\n"
     ]
    }
   ],
   "source": [
    "import json\n",
    "\n",
    "from Code.lib.plot_utils import PlotUtility\n",
    "from Code.lib.time_utils import TimeUtility\n",
    "from Code.lib.retrieve_data import DataRetrieve, ComputeTarget\n",
    "from Code.lib.candle_indicators import CandleIndicators\n",
    "from Code.lib.transformers import Transformers\n",
    "from Code.lib.ta_momentum_studies import TALibMomentumStudies\n",
    "from Code.lib.model_utils import ModelUtility\n",
    "from Code.lib.feature_generator import FeatureGenerator\n",
    "from Code.utilities.stat_tests import stationarity_tests\n",
    "from Code.lib.config import current_feature, feature_dict\n",
    "from Code.models import models_utils"
   ]
  },
  {
   "cell_type": "code",
   "execution_count": 3,
   "metadata": {
    "collapsed": true
   },
   "outputs": [],
   "source": [
    "import pandas as pd\n",
    "import numpy as np\n",
    "import datetime\n",
    "from dateutil.relativedelta import relativedelta\n",
    "import matplotlib.pylab as plt\n",
    "from pandas.tseries.offsets import BDay\n",
    "import os.path\n",
    "import pickle"
   ]
  },
  {
   "cell_type": "code",
   "execution_count": 4,
   "metadata": {
    "collapsed": true
   },
   "outputs": [],
   "source": [
    "from sklearn.model_selection import StratifiedShuffleSplit\n",
    "from sklearn.model_selection import TimeSeriesSplit\n",
    "from sklearn.ensemble import RandomForestClassifier\n",
    "from sklearn.metrics import confusion_matrix\n",
    "from sklearn.metrics import accuracy_score\n",
    "from sklearn.metrics import precision_score\n",
    "from sklearn.metrics import recall_score\n",
    "from sklearn.metrics import f1_score"
   ]
  },
  {
   "cell_type": "markdown",
   "metadata": {},
   "source": [
    "### Load issue data and set date range\n",
    "Pivot date is last date and time segments calculated by OOS months and IS-OOS ratio"
   ]
  },
  {
   "cell_type": "code",
   "execution_count": 5,
   "metadata": {},
   "outputs": [
    {
     "name": "stdout",
     "output_type": "stream",
     "text": [
      "Successfully retrieved data series for TLT\n"
     ]
    }
   ],
   "source": [
    "plotIt = PlotUtility()\n",
    "timeUtil = TimeUtility()\n",
    "ct = ComputeTarget()\n",
    "candle_ind = CandleIndicators()\n",
    "dSet = DataRetrieve()\n",
    "taLibMomSt = TALibMomentumStudies()\n",
    "transf = Transformers()\n",
    "modelUtil = ModelUtility()\n",
    "featureGen = FeatureGenerator()\n",
    "    \n",
    "issue = \"TLT\"\n",
    "# Set IS-OOS parameters\n",
    "pivotDate = datetime.date(2018, 4, 2)\n",
    "is_oos_ratio = 2\n",
    "oos_months = 4\n",
    "segments = 2\n",
    "\n",
    "dataSet = dSet.read_issue_data(issue)\n",
    "\n",
    "# get first data from loaded data instead of hard coding start date\n",
    "dataSet = dSet.set_date_range(dataSet, \"2014-09-26\", pivotDate)\n",
    "\n",
    "#set beLong level\n",
    "beLongThreshold = 0.000\n",
    "dataSet = ct.setTarget(dataSet, \"Long\", beLongThreshold)"
   ]
  },
  {
   "cell_type": "markdown",
   "metadata": {},
   "source": [
    "### Set features\n",
    "Features should be normalized..."
   ]
  },
  {
   "cell_type": "code",
   "execution_count": 6,
   "metadata": {},
   "outputs": [
    {
     "name": "stdout",
     "output_type": "stream",
     "text": [
      "f1\n",
      "Current feature:  ATR_5\n",
      "transform:  ['Normalized', 50]\n",
      "f2\n",
      "Current feature:  RSI_2\n",
      "transform:  ['Normalized', 50]\n",
      "f3\n",
      "Current feature:  DeltaATRratio_S2_L10\n",
      "transform:  ['Scaler', 'robust']\n",
      "f4\n",
      "Current feature:  ATRratio_S10_L30\n",
      "transform:  ['Normalized', 50]\n",
      "f5\n",
      "Current feature:  ATRratio_S10_L30_Normalized\n",
      "transform:  ['Normalized', 50]\n",
      "f6\n",
      "Current feature:  PPO_f12_s26\n",
      "transform:  ['Normalized', 50]\n",
      "f7\n",
      "Current feature:  CMO_10\n",
      "transform:  ['Normalized', 50]\n",
      "f8\n",
      "Current feature:  CCI_10\n",
      "transform:  ['Normalized', 50]\n",
      "f9\n",
      "Current feature:  ROC_10\n",
      "transform:  ['Normalized', 50]\n"
     ]
    }
   ],
   "source": [
    "input_dict = {} # initialize\n",
    "input_dict = {'f1': \n",
    "          {'fname' : 'ATR', \n",
    "           'params' : [5],\n",
    "           'transform' : ['Normalized', 50]\n",
    "           },\n",
    "          'f2': \n",
    "          {'fname' : 'RSI', \n",
    "           'params' : [2],\n",
    "           'transform' : ['Normalized', 50]\n",
    "           },\n",
    "          'f3': \n",
    "          {'fname' : 'DeltaATRRatio', \n",
    "           'params' : [2, 10],\n",
    "           'transform' : ['Scaler', 'robust']\n",
    "           },\n",
    "          'f4': \n",
    "          {'fname' : 'ATRRatio', \n",
    "           'params' : [10, 30],\n",
    "           'transform' : ['Normalized', 50]\n",
    "           },\n",
    "          'f5': \n",
    "          {'fname' : 'Lag', \n",
    "           'params' : ['Close', 3],\n",
    "           'transform' : ['Normalized', 50]\n",
    "           },\n",
    "          'f6': \n",
    "          {'fname' : 'PPO', \n",
    "           'params' : [12, 26],\n",
    "           'transform' : ['Normalized', 50]\n",
    "           },\n",
    "          'f7': \n",
    "          {'fname' : 'CMO', \n",
    "           'params' : [10],\n",
    "           'transform' : ['Normalized', 50]\n",
    "           },\n",
    "          'f8': \n",
    "          {'fname' : 'CCI', \n",
    "           'params' : [10],\n",
    "           'transform' : ['Normalized', 50]\n",
    "           },\n",
    "          'f9': \n",
    "          {'fname' : 'ROC', \n",
    "           'params' : [10],\n",
    "           'transform' : ['Normalized', 50]\n",
    "           }\n",
    "         }    \n",
    "dataSet = featureGen.generate_features(dataSet, input_dict)"
   ]
  },
  {
   "cell_type": "markdown",
   "metadata": {},
   "source": [
    "### Load processing dates for IS and OOS; set start date for model analysis"
   ]
  },
  {
   "cell_type": "code",
   "execution_count": 7,
   "metadata": {},
   "outputs": [
    {
     "name": "stdout",
     "output_type": "stream",
     "text": [
      "                    Segments:  2\n",
      "                IS OOS Ratio:  2\n",
      "                  OOS months:  4\n",
      "                   IS Months:  8\n",
      "              Months to load:  20\n",
      "              Data Load Date:  2016-11-02\n",
      "              IS Start  Date:  2016-12-02\n",
      "              OOS Start Date:  2017-08-02\n",
      "                  Pivot Date:  2018-04-02\n",
      "Issue: TLT\n",
      "Start date: 2016-12-02  End date: 2017-08-02\n"
     ]
    }
   ],
   "source": [
    "# set date splits\n",
    "isOosDates = timeUtil.is_oos_data_split(issue, pivotDate, is_oos_ratio, oos_months, segments)\n",
    "dataLoadStartDate = isOosDates[0]\n",
    "is_start_date = isOosDates[1]\n",
    "oos_start_date = isOosDates[2]\n",
    "is_months = isOosDates[3]\n",
    "is_end_date = isOosDates[4]\n",
    "oos_end_date = isOosDates[5]\n",
    "\n",
    "modelStartDate = is_start_date\n",
    "modelEndDate = modelStartDate + relativedelta(months=is_months)\n",
    "print(\"Issue: \" + issue)\n",
    "print(\"Start date: \" + str(modelStartDate) + \"  End date: \" + str(modelEndDate))\n",
    "\n",
    "\n",
    "predictor_vars = \"Temp holding spot\""
   ]
  },
  {
   "cell_type": "markdown",
   "metadata": {},
   "source": [
    "### Split data for analysis and make a copy for Expected Value calcs"
   ]
  },
  {
   "cell_type": "code",
   "execution_count": 8,
   "metadata": {
    "collapsed": true
   },
   "outputs": [],
   "source": [
    "mmData = dataSet[modelStartDate:modelEndDate].copy()\n",
    "nrows = mmData.shape[0]\n",
    "\n",
    "# EV related\n",
    "evData = dataSet[modelStartDate:modelEndDate].copy()\n"
   ]
  },
  {
   "cell_type": "markdown",
   "metadata": {},
   "source": [
    "### Select features to drop including OHL, gainAhead, symbol, Date, Close"
   ]
  },
  {
   "cell_type": "code",
   "execution_count": 9,
   "metadata": {
    "collapsed": true
   },
   "outputs": [],
   "source": [
    "col_vals = [k for k,v in feature_dict.items() if v == 'Drop']\n",
    "to_drop = ['Open','High','Low', 'gainAhead', 'Symbol', 'Date', 'Close']\n",
    "for x in to_drop:\n",
    "    col_vals.append(x)\n",
    "mmData = dSet.drop_columns(mmData, col_vals)"
   ]
  },
  {
   "cell_type": "markdown",
   "metadata": {},
   "source": [
    "### Plot correlation matrix\n",
    "Improve this to identify and drop features with corr value higher than 0.3\n",
    "Look at other methods to identify features and their contribution"
   ]
  },
  {
   "cell_type": "code",
   "execution_count": 10,
   "metadata": {},
   "outputs": [
    {
     "data": {
      "image/png": "[encoded data removed]",
      "text/plain": [
       "<Figure size 720x720 with 2 Axes>"
      ]
     },
     "metadata": {},
     "output_type": "display_data"
    }
   ],
   "source": [
    "plotIt.correlation_matrix(mmData)"
   ]
  },
  {
   "cell_type": "markdown",
   "metadata": {
    "collapsed": true
   },
   "source": [
    "#### Examine and drop features with corr value > 0.85"
   ]
  },
  {
   "cell_type": "code",
   "execution_count": 11,
   "metadata": {},
   "outputs": [
    {
     "name": "stdout",
     "output_type": "stream",
     "text": [
      "                                        Volume    beLong  ATR_5_Normalized  \\\n",
      "Volume                                     NaN -0.237064          0.002910   \n",
      "beLong                                     NaN       NaN         -0.041478   \n",
      "ATR_5_Normalized                           NaN       NaN               NaN   \n",
      "RSI_2_Normalized                           NaN       NaN               NaN   \n",
      "DeltaATRratio_S2_L10_Scaled                NaN       NaN               NaN   \n",
      "Close_lag1                                 NaN       NaN               NaN   \n",
      "Close_lag2                                 NaN       NaN               NaN   \n",
      "Close_lag3                                 NaN       NaN               NaN   \n",
      "ATRratio_S10_L30_Normalized_Normalized     NaN       NaN               NaN   \n",
      "PPO_f12_s26_Normalized                     NaN       NaN               NaN   \n",
      "CMO_10_Normalized                          NaN       NaN               NaN   \n",
      "CCI_10_Normalized                          NaN       NaN               NaN   \n",
      "ROC_10_Normalized                          NaN       NaN               NaN   \n",
      "\n",
      "                                        RSI_2_Normalized  \\\n",
      "Volume                                          0.017963   \n",
      "beLong                                         -0.064796   \n",
      "ATR_5_Normalized                               -0.292778   \n",
      "RSI_2_Normalized                                     NaN   \n",
      "DeltaATRratio_S2_L10_Scaled                          NaN   \n",
      "Close_lag1                                           NaN   \n",
      "Close_lag2                                           NaN   \n",
      "Close_lag3                                           NaN   \n",
      "ATRratio_S10_L30_Normalized_Normalized               NaN   \n",
      "PPO_f12_s26_Normalized                               NaN   \n",
      "CMO_10_Normalized                                    NaN   \n",
      "CCI_10_Normalized                                    NaN   \n",
      "ROC_10_Normalized                                    NaN   \n",
      "\n",
      "                                        DeltaATRratio_S2_L10_Scaled  \\\n",
      "Volume                                                    -0.504402   \n",
      "beLong                                                     0.124205   \n",
      "ATR_5_Normalized                                          -0.266468   \n",
      "RSI_2_Normalized                                           0.082921   \n",
      "DeltaATRratio_S2_L10_Scaled                                     NaN   \n",
      "Close_lag1                                                      NaN   \n",
      "Close_lag2                                                      NaN   \n",
      "Close_lag3                                                      NaN   \n",
      "ATRratio_S10_L30_Normalized_Normalized                          NaN   \n",
      "PPO_f12_s26_Normalized                                          NaN   \n",
      "CMO_10_Normalized                                               NaN   \n",
      "CCI_10_Normalized                                               NaN   \n",
      "ROC_10_Normalized                                               NaN   \n",
      "\n",
      "                                        Close_lag1  Close_lag2  Close_lag3  \\\n",
      "Volume                                   -0.221461   -0.216193   -0.211568   \n",
      "beLong                                   -0.050057   -0.088657   -0.089821   \n",
      "ATR_5_Normalized                          0.276129    0.299000    0.327129   \n",
      "RSI_2_Normalized                         -0.070648   -0.168541   -0.260980   \n",
      "DeltaATRratio_S2_L10_Scaled              -0.260106   -0.253502   -0.251585   \n",
      "Close_lag1                                     NaN    0.956950    0.921376   \n",
      "Close_lag2                                     NaN         NaN    0.955132   \n",
      "Close_lag3                                     NaN         NaN         NaN   \n",
      "ATRratio_S10_L30_Normalized_Normalized         NaN         NaN         NaN   \n",
      "PPO_f12_s26_Normalized                         NaN         NaN         NaN   \n",
      "CMO_10_Normalized                              NaN         NaN         NaN   \n",
      "CCI_10_Normalized                              NaN         NaN         NaN   \n",
      "ROC_10_Normalized                              NaN         NaN         NaN   \n",
      "\n",
      "                                        ATRratio_S10_L30_Normalized_Normalized  \\\n",
      "Volume                                                               -0.175123   \n",
      "beLong                                                                0.037187   \n",
      "ATR_5_Normalized                                                     -0.060263   \n",
      "RSI_2_Normalized                                                      0.121254   \n",
      "DeltaATRratio_S2_L10_Scaled                                           0.290531   \n",
      "Close_lag1                                                           -0.338976   \n",
      "Close_lag2                                                           -0.351223   \n",
      "Close_lag3                                                           -0.368377   \n",
      "ATRratio_S10_L30_Normalized_Normalized                                     NaN   \n",
      "PPO_f12_s26_Normalized                                                     NaN   \n",
      "CMO_10_Normalized                                                          NaN   \n",
      "CCI_10_Normalized                                                          NaN   \n",
      "ROC_10_Normalized                                                          NaN   \n",
      "\n",
      "                                        PPO_f12_s26_Normalized  \\\n",
      "Volume                                               -0.083352   \n",
      "beLong                                               -0.130953   \n",
      "ATR_5_Normalized                                      0.089137   \n",
      "RSI_2_Normalized                                     -0.051859   \n",
      "DeltaATRratio_S2_L10_Scaled                          -0.215256   \n",
      "Close_lag1                                            0.544460   \n",
      "Close_lag2                                            0.550520   \n",
      "Close_lag3                                            0.536466   \n",
      "ATRratio_S10_L30_Normalized_Normalized                0.159816   \n",
      "PPO_f12_s26_Normalized                                     NaN   \n",
      "CMO_10_Normalized                                          NaN   \n",
      "CCI_10_Normalized                                          NaN   \n",
      "ROC_10_Normalized                                          NaN   \n",
      "\n",
      "                                        CMO_10_Normalized  CCI_10_Normalized  \\\n",
      "Volume                                          -0.121271          -0.050126   \n",
      "beLong                                          -0.092776          -0.014343   \n",
      "ATR_5_Normalized                                -0.085582          -0.304241   \n",
      "RSI_2_Normalized                                 0.602255           0.758426   \n",
      "DeltaATRratio_S2_L10_Scaled                     -0.163053          -0.033011   \n",
      "Close_lag1                                       0.520839           0.222449   \n",
      "Close_lag2                                       0.436996           0.110109   \n",
      "Close_lag3                                       0.333807          -0.007511   \n",
      "ATRratio_S10_L30_Normalized_Normalized           0.217195           0.221629   \n",
      "PPO_f12_s26_Normalized                           0.546628           0.162180   \n",
      "CMO_10_Normalized                                     NaN           0.792079   \n",
      "CCI_10_Normalized                                     NaN                NaN   \n",
      "ROC_10_Normalized                                     NaN                NaN   \n",
      "\n",
      "                                        ROC_10_Normalized  \n",
      "Volume                                          -0.064105  \n",
      "beLong                                          -0.120528  \n",
      "ATR_5_Normalized                                -0.229288  \n",
      "RSI_2_Normalized                                 0.504296  \n",
      "DeltaATRratio_S2_L10_Scaled                     -0.158622  \n",
      "Close_lag1                                       0.418191  \n",
      "Close_lag2                                       0.336911  \n",
      "Close_lag3                                       0.246886  \n",
      "ATRratio_S10_L30_Normalized_Normalized           0.191250  \n",
      "PPO_f12_s26_Normalized                           0.343820  \n",
      "CMO_10_Normalized                                0.865149  \n",
      "CCI_10_Normalized                                0.716202  \n",
      "ROC_10_Normalized                                     NaN  \n",
      "['Close_lag2', 'Close_lag3', 'ROC_10_Normalized']\n"
     ]
    }
   ],
   "source": [
    "# Create correlation matrix\n",
    "corr_matrix = mmData.corr()\n",
    "\n",
    "# Select upper triangle of correlation matrix\n",
    "upper = corr_matrix.where(np.triu(np.ones(corr_matrix.shape), k=1).astype(np.bool))\n",
    "print(upper)\n",
    "\n",
    "# Find index of feature columns with correlation greater than 0.85\n",
    "to_drop = [column for column in upper.columns if any(upper[column] > 0.85)]\n",
    "print(to_drop)"
   ]
  },
  {
   "cell_type": "code",
   "execution_count": null,
   "metadata": {
    "collapsed": true
   },
   "outputs": [],
   "source": []
  }
 ],
 "metadata": {
  "kernelspec": {
   "display_name": "Python 3",
   "language": "python",
   "name": "python3"
  },
  "language_info": {
   "codemirror_mode": {
    "name": "ipython",
    "version": 3
   },
   "file_extension": ".py",
   "mimetype": "text/x-python",
   "name": "python",
   "nbconvert_exporter": "python",
   "pygments_lexer": "ipython3",
   "version": "3.6.6"
  }
 },
 "nbformat": 4,
 "nbformat_minor": 2
}
