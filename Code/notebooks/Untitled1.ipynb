{
 "cells": [
  {
   "cell_type": "code",
   "execution_count": 1,
   "metadata": {
    "collapsed": true
   },
   "outputs": [],
   "source": [
    "%matplotlib inline\n",
    "import numpy as np\n",
    "import pandas as pd\n",
    "import math\n",
    "import matplotlib.pyplot as plt\n",
    "from sklearn.preprocessing import RobustScaler\n",
    "from scipy.stats import norm\n",
    "\n",
    "import sys\n",
    "sys.path.append('../lib')\n",
    "sys.path.append('../utilities')\n",
    "\n"
   ]
  },
  {
   "cell_type": "code",
   "execution_count": 2,
   "metadata": {},
   "outputs": [
    {
     "name": "stdout",
     "output_type": "stream",
     "text": [
      "Successfully retrieved data series for TLT\n"
     ]
    }
   ],
   "source": [
    "if __name__ == \"__main__\":\n",
    "    from plot_utils import *\n",
    "    from retrieve_data import *\n",
    "    from ta_momentum_studies import *\n",
    "    from ta_volume_studies import *\n",
    "\n",
    "    dataLoadStartDate = \"2014-04-01\"\n",
    "    dataLoadEndDate = \"2018-04-01\"\n",
    "    issue = \"TLT\"\n",
    "    feature_dict = {}\n",
    "\n",
    "    taLibVolSt = TALibVolumeStudies()\n",
    "    taLibMomSt = TALibMomentumStudies()\n",
    "\n",
    "    dSet = DataRetrieve()\n",
    "    dataSet = dSet.read_issue_data(issue)\n",
    "    dataSet = dSet.set_date_range(dataSet, dataLoadStartDate,dataLoadEndDate)"
   ]
  },
  {
   "cell_type": "code",
   "execution_count": 3,
   "metadata": {
    "collapsed": true
   },
   "outputs": [],
   "source": [
    "def func1(param):\n",
    "    print (\"func1, param=%r\" % (param,))\n",
    "\n",
    "d = {\"func_selector\":func1, \"param_value\": \"some value\"}  "
   ]
  },
  {
   "cell_type": "code",
   "execution_count": 4,
   "metadata": {},
   "outputs": [
    {
     "name": "stdout",
     "output_type": "stream",
     "text": [
      "func1, param='some value'\n"
     ]
    }
   ],
   "source": [
    "d['func_selector'](d['param_value'])"
   ]
  },
  {
   "cell_type": "code",
   "execution_count": 5,
   "metadata": {},
   "outputs": [
    {
     "ename": "SyntaxError",
     "evalue": "invalid syntax (<ipython-input-5-f7a2a1abe953>, line 4)",
     "output_type": "error",
     "traceback": [
      "\u001b[1;36m  File \u001b[1;32m\"<ipython-input-5-f7a2a1abe953>\"\u001b[1;36m, line \u001b[1;32m4\u001b[0m\n\u001b[1;33m    input_dict = {'feature':}\u001b[0m\n\u001b[1;37m                            ^\u001b[0m\n\u001b[1;31mSyntaxError\u001b[0m\u001b[1;31m:\u001b[0m invalid syntax\n"
     ]
    }
   ],
   "source": [
    "# Example\n",
    "# RSI, 20d period, no transform\n",
    "input_dict = {} # initialize \n",
    "input_dict = {'feature':} "
   ]
  },
  {
   "cell_type": "code",
   "execution_count": null,
   "metadata": {
    "collapsed": true
   },
   "outputs": [],
   "source": []
  },
  {
   "cell_type": "code",
   "execution_count": null,
   "metadata": {
    "collapsed": true
   },
   "outputs": [],
   "source": []
  }
 ],
 "metadata": {
  "kernelspec": {
   "display_name": "Python 3",
   "language": "python",
   "name": "python3"
  },
  "language_info": {
   "codemirror_mode": {
    "name": "ipython",
    "version": 3
   },
   "file_extension": ".py",
   "mimetype": "text/x-python",
   "name": "python",
   "nbconvert_exporter": "python",
   "pygments_lexer": "ipython3",
   "version": "3.6.6"
  }
 },
 "nbformat": 4,
 "nbformat_minor": 2
}
