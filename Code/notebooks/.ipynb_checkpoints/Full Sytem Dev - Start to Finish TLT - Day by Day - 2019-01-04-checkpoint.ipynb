{
 "cells": [
  {
   "cell_type": "markdown",
   "metadata": {},
   "source": [
    "### Next Day, 2019-01-04\n",
    "Goal: Day by day trading"
   ]
  },
  {
   "cell_type": "code",
   "execution_count": 25,
   "metadata": {
    "code_folding": [
     0
    ],
    "collapsed": true
   },
   "outputs": [],
   "source": [
    "# Import standard libraries\n",
    "%matplotlib inline\n",
    "\n",
    "import pandas as pd\n",
    "import numpy as np\n",
    "import datetime\n",
    "from dateutil.relativedelta import relativedelta\n",
    "import matplotlib.pylab as plt\n",
    "from pandas.tseries.offsets import BDay\n",
    "import os\n",
    "import os.path\n",
    "import pickle\n",
    "import random\n",
    "import json\n",
    "from scipy import stats\n",
    "from datetime import datetime\n",
    "\n",
    "from sklearn.model_selection import StratifiedShuffleSplit, TimeSeriesSplit\n",
    "from sklearn import svm\n",
    "from sklearn.ensemble import RandomForestClassifier, AdaBoostClassifier, GradientBoostingClassifier\n",
    "from sklearn.discriminant_analysis import QuadraticDiscriminantAnalysis\n",
    "from sklearn.neighbors import KNeighborsClassifier\n",
    "from sklearn.tree import DecisionTreeClassifier\n",
    "from sklearn.metrics import confusion_matrix, accuracy_score, precision_score, recall_score, f1_score"
   ]
  },
  {
   "cell_type": "code",
   "execution_count": 26,
   "metadata": {
    "code_folding": [
     0
    ],
    "collapsed": true
   },
   "outputs": [],
   "source": [
    "# Import custom libraries\n",
    "from Code.lib.plot_utils import PlotUtility\n",
    "from Code.lib.time_utils import TimeUtility\n",
    "from Code.lib.retrieve_data import DataRetrieve, ComputeTarget, USTradingCalendar\n",
    "from Code.lib.candle_indicators import CandleIndicators\n",
    "from Code.lib.transformers import Transformers\n",
    "from Code.lib.ta_momentum_studies import TALibMomentumStudies\n",
    "from Code.lib.model_utils import ModelUtility, TimeSeriesSplitImproved\n",
    "from Code.lib.feature_generator import FeatureGenerator\n",
    "from Code.utilities.stat_tests import stationarity_tests\n",
    "from Code.lib.config import current_feature, feature_dict\n",
    "from Code.models import models_utils\n",
    "from Code.lib.model_algos import AlgoUtility\n",
    "\n",
    "plotIt = PlotUtility()\n",
    "timeUtil = TimeUtility()\n",
    "ct = ComputeTarget()\n",
    "candle_ind = CandleIndicators()\n",
    "dSet = DataRetrieve()\n",
    "taLibMomSt = TALibMomentumStudies()\n",
    "transf = Transformers()\n",
    "modelUtil = ModelUtility()\n",
    "featureGen = FeatureGenerator()\n",
    "dSet = DataRetrieve()\n",
    "modelAlgo = AlgoUtility()"
   ]
  },
  {
   "cell_type": "code",
   "execution_count": 27,
   "metadata": {
    "code_folding": [
     0
    ],
    "collapsed": true
   },
   "outputs": [],
   "source": [
    "# function to create system directory based on system name if one doesn't already exist\n",
    "def get_system_dir(system_name):\n",
    "    # Create system directory in current path\n",
    "    current_directory = os.getcwd()\n",
    "    system_directory = os.path.join(current_directory, system_name)\n",
    "    if not os.path.exists(system_directory):\n",
    "       os.makedirs(system_directory)\n",
    "    return system_directory"
   ]
  },
  {
   "cell_type": "code",
   "execution_count": 28,
   "metadata": {
    "code_folding": [
     0
    ],
    "collapsed": true
   },
   "outputs": [],
   "source": [
    "# functions for save and load json files\n",
    "def save_json(filename, json_file):\n",
    "    # Save system_dict to file\n",
    "    #filename = 'system_dict.json'\n",
    "    file_path = os.path.join(system_directory, filename)\n",
    "    with open(file_path, 'w') as fp:\n",
    "        json.dump(json_file, fp, sort_keys=True, indent=4)\n",
    "        \n",
    "def load_json(file_path):\n",
    "    with open(file_path, 'r') as fp:\n",
    "        json_file = json.load(fp)\n",
    "    return json_file"
   ]
  },
  {
   "cell_type": "markdown",
   "metadata": {},
   "source": [
    "### Get system info"
   ]
  },
  {
   "cell_type": "code",
   "execution_count": 53,
   "metadata": {
    "collapsed": true
   },
   "outputs": [],
   "source": [
    "system_name = \"TLT-Long-system-6863-V1\""
   ]
  },
  {
   "cell_type": "code",
   "execution_count": 54,
   "metadata": {
    "code_folding": [
     0
    ],
    "collapsed": true
   },
   "outputs": [],
   "source": [
    "# Get system info\n",
    "current_directory = os.getcwd()\n",
    "system_directory = os.path.join(current_directory, system_name)\n",
    "if not os.path.exists(system_directory):\n",
    "    print(\"system doesn't exist\")\n",
    "else:\n",
    "    filename = 'system_dict.json'    \n",
    "    file_path = os.path.join(system_directory, filename)\n",
    "    system_dict = load_json(file_path)\n",
    "    issue = system_dict[\"issue\"]\n",
    "    direction = system_dict[\"direction\"]\n",
    "    ver_num = system_dict[\"ver_num\"]\n",
    "    # Perhaps only load these when needed?\n",
    "    pivotDate = system_dict[\"pivot_date\"]\n",
    "    is_oos_ratio = system_dict[\"is_oos_ratio\"]\n",
    "    oos_months = system_dict[\"oos_months\"]\n",
    "    segments = system_dict[\"segments\"]"
   ]
  },
  {
   "cell_type": "code",
   "execution_count": 55,
   "metadata": {
    "collapsed": true
   },
   "outputs": [],
   "source": [
    "# temp fix to make sure pivot date is 2019-01-03\n",
    "system_dict['pivot_date']='2019-01-03'\n",
    "pivotDate = '2019-01-03'"
   ]
  },
  {
   "cell_type": "code",
   "execution_count": 56,
   "metadata": {},
   "outputs": [
    {
     "data": {
      "text/plain": [
       "{'best_model': 'SVM',\n",
       " 'direction': 'Long',\n",
       " 'is_oos_ratio': 4,\n",
       " 'issue': 'TLT',\n",
       " 'oos_months': 4,\n",
       " 'pivot_date': '2019-01-03',\n",
       " 'segments': 1,\n",
       " 'system_name': 'TLT-Long-system-6863-V1',\n",
       " 'ver_num': 1}"
      ]
     },
     "execution_count": 56,
     "metadata": {},
     "output_type": "execute_result"
    }
   ],
   "source": [
    "system_dict"
   ]
  },
  {
   "cell_type": "code",
   "execution_count": 57,
   "metadata": {
    "code_folding": [
     0
    ]
   },
   "outputs": [
    {
     "name": "stdout",
     "output_type": "stream",
     "text": [
      "2019-01-03 00:00:00\n",
      "                    Segments:  1\n",
      "                IS OOS Ratio:  4\n",
      "                  OOS months:  4\n",
      "                   IS Months:  16\n",
      "              Months to load:  20\n",
      "              Data Load Date:  2017-04-03\n",
      "              IS Start  Date:  2017-05-03\n",
      "              OOS Start Date:  2018-09-03\n",
      "                  Pivot Date:  2019-01-03\n"
     ]
    }
   ],
   "source": [
    "# Set IS-OOS parameters\n",
    "from datetime import datetime\n",
    "pivotDate = datetime.strptime(pivotDate, '%Y-%m-%d')\n",
    "print(pivotDate)\n",
    "pivotDate = datetime.date(pivotDate)\n",
    "\n",
    "# set date splits\n",
    "isOosDates = timeUtil.is_oos_data_split(issue, pivotDate, is_oos_ratio, oos_months, segments)\n",
    "dataLoadStartDate = isOosDates[0]\n",
    "is_start_date = isOosDates[1]\n",
    "oos_start_date = isOosDates[2]\n",
    "is_months = isOosDates[3]\n",
    "is_end_date = isOosDates[4]\n",
    "oos_end_date = isOosDates[5]\n",
    "\n",
    "modelStartDate = oos_start_date"
   ]
  },
  {
   "cell_type": "markdown",
   "metadata": {},
   "source": [
    "### Set trade date\n",
    "In this case, increment to next business day after pivotDate\n",
    "\n",
    "Do it manually for now"
   ]
  },
  {
   "cell_type": "code",
   "execution_count": 58,
   "metadata": {},
   "outputs": [],
   "source": [
    "from pandas.tseries.offsets import CustomBusinessDay\n",
    "us_cal = CustomBusinessDay(calendar=USTradingCalendar())\n",
    "from pandas.tseries.offsets import BDay\n"
   ]
  },
  {
   "cell_type": "code",
   "execution_count": 59,
   "metadata": {},
   "outputs": [
    {
     "name": "stdout",
     "output_type": "stream",
     "text": [
      "2019-01-04 00:00:00\n"
     ]
    }
   ],
   "source": [
    "from datetime import timedelta\n",
    "#tradeDate = pivotDate + timedelta(days=1)\n",
    "tradeDate = pivotDate + BDay(1)\n",
    "print(tradeDate)"
   ]
  },
  {
   "cell_type": "markdown",
   "metadata": {},
   "source": [
    "### Retrieve feature_dict"
   ]
  },
  {
   "cell_type": "code",
   "execution_count": 60,
   "metadata": {
    "collapsed": true
   },
   "outputs": [],
   "source": [
    "file_name = 'feature_dict.json'\n",
    "file_path = os.path.join(system_directory, file_name)\n",
    "feature_dict = load_json(file_path)"
   ]
  },
  {
   "cell_type": "markdown",
   "metadata": {},
   "source": [
    "#### Get TMS - Part 2 output"
   ]
  },
  {
   "cell_type": "markdown",
   "metadata": {},
   "source": [
    "### Day by day procedure\n",
    "1. Set trade date\n",
    "2. Update close, transform\n",
    "3. Retrieve model\n",
    "4. Make prediction\n",
    "5. Update prev day gainAhead, trade (using TRADE DECISION), Equity (what df?)\n",
    "6. Update shadow trades df from (5)\n",
    "7. Calculate safe-f, CAR25 (TMS-Part 1)\n",
    "8. TRADE DECISION\n",
    "9. Update pivot date in dict"
   ]
  },
  {
   "cell_type": "markdown",
   "metadata": {},
   "source": [
    "### Steps to walkthrough\n",
    "1. Make copy of raw data and truncate it to pretend existing date"
   ]
  },
  {
   "cell_type": "code",
   "execution_count": 61,
   "metadata": {},
   "outputs": [
    {
     "name": "stdout",
     "output_type": "stream",
     "text": [
      "Successfully retrieved data series for TLT\n"
     ]
    }
   ],
   "source": [
    "raw_df = dSet.read_issue_data(issue)"
   ]
  },
  {
   "cell_type": "markdown",
   "metadata": {},
   "source": [
    "#### Trim df to 2019-01-03, then add 2019-01-04\n",
    "Don't use set_date_range to update to new date data"
   ]
  },
  {
   "cell_type": "code",
   "execution_count": 62,
   "metadata": {},
   "outputs": [
    {
     "data": {
      "text/plain": [
       "'2019-01-04'"
      ]
     },
     "execution_count": 62,
     "metadata": {},
     "output_type": "execute_result"
    }
   ],
   "source": [
    "tradeDate = tradeDate.strftime('%Y-%m-%d')\n",
    "tradeDate"
   ]
  },
  {
   "cell_type": "code",
   "execution_count": 63,
   "metadata": {},
   "outputs": [
    {
     "data": {
      "text/html": [
       "<div>\n",
       "<style>\n",
       "    .dataframe thead tr:only-child th {\n",
       "        text-align: right;\n",
       "    }\n",
       "\n",
       "    .dataframe thead th {\n",
       "        text-align: left;\n",
       "    }\n",
       "\n",
       "    .dataframe tbody tr th {\n",
       "        vertical-align: top;\n",
       "    }\n",
       "</style>\n",
       "<table border=\"1\" class=\"dataframe\">\n",
       "  <thead>\n",
       "    <tr style=\"text-align: right;\">\n",
       "      <th></th>\n",
       "      <th>Date</th>\n",
       "      <th>Open</th>\n",
       "      <th>High</th>\n",
       "      <th>Low</th>\n",
       "      <th>Close</th>\n",
       "      <th>AdjClose</th>\n",
       "      <th>Volume</th>\n",
       "    </tr>\n",
       "  </thead>\n",
       "  <tbody>\n",
       "    <tr>\n",
       "      <th>4137</th>\n",
       "      <td>2019-01-02</td>\n",
       "      <td>121.66</td>\n",
       "      <td>122.16</td>\n",
       "      <td>121.3401</td>\n",
       "      <td>122.15</td>\n",
       "      <td>121.8731</td>\n",
       "      <td>19841527.0</td>\n",
       "    </tr>\n",
       "    <tr>\n",
       "      <th>4138</th>\n",
       "      <td>2019-01-03</td>\n",
       "      <td>122.29</td>\n",
       "      <td>123.86</td>\n",
       "      <td>122.2267</td>\n",
       "      <td>123.54</td>\n",
       "      <td>123.2599</td>\n",
       "      <td>21187045.0</td>\n",
       "    </tr>\n",
       "  </tbody>\n",
       "</table>\n",
       "</div>"
      ],
      "text/plain": [
       "            Date    Open    High       Low   Close  AdjClose      Volume\n",
       "4137  2019-01-02  121.66  122.16  121.3401  122.15  121.8731  19841527.0\n",
       "4138  2019-01-03  122.29  123.86  122.2267  123.54  123.2599  21187045.0"
      ]
     },
     "execution_count": 63,
     "metadata": {},
     "output_type": "execute_result"
    }
   ],
   "source": [
    "# Use trade date instead of hard coding date\n",
    "trimmed_df = raw_df.iloc[0:raw_df[raw_df.Date == tradeDate].index[0]]\n",
    "trimmed_df.tail(2)"
   ]
  },
  {
   "cell_type": "code",
   "execution_count": 64,
   "metadata": {},
   "outputs": [
    {
     "data": {
      "text/html": [
       "<div>\n",
       "<style>\n",
       "    .dataframe thead tr:only-child th {\n",
       "        text-align: right;\n",
       "    }\n",
       "\n",
       "    .dataframe thead th {\n",
       "        text-align: left;\n",
       "    }\n",
       "\n",
       "    .dataframe tbody tr th {\n",
       "        vertical-align: top;\n",
       "    }\n",
       "</style>\n",
       "<table border=\"1\" class=\"dataframe\">\n",
       "  <thead>\n",
       "    <tr style=\"text-align: right;\">\n",
       "      <th></th>\n",
       "      <th>Date</th>\n",
       "      <th>Open</th>\n",
       "      <th>High</th>\n",
       "      <th>Low</th>\n",
       "      <th>Close</th>\n",
       "      <th>AdjClose</th>\n",
       "      <th>Volume</th>\n",
       "    </tr>\n",
       "  </thead>\n",
       "  <tbody>\n",
       "    <tr>\n",
       "      <th>4138</th>\n",
       "      <td>2019-01-03</td>\n",
       "      <td>122.29</td>\n",
       "      <td>123.86</td>\n",
       "      <td>122.2267</td>\n",
       "      <td>123.54</td>\n",
       "      <td>123.2599</td>\n",
       "      <td>21187045.0</td>\n",
       "    </tr>\n",
       "    <tr>\n",
       "      <th>4139</th>\n",
       "      <td>2019-01-04</td>\n",
       "      <td>122.34</td>\n",
       "      <td>122.56</td>\n",
       "      <td>121.6500</td>\n",
       "      <td>122.11</td>\n",
       "      <td>121.8332</td>\n",
       "      <td>12970226.0</td>\n",
       "    </tr>\n",
       "  </tbody>\n",
       "</table>\n",
       "</div>"
      ],
      "text/plain": [
       "            Date    Open    High       Low   Close  AdjClose      Volume\n",
       "4138  2019-01-03  122.29  123.86  122.2267  123.54  123.2599  21187045.0\n",
       "4139  2019-01-04  122.34  122.56  121.6500  122.11  121.8332  12970226.0"
      ]
     },
     "execution_count": 64,
     "metadata": {},
     "output_type": "execute_result"
    }
   ],
   "source": [
    "# add 2019-01-04\n",
    "new_data_df = trimmed_df.append({'Date' : tradeDate , 'Open' : 122.34, 'High' : 122.56, 'Low' : 121.65, 'Close' : 122.11, 'AdjClose' : 121.8332, 'Volume' : 12970226.0 } , ignore_index=True)\n",
    "new_data_df.tail(2)"
   ]
  },
  {
   "cell_type": "code",
   "execution_count": 65,
   "metadata": {},
   "outputs": [
    {
     "data": {
      "text/plain": [
       "'2002-07-26'"
      ]
     },
     "execution_count": 65,
     "metadata": {},
     "output_type": "execute_result"
    }
   ],
   "source": [
    "# get first row\n",
    "df_start_date = new_data_df.Date[0]\n",
    "df_start_date"
   ]
  },
  {
   "cell_type": "code",
   "execution_count": 66,
   "metadata": {},
   "outputs": [
    {
     "data": {
      "text/plain": [
       "'2019-01-04'"
      ]
     },
     "execution_count": 66,
     "metadata": {},
     "output_type": "execute_result"
    }
   ],
   "source": [
    "# get last row\n",
    "lastRow = new_data_df.shape[0]\n",
    "df_end_date = new_data_df.Date[lastRow-1]\n",
    "df_end_date"
   ]
  },
  {
   "cell_type": "code",
   "execution_count": 67,
   "metadata": {
    "collapsed": true
   },
   "outputs": [],
   "source": [
    "feat_df = dSet.set_date_range(new_data_df, df_start_date, df_end_date)\n",
    "# Resolve any NA's for now\n",
    "feat_df.fillna(method='ffill', inplace=True)\n",
    "\n",
    "#set beLong level\n",
    "beLongThreshold = 0.000\n",
    "feat_df = ct.setTarget(new_data_df, \"Long\", beLongThreshold)"
   ]
  },
  {
   "cell_type": "code",
   "execution_count": 68,
   "metadata": {},
   "outputs": [
    {
     "data": {
      "text/html": [
       "<div>\n",
       "<style>\n",
       "    .dataframe thead tr:only-child th {\n",
       "        text-align: right;\n",
       "    }\n",
       "\n",
       "    .dataframe thead th {\n",
       "        text-align: left;\n",
       "    }\n",
       "\n",
       "    .dataframe tbody tr th {\n",
       "        vertical-align: top;\n",
       "    }\n",
       "</style>\n",
       "<table border=\"1\" class=\"dataframe\">\n",
       "  <thead>\n",
       "    <tr style=\"text-align: right;\">\n",
       "      <th></th>\n",
       "      <th>Open</th>\n",
       "      <th>High</th>\n",
       "      <th>Low</th>\n",
       "      <th>Close</th>\n",
       "      <th>AdjClose</th>\n",
       "      <th>Volume</th>\n",
       "      <th>gainAhead</th>\n",
       "      <th>beLong</th>\n",
       "    </tr>\n",
       "    <tr>\n",
       "      <th>Date</th>\n",
       "      <th></th>\n",
       "      <th></th>\n",
       "      <th></th>\n",
       "      <th></th>\n",
       "      <th></th>\n",
       "      <th></th>\n",
       "      <th></th>\n",
       "      <th></th>\n",
       "    </tr>\n",
       "  </thead>\n",
       "  <tbody>\n",
       "    <tr>\n",
       "      <th>2019-01-03</th>\n",
       "      <td>122.29</td>\n",
       "      <td>123.86</td>\n",
       "      <td>122.2267</td>\n",
       "      <td>123.54</td>\n",
       "      <td>123.2599</td>\n",
       "      <td>21187045.0</td>\n",
       "      <td>-0.011575</td>\n",
       "      <td>-1</td>\n",
       "    </tr>\n",
       "    <tr>\n",
       "      <th>2019-01-04</th>\n",
       "      <td>122.34</td>\n",
       "      <td>122.56</td>\n",
       "      <td>121.6500</td>\n",
       "      <td>122.11</td>\n",
       "      <td>121.8332</td>\n",
       "      <td>12970226.0</td>\n",
       "      <td>0.000000</td>\n",
       "      <td>-1</td>\n",
       "    </tr>\n",
       "  </tbody>\n",
       "</table>\n",
       "</div>"
      ],
      "text/plain": [
       "              Open    High       Low   Close  AdjClose      Volume  gainAhead  \\\n",
       "Date                                                                            \n",
       "2019-01-03  122.29  123.86  122.2267  123.54  123.2599  21187045.0  -0.011575   \n",
       "2019-01-04  122.34  122.56  121.6500  122.11  121.8332  12970226.0   0.000000   \n",
       "\n",
       "            beLong  \n",
       "Date                \n",
       "2019-01-03      -1  \n",
       "2019-01-04      -1  "
      ]
     },
     "execution_count": 68,
     "metadata": {},
     "output_type": "execute_result"
    }
   ],
   "source": [
    "feat_df.tail(2)"
   ]
  },
  {
   "cell_type": "markdown",
   "metadata": {},
   "source": [
    "#### Adding features with new day\n",
    "Should I be generating new features again?\n",
    "How would add just one day's worth?"
   ]
  },
  {
   "cell_type": "code",
   "execution_count": 69,
   "metadata": {
    "collapsed": true
   },
   "outputs": [],
   "source": [
    "file_name = 'input_dict.json'\n",
    "file_path = os.path.join(system_directory, file_name)\n",
    "input_dict = load_json(file_path)"
   ]
  },
  {
   "cell_type": "code",
   "execution_count": 70,
   "metadata": {},
   "outputs": [
    {
     "data": {
      "text/plain": [
       "{'f1': {'fname': 'PPO', 'params': [2, 5], 'transform': ['Normalized', 20]},\n",
       " 'f10': {'fname': 'kaufman_AMA',\n",
       "  'params': [4],\n",
       "  'transform': ['Normalized', 20]},\n",
       " 'f2': {'fname': 'RSI', 'params': [2], 'transform': ['Normalized', 20]},\n",
       " 'f3': {'fname': 'CMO', 'params': [5], 'transform': ['Normalized', 20]},\n",
       " 'f4': {'fname': 'CCI', 'params': [10], 'transform': ['Normalized', 20]},\n",
       " 'f5': {'fname': 'UltimateOscillator',\n",
       "  'params': [10, 20, 30],\n",
       "  'transform': ['Normalized', 20]},\n",
       " 'f6': {'fname': 'ROC', 'params': [10], 'transform': ['Normalized', 20]},\n",
       " 'f7': {'fname': 'Lag',\n",
       "  'params': ['Close', 3],\n",
       "  'transform': ['Normalized', 20]},\n",
       " 'f8': {'fname': 'Lag',\n",
       "  'params': ['Close', 5],\n",
       "  'transform': ['Normalized', 20]},\n",
       " 'f9': {'fname': 'ChaikinADOSC',\n",
       "  'params': [4, 10],\n",
       "  'transform': ['Normalized', 20]}}"
      ]
     },
     "execution_count": 70,
     "metadata": {},
     "output_type": "execute_result"
    }
   ],
   "source": [
    "input_dict"
   ]
  },
  {
   "cell_type": "code",
   "execution_count": 71,
   "metadata": {},
   "outputs": [
    {
     "name": "stdout",
     "output_type": "stream",
     "text": [
      "f1\n",
      "fname:  PPO\n",
      "params:  [2, 5]\n",
      "Current feature:  PPO_f2_s5\n",
      "transform:  ['Normalized', 20]\n",
      "pass params [20]\n",
      "f10\n",
      "fname:  kaufman_AMA\n",
      "params:  [4]\n",
      "Current feature:  KAMA_4\n",
      "transform:  ['Normalized', 20]\n",
      "pass params [20]\n",
      "f2\n",
      "fname:  RSI\n",
      "params:  [2]\n",
      "Current feature:  RSI_2\n",
      "transform:  ['Normalized', 20]\n",
      "pass params [20]\n",
      "f3\n",
      "fname:  CMO\n",
      "params:  [5]\n",
      "Current feature:  CMO_5\n",
      "transform:  ['Normalized', 20]\n",
      "pass params [20]\n",
      "f4\n",
      "fname:  CCI\n",
      "params:  [10]\n",
      "Current feature:  CCI_10\n",
      "transform:  ['Normalized', 20]\n",
      "pass params [20]\n",
      "f5\n",
      "fname:  UltimateOscillator\n",
      "params:  [10, 20, 30]\n",
      "Current feature:  UltOsc_t110_t220_t330\n",
      "transform:  ['Normalized', 20]\n",
      "pass params [20]\n",
      "f6\n",
      "fname:  ROC\n",
      "params:  [10]\n",
      "Current feature:  ROC_10\n",
      "transform:  ['Normalized', 20]\n",
      "pass params [20]\n",
      "f7\n",
      "fname:  Lag\n",
      "params:  ['Close', 3]\n",
      "Date\n",
      "2018-12-06    118.88\n",
      "2018-12-07    118.35\n",
      "2018-12-10    118.07\n",
      "2018-12-11    118.48\n",
      "2018-12-12    119.17\n",
      "2018-12-13    119.60\n",
      "2018-12-14    121.18\n",
      "2018-12-17    120.74\n",
      "2018-12-18    120.72\n",
      "2018-12-19    121.32\n",
      "2018-12-20    120.02\n",
      "2018-12-21    120.04\n",
      "2018-12-24    121.05\n",
      "2018-12-26    121.51\n",
      "2018-12-27    122.15\n",
      "2018-12-28    123.54\n",
      "2018-12-31    122.11\n",
      "2019-01-02       NaN\n",
      "2019-01-03       NaN\n",
      "2019-01-04       NaN\n",
      "Name: Close_lag3, dtype: float64\n",
      "===============\n",
      "              Open     High       Low   Close  AdjClose      Volume  \\\n",
      "Date                                                                  \n",
      "2018-12-06  118.54  119.200  118.1300  118.19  117.6448  15319440.0   \n",
      "2018-12-07  117.81  118.530  117.5200  118.41  117.8638   8608467.0   \n",
      "2018-12-10  118.87  119.280  118.4400  118.90  118.3515   8777672.0   \n",
      "2018-12-11  118.97  119.380  118.6100  118.88  118.3316   8071952.0   \n",
      "2018-12-12  118.58  118.720  118.2400  118.35  117.8040   6182206.0   \n",
      "2018-12-13  118.46  118.580  117.9800  118.07  117.5253   5564328.0   \n",
      "2018-12-14  118.55  118.770  118.2200  118.48  117.9334   8169221.0   \n",
      "2018-12-17  118.59  119.300  118.5800  119.17  118.6203   9726781.0   \n",
      "2018-12-18  119.07  119.785  118.9400  119.60  119.3289  10019103.0   \n",
      "2018-12-19  120.11  121.660  119.9200  121.18  120.9053  23046272.0   \n",
      "2018-12-20  122.01  122.030  120.6700  120.74  120.4663  18543731.0   \n",
      "2018-12-21  121.14  121.210  120.3900  120.72  120.4463   9945103.0   \n",
      "2018-12-24  121.13  121.420  120.9100  121.32  121.0450   8377482.0   \n",
      "2018-12-26  120.99  121.390  119.9700  120.02  119.7479  11700412.0   \n",
      "2018-12-27  121.26  121.380  119.9800  120.04  119.7679  12146772.0   \n",
      "2018-12-28  120.40  121.050  120.2900  121.05  120.7756   9879116.0   \n",
      "2018-12-31  120.65  121.560  120.4600  121.51  121.2345  17408971.0   \n",
      "2019-01-02  121.66  122.160  121.3401  122.15  121.8731  19841527.0   \n",
      "2019-01-03  122.29  123.860  122.2267  123.54  123.2599  21187045.0   \n",
      "2019-01-04  122.34  122.560  121.6500  122.11  121.8332  12970226.0   \n",
      "\n",
      "            gainAhead  beLong  PPO_f2_s5  PPO_f2_s5_Normalized     ...      \\\n",
      "Date                                                               ...       \n",
      "2018-12-06   0.001861       1   1.357967              0.997086     ...       \n",
      "2018-12-07   0.004138       1   1.002339              0.984689     ...       \n",
      "2018-12-10  -0.000168      -1   0.691616              0.884958     ...       \n",
      "2018-12-11  -0.004458      -1   0.379939              0.540122     ...       \n",
      "2018-12-12  -0.002366      -1   0.058205              0.276064     ...       \n",
      "2018-12-13   0.003473       1  -0.263242              0.082817     ...       \n",
      "2018-12-14   0.005824       1  -0.220186              0.133998     ...       \n",
      "2018-12-17   0.003608       1   0.198162              0.527399     ...       \n",
      "2018-12-18   0.013211       1   0.548284              0.788655     ...       \n",
      "2018-12-19  -0.003631      -1   0.913663              0.925300     ...       \n",
      "2018-12-20  -0.000166      -1   0.939633              0.881740     ...       \n",
      "2018-12-21   0.004970       1   0.372458              0.579401     ...       \n",
      "2018-12-24  -0.010715      -1   0.255153              0.484440     ...       \n",
      "2018-12-26   0.000167       1  -0.104308              0.294287     ...       \n",
      "2018-12-27   0.008414       1  -0.446221              0.177998     ...       \n",
      "2018-12-28   0.003800       1  -0.070463              0.327940     ...       \n",
      "2018-12-31   0.005267       1   0.407325              0.545069     ...       \n",
      "2019-01-02   0.011379       1   0.724242              0.685333     ...       \n",
      "2019-01-03  -0.011575      -1   0.975686              0.782509     ...       \n",
      "2019-01-04   0.000000      -1   0.616849              0.598571     ...       \n",
      "\n",
      "            RSI_2_Normalized      CMO_5  CMO_5_Normalized      CCI_10  \\\n",
      "Date                                                                    \n",
      "2018-12-06          0.649508  82.830493          0.859372  193.956518   \n",
      "2018-12-07          0.618017  84.216444          0.886545  112.757715   \n",
      "2018-12-10          0.631908  87.112692          0.919161  107.175583   \n",
      "2018-12-11          0.592531  85.377167          0.885627   87.029206   \n",
      "2018-12-12          0.000662  41.807605          0.322333   55.475623   \n",
      "2018-12-13          0.005597  22.754849          0.151269   37.886877   \n",
      "2018-12-14          0.234772  38.001524          0.287364   45.743343   \n",
      "2018-12-17          0.511067  56.191660          0.487936   86.525999   \n",
      "2018-12-18          0.542409  64.341474          0.580507  145.794603   \n",
      "2018-12-19          0.600225  80.771432          0.742961  246.310526   \n",
      "2018-12-20          0.297395  55.784996          0.470911  164.570274   \n",
      "2018-12-21          0.317155  54.571076          0.486982   98.115636   \n",
      "2018-12-24          0.534919  64.844020          0.583670   95.802545   \n",
      "2018-12-26          0.046989   2.232561          0.109244   39.605270   \n",
      "2018-12-27          0.051710   2.941503          0.112330   30.792787   \n",
      "2018-12-28          0.431510  33.418471          0.317661   45.117207   \n",
      "2018-12-31          0.519009  43.515902          0.391798   76.131687   \n",
      "2019-01-02          0.587962  55.304304          0.496599  159.695601   \n",
      "2019-01-03          0.638427  71.469548          0.654559  247.935936   \n",
      "2019-01-04          0.071162  17.035946          0.163465   80.859687   \n",
      "\n",
      "            CCI_10_Normalized  UltOsc_t110_t220_t330  \\\n",
      "Date                                                   \n",
      "2018-12-06           0.851838              57.431199   \n",
      "2018-12-07           0.571643              59.464358   \n",
      "2018-12-10           0.529034              61.564761   \n",
      "2018-12-11           0.319235              60.270912   \n",
      "2018-12-12           0.037530              58.164945   \n",
      "2018-12-13           0.030615              57.638061   \n",
      "2018-12-14           0.165710              57.697005   \n",
      "2018-12-17           0.425549              58.769197   \n",
      "2018-12-18           0.793278              57.298522   \n",
      "2018-12-19           0.988591              58.014084   \n",
      "2018-12-20           0.805082              55.214977   \n",
      "2018-12-21           0.507342              52.179578   \n",
      "2018-12-24           0.476473              54.327715   \n",
      "2018-12-26           0.253822              49.691011   \n",
      "2018-12-27           0.225541              46.183860   \n",
      "2018-12-28           0.293985              51.121298   \n",
      "2018-12-31           0.412609              54.050944   \n",
      "2019-01-02           0.764951              55.153356   \n",
      "2019-01-03           0.941671              56.302881   \n",
      "2019-01-04           0.440680              49.835856   \n",
      "\n",
      "            UltOsc_t110_t220_t330_Normalized    ROC_10  ROC_10_Normalized  \\\n",
      "Date                                                                        \n",
      "2018-12-06                          0.662366  2.720320           0.786381   \n",
      "2018-12-07                          0.694055  2.947314           0.838573   \n",
      "2018-12-10                          0.751483  3.265590           0.872437   \n",
      "2018-12-11                          0.676619  3.481894           0.884760   \n",
      "2018-12-12                          0.543576  2.904095           0.739157   \n",
      "2018-12-13                          0.515265  3.162953           0.700185   \n",
      "2018-12-14                          0.520287  3.115753           0.672196   \n",
      "2018-12-17                          0.619991  3.329576           0.702885   \n",
      "2018-12-18                          0.443912  3.210217           0.683267   \n",
      "2018-12-19                          0.563118  2.851808           0.594393   \n",
      "2018-12-20                          0.106359  2.157543           0.409397   \n",
      "2018-12-21                          0.012860  1.950849           0.366215   \n",
      "2018-12-24                          0.157539  2.035324           0.383694   \n",
      "2018-12-26                          0.012623  0.958950           0.188563   \n",
      "2018-12-27                          0.005091  1.427968           0.284868   \n",
      "2018-12-28                          0.119531  2.523926           0.487989   \n",
      "2018-12-31                          0.261242  2.557394           0.480257   \n",
      "2019-01-02                          0.303317  2.500629           0.450596   \n",
      "2019-01-03                          0.385714  3.294314           0.743794   \n",
      "2019-01-04                          0.031756  0.767453           0.006328   \n",
      "\n",
      "            Close_lag3  \n",
      "Date                    \n",
      "2018-12-06     118.880  \n",
      "2018-12-07     118.350  \n",
      "2018-12-10     118.070  \n",
      "2018-12-11     118.480  \n",
      "2018-12-12     119.170  \n",
      "2018-12-13     119.600  \n",
      "2018-12-14     121.180  \n",
      "2018-12-17     120.740  \n",
      "2018-12-18     120.720  \n",
      "2018-12-19     121.320  \n",
      "2018-12-20     120.020  \n",
      "2018-12-21     120.040  \n",
      "2018-12-24     121.050  \n",
      "2018-12-26     121.510  \n",
      "2018-12-27     122.150  \n",
      "2018-12-28     123.540  \n",
      "2018-12-31     122.110  \n",
      "2019-01-02     122.600  \n",
      "2019-01-03     122.825  \n",
      "2019-01-04     122.110  \n",
      "\n",
      "[20 rows x 23 columns]\n",
      "Current feature:  Close_lag3\n",
      "transform:  ['Normalized', 20]\n",
      "pass params [20]\n"
     ]
    },
    {
     "name": "stdout",
     "output_type": "stream",
     "text": [
      "f8\n",
      "fname:  Lag\n",
      "params:  ['Close', 5]\n",
      "Date\n",
      "2018-12-06    118.07\n",
      "2018-12-07    118.48\n",
      "2018-12-10    119.17\n",
      "2018-12-11    119.60\n",
      "2018-12-12    121.18\n",
      "2018-12-13    120.74\n",
      "2018-12-14    120.72\n",
      "2018-12-17    121.32\n",
      "2018-12-18    120.02\n",
      "2018-12-19    120.04\n",
      "2018-12-20    121.05\n",
      "2018-12-21    121.51\n",
      "2018-12-24    122.15\n",
      "2018-12-26    123.54\n",
      "2018-12-27    122.11\n",
      "2018-12-28       NaN\n",
      "2018-12-31       NaN\n",
      "2019-01-02       NaN\n",
      "2019-01-03       NaN\n",
      "2019-01-04       NaN\n",
      "Name: Close_lag5, dtype: float64\n",
      "===============\n",
      "              Open     High       Low   Close  AdjClose      Volume  \\\n",
      "Date                                                                  \n",
      "2018-12-06  118.54  119.200  118.1300  118.19  117.6448  15319440.0   \n",
      "2018-12-07  117.81  118.530  117.5200  118.41  117.8638   8608467.0   \n",
      "2018-12-10  118.87  119.280  118.4400  118.90  118.3515   8777672.0   \n",
      "2018-12-11  118.97  119.380  118.6100  118.88  118.3316   8071952.0   \n",
      "2018-12-12  118.58  118.720  118.2400  118.35  117.8040   6182206.0   \n",
      "2018-12-13  118.46  118.580  117.9800  118.07  117.5253   5564328.0   \n",
      "2018-12-14  118.55  118.770  118.2200  118.48  117.9334   8169221.0   \n",
      "2018-12-17  118.59  119.300  118.5800  119.17  118.6203   9726781.0   \n",
      "2018-12-18  119.07  119.785  118.9400  119.60  119.3289  10019103.0   \n",
      "2018-12-19  120.11  121.660  119.9200  121.18  120.9053  23046272.0   \n",
      "2018-12-20  122.01  122.030  120.6700  120.74  120.4663  18543731.0   \n",
      "2018-12-21  121.14  121.210  120.3900  120.72  120.4463   9945103.0   \n",
      "2018-12-24  121.13  121.420  120.9100  121.32  121.0450   8377482.0   \n",
      "2018-12-26  120.99  121.390  119.9700  120.02  119.7479  11700412.0   \n",
      "2018-12-27  121.26  121.380  119.9800  120.04  119.7679  12146772.0   \n",
      "2018-12-28  120.40  121.050  120.2900  121.05  120.7756   9879116.0   \n",
      "2018-12-31  120.65  121.560  120.4600  121.51  121.2345  17408971.0   \n",
      "2019-01-02  121.66  122.160  121.3401  122.15  121.8731  19841527.0   \n",
      "2019-01-03  122.29  123.860  122.2267  123.54  123.2599  21187045.0   \n",
      "2019-01-04  122.34  122.560  121.6500  122.11  121.8332  12970226.0   \n",
      "\n",
      "            gainAhead  beLong  PPO_f2_s5  PPO_f2_s5_Normalized     ...      \\\n",
      "Date                                                               ...       \n",
      "2018-12-06   0.001861       1   1.357967              0.997086     ...       \n",
      "2018-12-07   0.004138       1   1.002339              0.984689     ...       \n",
      "2018-12-10  -0.000168      -1   0.691616              0.884958     ...       \n",
      "2018-12-11  -0.004458      -1   0.379939              0.540122     ...       \n",
      "2018-12-12  -0.002366      -1   0.058205              0.276064     ...       \n",
      "2018-12-13   0.003473       1  -0.263242              0.082817     ...       \n",
      "2018-12-14   0.005824       1  -0.220186              0.133998     ...       \n",
      "2018-12-17   0.003608       1   0.198162              0.527399     ...       \n",
      "2018-12-18   0.013211       1   0.548284              0.788655     ...       \n",
      "2018-12-19  -0.003631      -1   0.913663              0.925300     ...       \n",
      "2018-12-20  -0.000166      -1   0.939633              0.881740     ...       \n",
      "2018-12-21   0.004970       1   0.372458              0.579401     ...       \n",
      "2018-12-24  -0.010715      -1   0.255153              0.484440     ...       \n",
      "2018-12-26   0.000167       1  -0.104308              0.294287     ...       \n",
      "2018-12-27   0.008414       1  -0.446221              0.177998     ...       \n",
      "2018-12-28   0.003800       1  -0.070463              0.327940     ...       \n",
      "2018-12-31   0.005267       1   0.407325              0.545069     ...       \n",
      "2019-01-02   0.011379       1   0.724242              0.685333     ...       \n",
      "2019-01-03  -0.011575      -1   0.975686              0.782509     ...       \n",
      "2019-01-04   0.000000      -1   0.616849              0.598571     ...       \n",
      "\n",
      "            CMO_5_Normalized      CCI_10  CCI_10_Normalized  \\\n",
      "Date                                                          \n",
      "2018-12-06          0.859372  193.956518           0.851838   \n",
      "2018-12-07          0.886545  112.757715           0.571643   \n",
      "2018-12-10          0.919161  107.175583           0.529034   \n",
      "2018-12-11          0.885627   87.029206           0.319235   \n",
      "2018-12-12          0.322333   55.475623           0.037530   \n",
      "2018-12-13          0.151269   37.886877           0.030615   \n",
      "2018-12-14          0.287364   45.743343           0.165710   \n",
      "2018-12-17          0.487936   86.525999           0.425549   \n",
      "2018-12-18          0.580507  145.794603           0.793278   \n",
      "2018-12-19          0.742961  246.310526           0.988591   \n",
      "2018-12-20          0.470911  164.570274           0.805082   \n",
      "2018-12-21          0.486982   98.115636           0.507342   \n",
      "2018-12-24          0.583670   95.802545           0.476473   \n",
      "2018-12-26          0.109244   39.605270           0.253822   \n",
      "2018-12-27          0.112330   30.792787           0.225541   \n",
      "2018-12-28          0.317661   45.117207           0.293985   \n",
      "2018-12-31          0.391798   76.131687           0.412609   \n",
      "2019-01-02          0.496599  159.695601           0.764951   \n",
      "2019-01-03          0.654559  247.935936           0.941671   \n",
      "2019-01-04          0.163465   80.859687           0.440680   \n",
      "\n",
      "            UltOsc_t110_t220_t330  UltOsc_t110_t220_t330_Normalized    ROC_10  \\\n",
      "Date                                                                            \n",
      "2018-12-06              57.431199                          0.662366  2.720320   \n",
      "2018-12-07              59.464358                          0.694055  2.947314   \n",
      "2018-12-10              61.564761                          0.751483  3.265590   \n",
      "2018-12-11              60.270912                          0.676619  3.481894   \n",
      "2018-12-12              58.164945                          0.543576  2.904095   \n",
      "2018-12-13              57.638061                          0.515265  3.162953   \n",
      "2018-12-14              57.697005                          0.520287  3.115753   \n",
      "2018-12-17              58.769197                          0.619991  3.329576   \n",
      "2018-12-18              57.298522                          0.443912  3.210217   \n",
      "2018-12-19              58.014084                          0.563118  2.851808   \n",
      "2018-12-20              55.214977                          0.106359  2.157543   \n",
      "2018-12-21              52.179578                          0.012860  1.950849   \n",
      "2018-12-24              54.327715                          0.157539  2.035324   \n",
      "2018-12-26              49.691011                          0.012623  0.958950   \n",
      "2018-12-27              46.183860                          0.005091  1.427968   \n",
      "2018-12-28              51.121298                          0.119531  2.523926   \n",
      "2018-12-31              54.050944                          0.261242  2.557394   \n",
      "2019-01-02              55.153356                          0.303317  2.500629   \n",
      "2019-01-03              56.302881                          0.385714  3.294314   \n",
      "2019-01-04              49.835856                          0.031756  0.767453   \n",
      "\n",
      "            ROC_10_Normalized  Close_lag3  Close_lag3_Normalized  Close_lag5  \n",
      "Date                                                                          \n",
      "2018-12-06           0.786381     118.880               0.999758    118.0700  \n",
      "2018-12-07           0.838573     118.350               0.973050    118.4800  \n",
      "2018-12-10           0.872437     118.070               0.837581    119.1700  \n",
      "2018-12-11           0.884760     118.480               0.854196    119.6000  \n",
      "2018-12-12           0.739157     119.170               0.887187    121.1800  \n",
      "2018-12-13           0.700185     119.600               0.883649    120.7400  \n",
      "2018-12-14           0.672196     121.180               0.898087    120.7200  \n",
      "2018-12-17           0.702885     120.740               0.785757    121.3200  \n",
      "2018-12-18           0.683267     120.720               0.753673    120.0200  \n",
      "2018-12-19           0.594393     121.320               0.796074    120.0400  \n",
      "2018-12-20           0.409397     120.020               0.678652    121.0500  \n",
      "2018-12-21           0.366215     120.040               0.749525    121.5100  \n",
      "2018-12-24           0.383694     121.050               0.879947    122.1500  \n",
      "2018-12-26           0.188563     121.510               0.899384    123.5400  \n",
      "2018-12-27           0.284868     122.150               0.901450    122.1100  \n",
      "2018-12-28           0.487989     123.540               0.956843    122.0720  \n",
      "2018-12-31           0.480257     122.110               0.809991    122.3275  \n",
      "2019-01-02           0.450596     122.600               0.854388    122.6000  \n",
      "2019-01-03           0.743794     122.825               0.838638    122.8250  \n",
      "2019-01-04           0.006328     122.110               0.705260    122.1100  \n",
      "\n",
      "[20 rows x 25 columns]\n",
      "Current feature:  Close_lag5\n",
      "transform:  ['Normalized', 20]\n",
      "pass params [20]\n"
     ]
    },
    {
     "name": "stdout",
     "output_type": "stream",
     "text": [
      "f9\n",
      "fname:  ChaikinADOSC\n",
      "params:  [4, 10]\n",
      "Current feature:  ChaikinADOSC_f4_s10\n",
      "transform:  ['Normalized', 20]\n",
      "pass params [20]\n"
     ]
    }
   ],
   "source": [
    "feat_df = featureGen.generate_features(feat_df, input_dict)"
   ]
  },
  {
   "cell_type": "code",
   "execution_count": 72,
   "metadata": {},
   "outputs": [
    {
     "data": {
      "text/html": [
       "<div>\n",
       "<style>\n",
       "    .dataframe thead tr:only-child th {\n",
       "        text-align: right;\n",
       "    }\n",
       "\n",
       "    .dataframe thead th {\n",
       "        text-align: left;\n",
       "    }\n",
       "\n",
       "    .dataframe tbody tr th {\n",
       "        vertical-align: top;\n",
       "    }\n",
       "</style>\n",
       "<table border=\"1\" class=\"dataframe\">\n",
       "  <thead>\n",
       "    <tr style=\"text-align: right;\">\n",
       "      <th></th>\n",
       "      <th>Open</th>\n",
       "      <th>High</th>\n",
       "      <th>Low</th>\n",
       "      <th>Close</th>\n",
       "      <th>AdjClose</th>\n",
       "      <th>Volume</th>\n",
       "      <th>gainAhead</th>\n",
       "      <th>beLong</th>\n",
       "      <th>PPO_f2_s5</th>\n",
       "      <th>PPO_f2_s5_Normalized</th>\n",
       "      <th>...</th>\n",
       "      <th>UltOsc_t110_t220_t330</th>\n",
       "      <th>UltOsc_t110_t220_t330_Normalized</th>\n",
       "      <th>ROC_10</th>\n",
       "      <th>ROC_10_Normalized</th>\n",
       "      <th>Close_lag3</th>\n",
       "      <th>Close_lag3_Normalized</th>\n",
       "      <th>Close_lag5</th>\n",
       "      <th>Close_lag5_Normalized</th>\n",
       "      <th>ChaikinADOSC_f4_s10</th>\n",
       "      <th>ChaikinADOSC_f4_s10_Normalized</th>\n",
       "    </tr>\n",
       "    <tr>\n",
       "      <th>Date</th>\n",
       "      <th></th>\n",
       "      <th></th>\n",
       "      <th></th>\n",
       "      <th></th>\n",
       "      <th></th>\n",
       "      <th></th>\n",
       "      <th></th>\n",
       "      <th></th>\n",
       "      <th></th>\n",
       "      <th></th>\n",
       "      <th></th>\n",
       "      <th></th>\n",
       "      <th></th>\n",
       "      <th></th>\n",
       "      <th></th>\n",
       "      <th></th>\n",
       "      <th></th>\n",
       "      <th></th>\n",
       "      <th></th>\n",
       "      <th></th>\n",
       "      <th></th>\n",
       "    </tr>\n",
       "  </thead>\n",
       "  <tbody>\n",
       "    <tr>\n",
       "      <th>2019-01-03</th>\n",
       "      <td>122.29</td>\n",
       "      <td>123.86</td>\n",
       "      <td>122.2267</td>\n",
       "      <td>123.54</td>\n",
       "      <td>123.2599</td>\n",
       "      <td>21187045.0</td>\n",
       "      <td>-0.011575</td>\n",
       "      <td>-1</td>\n",
       "      <td>0.975686</td>\n",
       "      <td>0.782509</td>\n",
       "      <td>...</td>\n",
       "      <td>56.302881</td>\n",
       "      <td>0.385714</td>\n",
       "      <td>3.294314</td>\n",
       "      <td>0.743794</td>\n",
       "      <td>122.825</td>\n",
       "      <td>0.838638</td>\n",
       "      <td>122.825</td>\n",
       "      <td>0.772004</td>\n",
       "      <td>1.149759e+07</td>\n",
       "      <td>0.999931</td>\n",
       "    </tr>\n",
       "    <tr>\n",
       "      <th>2019-01-04</th>\n",
       "      <td>122.34</td>\n",
       "      <td>122.56</td>\n",
       "      <td>121.6500</td>\n",
       "      <td>122.11</td>\n",
       "      <td>121.8332</td>\n",
       "      <td>12970226.0</td>\n",
       "      <td>0.000000</td>\n",
       "      <td>-1</td>\n",
       "      <td>0.616849</td>\n",
       "      <td>0.598571</td>\n",
       "      <td>...</td>\n",
       "      <td>49.835856</td>\n",
       "      <td>0.031756</td>\n",
       "      <td>0.767453</td>\n",
       "      <td>0.006328</td>\n",
       "      <td>122.110</td>\n",
       "      <td>0.705260</td>\n",
       "      <td>122.110</td>\n",
       "      <td>0.674094</td>\n",
       "      <td>1.337874e+07</td>\n",
       "      <td>0.999996</td>\n",
       "    </tr>\n",
       "  </tbody>\n",
       "</table>\n",
       "<p>2 rows × 28 columns</p>\n",
       "</div>"
      ],
      "text/plain": [
       "              Open    High       Low   Close  AdjClose      Volume  gainAhead  \\\n",
       "Date                                                                            \n",
       "2019-01-03  122.29  123.86  122.2267  123.54  123.2599  21187045.0  -0.011575   \n",
       "2019-01-04  122.34  122.56  121.6500  122.11  121.8332  12970226.0   0.000000   \n",
       "\n",
       "            beLong  PPO_f2_s5  PPO_f2_s5_Normalized  \\\n",
       "Date                                                  \n",
       "2019-01-03      -1   0.975686              0.782509   \n",
       "2019-01-04      -1   0.616849              0.598571   \n",
       "\n",
       "                         ...                UltOsc_t110_t220_t330  \\\n",
       "Date                     ...                                        \n",
       "2019-01-03               ...                            56.302881   \n",
       "2019-01-04               ...                            49.835856   \n",
       "\n",
       "            UltOsc_t110_t220_t330_Normalized    ROC_10  ROC_10_Normalized  \\\n",
       "Date                                                                        \n",
       "2019-01-03                          0.385714  3.294314           0.743794   \n",
       "2019-01-04                          0.031756  0.767453           0.006328   \n",
       "\n",
       "            Close_lag3  Close_lag3_Normalized  Close_lag5  \\\n",
       "Date                                                        \n",
       "2019-01-03     122.825               0.838638     122.825   \n",
       "2019-01-04     122.110               0.705260     122.110   \n",
       "\n",
       "            Close_lag5_Normalized  ChaikinADOSC_f4_s10  \\\n",
       "Date                                                     \n",
       "2019-01-03               0.772004         1.149759e+07   \n",
       "2019-01-04               0.674094         1.337874e+07   \n",
       "\n",
       "            ChaikinADOSC_f4_s10_Normalized  \n",
       "Date                                        \n",
       "2019-01-03                        0.999931  \n",
       "2019-01-04                        0.999996  \n",
       "\n",
       "[2 rows x 28 columns]"
      ]
     },
     "execution_count": 72,
     "metadata": {},
     "output_type": "execute_result"
    }
   ],
   "source": [
    "feat_df.tail(2)"
   ]
  },
  {
   "cell_type": "code",
   "execution_count": 73,
   "metadata": {
    "collapsed": true
   },
   "outputs": [],
   "source": [
    "feat_df = transf.normalizer(feat_df, 'Volume', 50)"
   ]
  },
  {
   "cell_type": "code",
   "execution_count": 74,
   "metadata": {},
   "outputs": [
    {
     "data": {
      "text/html": [
       "<div>\n",
       "<style>\n",
       "    .dataframe thead tr:only-child th {\n",
       "        text-align: right;\n",
       "    }\n",
       "\n",
       "    .dataframe thead th {\n",
       "        text-align: left;\n",
       "    }\n",
       "\n",
       "    .dataframe tbody tr th {\n",
       "        vertical-align: top;\n",
       "    }\n",
       "</style>\n",
       "<table border=\"1\" class=\"dataframe\">\n",
       "  <thead>\n",
       "    <tr style=\"text-align: right;\">\n",
       "      <th></th>\n",
       "      <th>Open</th>\n",
       "      <th>High</th>\n",
       "      <th>Low</th>\n",
       "      <th>Close</th>\n",
       "      <th>AdjClose</th>\n",
       "      <th>Volume</th>\n",
       "      <th>gainAhead</th>\n",
       "      <th>beLong</th>\n",
       "      <th>PPO_f2_s5</th>\n",
       "      <th>PPO_f2_s5_Normalized</th>\n",
       "      <th>...</th>\n",
       "      <th>UltOsc_t110_t220_t330_Normalized</th>\n",
       "      <th>ROC_10</th>\n",
       "      <th>ROC_10_Normalized</th>\n",
       "      <th>Close_lag3</th>\n",
       "      <th>Close_lag3_Normalized</th>\n",
       "      <th>Close_lag5</th>\n",
       "      <th>Close_lag5_Normalized</th>\n",
       "      <th>ChaikinADOSC_f4_s10</th>\n",
       "      <th>ChaikinADOSC_f4_s10_Normalized</th>\n",
       "      <th>Volume_Normalized</th>\n",
       "    </tr>\n",
       "    <tr>\n",
       "      <th>Date</th>\n",
       "      <th></th>\n",
       "      <th></th>\n",
       "      <th></th>\n",
       "      <th></th>\n",
       "      <th></th>\n",
       "      <th></th>\n",
       "      <th></th>\n",
       "      <th></th>\n",
       "      <th></th>\n",
       "      <th></th>\n",
       "      <th></th>\n",
       "      <th></th>\n",
       "      <th></th>\n",
       "      <th></th>\n",
       "      <th></th>\n",
       "      <th></th>\n",
       "      <th></th>\n",
       "      <th></th>\n",
       "      <th></th>\n",
       "      <th></th>\n",
       "      <th></th>\n",
       "    </tr>\n",
       "  </thead>\n",
       "  <tbody>\n",
       "    <tr>\n",
       "      <th>2019-01-03</th>\n",
       "      <td>122.29</td>\n",
       "      <td>123.86</td>\n",
       "      <td>122.2267</td>\n",
       "      <td>123.54</td>\n",
       "      <td>123.2599</td>\n",
       "      <td>21187045.0</td>\n",
       "      <td>-0.011575</td>\n",
       "      <td>-1</td>\n",
       "      <td>0.975686</td>\n",
       "      <td>0.782509</td>\n",
       "      <td>...</td>\n",
       "      <td>0.385714</td>\n",
       "      <td>3.294314</td>\n",
       "      <td>0.743794</td>\n",
       "      <td>122.825</td>\n",
       "      <td>0.838638</td>\n",
       "      <td>122.825</td>\n",
       "      <td>0.772004</td>\n",
       "      <td>1.149759e+07</td>\n",
       "      <td>0.999931</td>\n",
       "      <td>0.998861</td>\n",
       "    </tr>\n",
       "    <tr>\n",
       "      <th>2019-01-04</th>\n",
       "      <td>122.34</td>\n",
       "      <td>122.56</td>\n",
       "      <td>121.6500</td>\n",
       "      <td>122.11</td>\n",
       "      <td>121.8332</td>\n",
       "      <td>12970226.0</td>\n",
       "      <td>0.000000</td>\n",
       "      <td>-1</td>\n",
       "      <td>0.616849</td>\n",
       "      <td>0.598571</td>\n",
       "      <td>...</td>\n",
       "      <td>0.031756</td>\n",
       "      <td>0.767453</td>\n",
       "      <td>0.006328</td>\n",
       "      <td>122.110</td>\n",
       "      <td>0.705260</td>\n",
       "      <td>122.110</td>\n",
       "      <td>0.674094</td>\n",
       "      <td>1.337874e+07</td>\n",
       "      <td>0.999996</td>\n",
       "      <td>0.833648</td>\n",
       "    </tr>\n",
       "  </tbody>\n",
       "</table>\n",
       "<p>2 rows × 29 columns</p>\n",
       "</div>"
      ],
      "text/plain": [
       "              Open    High       Low   Close  AdjClose      Volume  gainAhead  \\\n",
       "Date                                                                            \n",
       "2019-01-03  122.29  123.86  122.2267  123.54  123.2599  21187045.0  -0.011575   \n",
       "2019-01-04  122.34  122.56  121.6500  122.11  121.8332  12970226.0   0.000000   \n",
       "\n",
       "            beLong  PPO_f2_s5  PPO_f2_s5_Normalized        ...          \\\n",
       "Date                                                       ...           \n",
       "2019-01-03      -1   0.975686              0.782509        ...           \n",
       "2019-01-04      -1   0.616849              0.598571        ...           \n",
       "\n",
       "            UltOsc_t110_t220_t330_Normalized    ROC_10  ROC_10_Normalized  \\\n",
       "Date                                                                        \n",
       "2019-01-03                          0.385714  3.294314           0.743794   \n",
       "2019-01-04                          0.031756  0.767453           0.006328   \n",
       "\n",
       "            Close_lag3  Close_lag3_Normalized  Close_lag5  \\\n",
       "Date                                                        \n",
       "2019-01-03     122.825               0.838638     122.825   \n",
       "2019-01-04     122.110               0.705260     122.110   \n",
       "\n",
       "            Close_lag5_Normalized  ChaikinADOSC_f4_s10  \\\n",
       "Date                                                     \n",
       "2019-01-03               0.772004         1.149759e+07   \n",
       "2019-01-04               0.674094         1.337874e+07   \n",
       "\n",
       "            ChaikinADOSC_f4_s10_Normalized  Volume_Normalized  \n",
       "Date                                                           \n",
       "2019-01-03                        0.999931           0.998861  \n",
       "2019-01-04                        0.999996           0.833648  \n",
       "\n",
       "[2 rows x 29 columns]"
      ]
     },
     "execution_count": 74,
     "metadata": {},
     "output_type": "execute_result"
    }
   ],
   "source": [
    "feat_df.tail(2)"
   ]
  },
  {
   "cell_type": "code",
   "execution_count": 75,
   "metadata": {},
   "outputs": [],
   "source": [
    "col_vals = [k for k,v in feature_dict.items() if v == 'Drop']\n",
    "to_drop = ['Open','High','Low', 'gainAhead', 'Close', 'Volume', 'AdjClose', 'beLong']\n",
    "for x in to_drop:\n",
    "    col_vals.append(x)\n",
    "model_data = dSet.drop_columns(feat_df, col_vals)"
   ]
  },
  {
   "cell_type": "code",
   "execution_count": 76,
   "metadata": {},
   "outputs": [
    {
     "data": {
      "text/html": [
       "<div>\n",
       "<style>\n",
       "    .dataframe thead tr:only-child th {\n",
       "        text-align: right;\n",
       "    }\n",
       "\n",
       "    .dataframe thead th {\n",
       "        text-align: left;\n",
       "    }\n",
       "\n",
       "    .dataframe tbody tr th {\n",
       "        vertical-align: top;\n",
       "    }\n",
       "</style>\n",
       "<table border=\"1\" class=\"dataframe\">\n",
       "  <thead>\n",
       "    <tr style=\"text-align: right;\">\n",
       "      <th></th>\n",
       "      <th>PPO_f2_s5_Normalized</th>\n",
       "      <th>RSI_2_Normalized</th>\n",
       "      <th>UltOsc_t110_t220_t330_Normalized</th>\n",
       "      <th>ROC_10_Normalized</th>\n",
       "      <th>Close_lag3_Normalized</th>\n",
       "      <th>Close_lag5_Normalized</th>\n",
       "      <th>ChaikinADOSC_f4_s10_Normalized</th>\n",
       "      <th>Volume_Normalized</th>\n",
       "    </tr>\n",
       "    <tr>\n",
       "      <th>Date</th>\n",
       "      <th></th>\n",
       "      <th></th>\n",
       "      <th></th>\n",
       "      <th></th>\n",
       "      <th></th>\n",
       "      <th></th>\n",
       "      <th></th>\n",
       "      <th></th>\n",
       "    </tr>\n",
       "  </thead>\n",
       "  <tbody>\n",
       "    <tr>\n",
       "      <th>2019-01-03</th>\n",
       "      <td>0.782509</td>\n",
       "      <td>0.638427</td>\n",
       "      <td>0.385714</td>\n",
       "      <td>0.743794</td>\n",
       "      <td>0.838638</td>\n",
       "      <td>0.772004</td>\n",
       "      <td>0.999931</td>\n",
       "      <td>0.998861</td>\n",
       "    </tr>\n",
       "    <tr>\n",
       "      <th>2019-01-04</th>\n",
       "      <td>0.598571</td>\n",
       "      <td>0.071162</td>\n",
       "      <td>0.031756</td>\n",
       "      <td>0.006328</td>\n",
       "      <td>0.705260</td>\n",
       "      <td>0.674094</td>\n",
       "      <td>0.999996</td>\n",
       "      <td>0.833648</td>\n",
       "    </tr>\n",
       "  </tbody>\n",
       "</table>\n",
       "</div>"
      ],
      "text/plain": [
       "            PPO_f2_s5_Normalized  RSI_2_Normalized  \\\n",
       "Date                                                 \n",
       "2019-01-03              0.782509          0.638427   \n",
       "2019-01-04              0.598571          0.071162   \n",
       "\n",
       "            UltOsc_t110_t220_t330_Normalized  ROC_10_Normalized  \\\n",
       "Date                                                              \n",
       "2019-01-03                          0.385714           0.743794   \n",
       "2019-01-04                          0.031756           0.006328   \n",
       "\n",
       "            Close_lag3_Normalized  Close_lag5_Normalized  \\\n",
       "Date                                                       \n",
       "2019-01-03               0.838638               0.772004   \n",
       "2019-01-04               0.705260               0.674094   \n",
       "\n",
       "            ChaikinADOSC_f4_s10_Normalized  Volume_Normalized  \n",
       "Date                                                           \n",
       "2019-01-03                        0.999931           0.998861  \n",
       "2019-01-04                        0.999996           0.833648  "
      ]
     },
     "execution_count": 76,
     "metadata": {},
     "output_type": "execute_result"
    }
   ],
   "source": [
    "model_data.tail(2)"
   ]
  },
  {
   "cell_type": "code",
   "execution_count": 77,
   "metadata": {
    "collapsed": true
   },
   "outputs": [],
   "source": [
    "# Retrieve model\n",
    "best_model_name = system_dict[\"best_model\"]\n",
    "file_title = \"fit-model-\" + best_model_name + \"-IS-\" + system_name + \".sav\"\n",
    "file_name = os.path.join(system_directory, file_title)\n",
    "model = pickle.load(open(file_name, 'rb'))"
   ]
  },
  {
   "cell_type": "code",
   "execution_count": 78,
   "metadata": {},
   "outputs": [
    {
     "name": "stdout",
     "output_type": "stream",
     "text": [
      "2019-01-04 00:00:00\n"
     ]
    }
   ],
   "source": [
    "# get last row of data\n",
    "lastRow = model_data.shape[0]\n",
    "model_end_date = model_data.index[lastRow-1]\n",
    "print(model_end_date)"
   ]
  },
  {
   "cell_type": "code",
   "execution_count": 79,
   "metadata": {},
   "outputs": [
    {
     "data": {
      "text/plain": [
       "array([[ 0.59857117,  0.07116229,  0.03175645,  0.0063281 ,  0.7052599 ,\n",
       "         0.67409429,  0.99999621,  0.83364768]])"
      ]
     },
     "execution_count": 79,
     "metadata": {},
     "output_type": "execute_result"
    }
   ],
   "source": [
    "# Make prediction\n",
    "predict_data = model_data.iloc[lastRow-1]\n",
    "dX = np.zeros_like(predict_data)\n",
    "dX = predict_data.values\n",
    "dX = dX.reshape(1, -1)\n",
    "dX"
   ]
  },
  {
   "cell_type": "code",
   "execution_count": 80,
   "metadata": {},
   "outputs": [
    {
     "data": {
      "text/plain": [
       "array([1])"
      ]
     },
     "execution_count": 80,
     "metadata": {},
     "output_type": "execute_result"
    }
   ],
   "source": [
    "# get prediction\n",
    "y_validate = []\n",
    "y_validate = model.predict(dX)\n",
    "y_validate"
   ]
  },
  {
   "cell_type": "code",
   "execution_count": 81,
   "metadata": {},
   "outputs": [
    {
     "data": {
      "text/plain": [
       "1"
      ]
     },
     "execution_count": 81,
     "metadata": {},
     "output_type": "execute_result"
    }
   ],
   "source": [
    "y_validate[0]"
   ]
  },
  {
   "cell_type": "code",
   "execution_count": 82,
   "metadata": {
    "collapsed": true
   },
   "outputs": [],
   "source": [
    "# Get shadow trades\n",
    "filename = \"OOS_Equity_\" + system_name + \".csv\"\n",
    "path = system_directory+ \"\\\\\" + filename\n",
    "shadow_trades = pd.read_csv(path)"
   ]
  },
  {
   "cell_type": "code",
   "execution_count": 83,
   "metadata": {},
   "outputs": [
    {
     "data": {
      "text/html": [
       "<div>\n",
       "<style>\n",
       "    .dataframe thead tr:only-child th {\n",
       "        text-align: right;\n",
       "    }\n",
       "\n",
       "    .dataframe thead th {\n",
       "        text-align: left;\n",
       "    }\n",
       "\n",
       "    .dataframe tbody tr th {\n",
       "        vertical-align: top;\n",
       "    }\n",
       "</style>\n",
       "<table border=\"1\" class=\"dataframe\">\n",
       "  <thead>\n",
       "    <tr style=\"text-align: right;\">\n",
       "      <th></th>\n",
       "      <th>Date</th>\n",
       "      <th>signal</th>\n",
       "      <th>gainAhead</th>\n",
       "      <th>Close</th>\n",
       "    </tr>\n",
       "  </thead>\n",
       "  <tbody>\n",
       "    <tr>\n",
       "      <th>83</th>\n",
       "      <td>2019-01-02</td>\n",
       "      <td>-1</td>\n",
       "      <td>0.011379</td>\n",
       "      <td>122.15</td>\n",
       "    </tr>\n",
       "    <tr>\n",
       "      <th>84</th>\n",
       "      <td>2019-01-03</td>\n",
       "      <td>-1</td>\n",
       "      <td>-0.011575</td>\n",
       "      <td>123.54</td>\n",
       "    </tr>\n",
       "  </tbody>\n",
       "</table>\n",
       "</div>"
      ],
      "text/plain": [
       "          Date  signal  gainAhead   Close\n",
       "83  2019-01-02      -1   0.011379  122.15\n",
       "84  2019-01-03      -1  -0.011575  123.54"
      ]
     },
     "execution_count": 83,
     "metadata": {},
     "output_type": "execute_result"
    }
   ],
   "source": [
    "shadow_trades.tail(2)"
   ]
  },
  {
   "cell_type": "code",
   "execution_count": 84,
   "metadata": {},
   "outputs": [
    {
     "data": {
      "text/html": [
       "<div>\n",
       "<style>\n",
       "    .dataframe thead tr:only-child th {\n",
       "        text-align: right;\n",
       "    }\n",
       "\n",
       "    .dataframe thead th {\n",
       "        text-align: left;\n",
       "    }\n",
       "\n",
       "    .dataframe tbody tr th {\n",
       "        vertical-align: top;\n",
       "    }\n",
       "</style>\n",
       "<table border=\"1\" class=\"dataframe\">\n",
       "  <thead>\n",
       "    <tr style=\"text-align: right;\">\n",
       "      <th></th>\n",
       "      <th>PPO_f2_s5_Normalized</th>\n",
       "      <th>RSI_2_Normalized</th>\n",
       "      <th>UltOsc_t110_t220_t330_Normalized</th>\n",
       "      <th>ROC_10_Normalized</th>\n",
       "      <th>Close_lag3_Normalized</th>\n",
       "      <th>Close_lag5_Normalized</th>\n",
       "      <th>ChaikinADOSC_f4_s10_Normalized</th>\n",
       "      <th>Volume_Normalized</th>\n",
       "    </tr>\n",
       "    <tr>\n",
       "      <th>Date</th>\n",
       "      <th></th>\n",
       "      <th></th>\n",
       "      <th></th>\n",
       "      <th></th>\n",
       "      <th></th>\n",
       "      <th></th>\n",
       "      <th></th>\n",
       "      <th></th>\n",
       "    </tr>\n",
       "  </thead>\n",
       "  <tbody>\n",
       "    <tr>\n",
       "      <th>2019-01-02</th>\n",
       "      <td>0.685333</td>\n",
       "      <td>0.587962</td>\n",
       "      <td>0.303317</td>\n",
       "      <td>0.450596</td>\n",
       "      <td>0.854388</td>\n",
       "      <td>0.768498</td>\n",
       "      <td>0.981907</td>\n",
       "      <td>0.998727</td>\n",
       "    </tr>\n",
       "    <tr>\n",
       "      <th>2019-01-03</th>\n",
       "      <td>0.782509</td>\n",
       "      <td>0.638427</td>\n",
       "      <td>0.385714</td>\n",
       "      <td>0.743794</td>\n",
       "      <td>0.838638</td>\n",
       "      <td>0.772004</td>\n",
       "      <td>0.999931</td>\n",
       "      <td>0.998861</td>\n",
       "    </tr>\n",
       "    <tr>\n",
       "      <th>2019-01-04</th>\n",
       "      <td>0.598571</td>\n",
       "      <td>0.071162</td>\n",
       "      <td>0.031756</td>\n",
       "      <td>0.006328</td>\n",
       "      <td>0.705260</td>\n",
       "      <td>0.674094</td>\n",
       "      <td>0.999996</td>\n",
       "      <td>0.833648</td>\n",
       "    </tr>\n",
       "  </tbody>\n",
       "</table>\n",
       "</div>"
      ],
      "text/plain": [
       "            PPO_f2_s5_Normalized  RSI_2_Normalized  \\\n",
       "Date                                                 \n",
       "2019-01-02              0.685333          0.587962   \n",
       "2019-01-03              0.782509          0.638427   \n",
       "2019-01-04              0.598571          0.071162   \n",
       "\n",
       "            UltOsc_t110_t220_t330_Normalized  ROC_10_Normalized  \\\n",
       "Date                                                              \n",
       "2019-01-02                          0.303317           0.450596   \n",
       "2019-01-03                          0.385714           0.743794   \n",
       "2019-01-04                          0.031756           0.006328   \n",
       "\n",
       "            Close_lag3_Normalized  Close_lag5_Normalized  \\\n",
       "Date                                                       \n",
       "2019-01-02               0.854388               0.768498   \n",
       "2019-01-03               0.838638               0.772004   \n",
       "2019-01-04               0.705260               0.674094   \n",
       "\n",
       "            ChaikinADOSC_f4_s10_Normalized  Volume_Normalized  \n",
       "Date                                                           \n",
       "2019-01-02                        0.981907           0.998727  \n",
       "2019-01-03                        0.999931           0.998861  \n",
       "2019-01-04                        0.999996           0.833648  "
      ]
     },
     "execution_count": 84,
     "metadata": {},
     "output_type": "execute_result"
    }
   ],
   "source": [
    "model_data.tail(3)\n"
   ]
  },
  {
   "cell_type": "code",
   "execution_count": 85,
   "metadata": {},
   "outputs": [
    {
     "data": {
      "text/plain": [
       "122.11"
      ]
     },
     "execution_count": 85,
     "metadata": {},
     "output_type": "execute_result"
    }
   ],
   "source": [
    "feat_df.Close[lastRow-1]"
   ]
  },
  {
   "cell_type": "markdown",
   "metadata": {},
   "source": [
    "#### Update shadow trades to start\n",
    "- Current date, signal for date, Close for date, gainAhead for previous Day"
   ]
  },
  {
   "cell_type": "code",
   "execution_count": 86,
   "metadata": {},
   "outputs": [],
   "source": [
    "new_st_df = shadow_trades.append({'Date' : tradeDate , 'signal' : y_validate[0], 'gainAhead' : 0.000, 'Close' : feat_df.Close[lastRow-1] } , ignore_index=True)"
   ]
  },
  {
   "cell_type": "code",
   "execution_count": 87,
   "metadata": {},
   "outputs": [
    {
     "data": {
      "text/html": [
       "<div>\n",
       "<style>\n",
       "    .dataframe thead tr:only-child th {\n",
       "        text-align: right;\n",
       "    }\n",
       "\n",
       "    .dataframe thead th {\n",
       "        text-align: left;\n",
       "    }\n",
       "\n",
       "    .dataframe tbody tr th {\n",
       "        vertical-align: top;\n",
       "    }\n",
       "</style>\n",
       "<table border=\"1\" class=\"dataframe\">\n",
       "  <thead>\n",
       "    <tr style=\"text-align: right;\">\n",
       "      <th></th>\n",
       "      <th>Date</th>\n",
       "      <th>signal</th>\n",
       "      <th>gainAhead</th>\n",
       "      <th>Close</th>\n",
       "    </tr>\n",
       "  </thead>\n",
       "  <tbody>\n",
       "    <tr>\n",
       "      <th>83</th>\n",
       "      <td>2019-01-02</td>\n",
       "      <td>-1</td>\n",
       "      <td>0.011379</td>\n",
       "      <td>122.15</td>\n",
       "    </tr>\n",
       "    <tr>\n",
       "      <th>84</th>\n",
       "      <td>2019-01-03</td>\n",
       "      <td>-1</td>\n",
       "      <td>-0.011575</td>\n",
       "      <td>123.54</td>\n",
       "    </tr>\n",
       "    <tr>\n",
       "      <th>85</th>\n",
       "      <td>2019-01-04</td>\n",
       "      <td>1</td>\n",
       "      <td>0.000000</td>\n",
       "      <td>122.11</td>\n",
       "    </tr>\n",
       "  </tbody>\n",
       "</table>\n",
       "</div>"
      ],
      "text/plain": [
       "          Date  signal  gainAhead   Close\n",
       "83  2019-01-02      -1   0.011379  122.15\n",
       "84  2019-01-03      -1  -0.011575  123.54\n",
       "85  2019-01-04       1   0.000000  122.11"
      ]
     },
     "execution_count": 87,
     "metadata": {},
     "output_type": "execute_result"
    }
   ],
   "source": [
    "new_st_df.tail(3)"
   ]
  },
  {
   "cell_type": "code",
   "execution_count": 88,
   "metadata": {
    "collapsed": true
   },
   "outputs": [],
   "source": [
    "new_st_df['gainAhead'] = ct.gainAhead(new_st_df.Close)"
   ]
  },
  {
   "cell_type": "code",
   "execution_count": 89,
   "metadata": {},
   "outputs": [
    {
     "data": {
      "text/html": [
       "<div>\n",
       "<style>\n",
       "    .dataframe thead tr:only-child th {\n",
       "        text-align: right;\n",
       "    }\n",
       "\n",
       "    .dataframe thead th {\n",
       "        text-align: left;\n",
       "    }\n",
       "\n",
       "    .dataframe tbody tr th {\n",
       "        vertical-align: top;\n",
       "    }\n",
       "</style>\n",
       "<table border=\"1\" class=\"dataframe\">\n",
       "  <thead>\n",
       "    <tr style=\"text-align: right;\">\n",
       "      <th></th>\n",
       "      <th>Date</th>\n",
       "      <th>signal</th>\n",
       "      <th>gainAhead</th>\n",
       "      <th>Close</th>\n",
       "    </tr>\n",
       "  </thead>\n",
       "  <tbody>\n",
       "    <tr>\n",
       "      <th>83</th>\n",
       "      <td>2019-01-02</td>\n",
       "      <td>-1</td>\n",
       "      <td>0.011379</td>\n",
       "      <td>122.15</td>\n",
       "    </tr>\n",
       "    <tr>\n",
       "      <th>84</th>\n",
       "      <td>2019-01-03</td>\n",
       "      <td>-1</td>\n",
       "      <td>-0.011575</td>\n",
       "      <td>123.54</td>\n",
       "    </tr>\n",
       "    <tr>\n",
       "      <th>85</th>\n",
       "      <td>2019-01-04</td>\n",
       "      <td>1</td>\n",
       "      <td>0.000000</td>\n",
       "      <td>122.11</td>\n",
       "    </tr>\n",
       "  </tbody>\n",
       "</table>\n",
       "</div>"
      ],
      "text/plain": [
       "          Date  signal  gainAhead   Close\n",
       "83  2019-01-02      -1   0.011379  122.15\n",
       "84  2019-01-03      -1  -0.011575  123.54\n",
       "85  2019-01-04       1   0.000000  122.11"
      ]
     },
     "execution_count": 89,
     "metadata": {},
     "output_type": "execute_result"
    }
   ],
   "source": [
    "new_st_df.tail(3)"
   ]
  },
  {
   "cell_type": "markdown",
   "metadata": {},
   "source": [
    "#### Save updated shadow trades"
   ]
  },
  {
   "cell_type": "code",
   "execution_count": 90,
   "metadata": {
    "collapsed": true
   },
   "outputs": [],
   "source": [
    "#print(df_to_save)\n",
    "filename = \"OOS_Equity_daybyday_\" + system_name + \".csv\"\n",
    "new_st_df.to_csv(system_directory+ \"\\\\\" + filename, encoding='utf-8', index=False)"
   ]
  },
  {
   "cell_type": "markdown",
   "metadata": {},
   "source": [
    "#### Load TMS-Part 1"
   ]
  },
  {
   "cell_type": "code",
   "execution_count": 91,
   "metadata": {},
   "outputs": [
    {
     "data": {
      "text/html": [
       "<div>\n",
       "<style>\n",
       "    .dataframe thead tr:only-child th {\n",
       "        text-align: right;\n",
       "    }\n",
       "\n",
       "    .dataframe thead th {\n",
       "        text-align: left;\n",
       "    }\n",
       "\n",
       "    .dataframe tbody tr th {\n",
       "        vertical-align: top;\n",
       "    }\n",
       "</style>\n",
       "<table border=\"1\" class=\"dataframe\">\n",
       "  <thead>\n",
       "    <tr style=\"text-align: right;\">\n",
       "      <th></th>\n",
       "      <th>Date</th>\n",
       "      <th>signal</th>\n",
       "      <th>gainAhead</th>\n",
       "      <th>Close</th>\n",
       "      <th>safef</th>\n",
       "      <th>CAR25</th>\n",
       "    </tr>\n",
       "  </thead>\n",
       "  <tbody>\n",
       "    <tr>\n",
       "      <th>82</th>\n",
       "      <td>2018-12-31</td>\n",
       "      <td>1</td>\n",
       "      <td>0.005267</td>\n",
       "      <td>121.51</td>\n",
       "      <td>4.615235</td>\n",
       "      <td>842.325553</td>\n",
       "    </tr>\n",
       "    <tr>\n",
       "      <th>83</th>\n",
       "      <td>2019-01-02</td>\n",
       "      <td>-1</td>\n",
       "      <td>0.011379</td>\n",
       "      <td>122.15</td>\n",
       "      <td>4.642382</td>\n",
       "      <td>746.140389</td>\n",
       "    </tr>\n",
       "    <tr>\n",
       "      <th>84</th>\n",
       "      <td>2019-01-03</td>\n",
       "      <td>-1</td>\n",
       "      <td>-0.011575</td>\n",
       "      <td>123.54</td>\n",
       "      <td>4.930997</td>\n",
       "      <td>503.287359</td>\n",
       "    </tr>\n",
       "  </tbody>\n",
       "</table>\n",
       "</div>"
      ],
      "text/plain": [
       "          Date  signal  gainAhead   Close     safef       CAR25\n",
       "82  2018-12-31       1   0.005267  121.51  4.615235  842.325553\n",
       "83  2019-01-02      -1   0.011379  122.15  4.642382  746.140389\n",
       "84  2019-01-03      -1  -0.011575  123.54  4.930997  503.287359"
      ]
     },
     "execution_count": 91,
     "metadata": {},
     "output_type": "execute_result"
    }
   ],
   "source": [
    "filename = \"TMS_Part1_\" + system_name + \".csv\"\n",
    "path = system_directory+ \"\\\\\" + filename\n",
    "tms1 = pd.read_csv(path)\n",
    "tms1.tail(3)"
   ]
  },
  {
   "cell_type": "markdown",
   "metadata": {},
   "source": [
    "#### Calculate safe-f, CAR25"
   ]
  },
  {
   "cell_type": "code",
   "execution_count": 92,
   "metadata": {},
   "outputs": [
    {
     "data": {
      "text/html": [
       "<div>\n",
       "<style>\n",
       "    .dataframe thead tr:only-child th {\n",
       "        text-align: right;\n",
       "    }\n",
       "\n",
       "    .dataframe thead th {\n",
       "        text-align: left;\n",
       "    }\n",
       "\n",
       "    .dataframe tbody tr th {\n",
       "        vertical-align: top;\n",
       "    }\n",
       "</style>\n",
       "<table border=\"1\" class=\"dataframe\">\n",
       "  <thead>\n",
       "    <tr style=\"text-align: right;\">\n",
       "      <th></th>\n",
       "      <th>signal</th>\n",
       "      <th>gainAhead</th>\n",
       "      <th>Close</th>\n",
       "      <th>safef</th>\n",
       "      <th>CAR25</th>\n",
       "    </tr>\n",
       "    <tr>\n",
       "      <th>Date</th>\n",
       "      <th></th>\n",
       "      <th></th>\n",
       "      <th></th>\n",
       "      <th></th>\n",
       "      <th></th>\n",
       "    </tr>\n",
       "  </thead>\n",
       "  <tbody>\n",
       "    <tr>\n",
       "      <th>2018-12-28</th>\n",
       "      <td>1</td>\n",
       "      <td>0.003800</td>\n",
       "      <td>121.05</td>\n",
       "      <td>0.0</td>\n",
       "      <td>0.0</td>\n",
       "    </tr>\n",
       "    <tr>\n",
       "      <th>2018-12-31</th>\n",
       "      <td>1</td>\n",
       "      <td>0.005267</td>\n",
       "      <td>121.51</td>\n",
       "      <td>0.0</td>\n",
       "      <td>0.0</td>\n",
       "    </tr>\n",
       "    <tr>\n",
       "      <th>2019-01-02</th>\n",
       "      <td>-1</td>\n",
       "      <td>0.011379</td>\n",
       "      <td>122.15</td>\n",
       "      <td>0.0</td>\n",
       "      <td>0.0</td>\n",
       "    </tr>\n",
       "    <tr>\n",
       "      <th>2019-01-03</th>\n",
       "      <td>-1</td>\n",
       "      <td>-0.011575</td>\n",
       "      <td>123.54</td>\n",
       "      <td>0.0</td>\n",
       "      <td>0.0</td>\n",
       "    </tr>\n",
       "    <tr>\n",
       "      <th>2019-01-04</th>\n",
       "      <td>1</td>\n",
       "      <td>0.000000</td>\n",
       "      <td>122.11</td>\n",
       "      <td>0.0</td>\n",
       "      <td>0.0</td>\n",
       "    </tr>\n",
       "  </tbody>\n",
       "</table>\n",
       "</div>"
      ],
      "text/plain": [
       "            signal  gainAhead   Close  safef  CAR25\n",
       "Date                                               \n",
       "2018-12-28       1   0.003800  121.05    0.0    0.0\n",
       "2018-12-31       1   0.005267  121.51    0.0    0.0\n",
       "2019-01-02      -1   0.011379  122.15    0.0    0.0\n",
       "2019-01-03      -1  -0.011575  123.54    0.0    0.0\n",
       "2019-01-04       1   0.000000  122.11    0.0    0.0"
      ]
     },
     "execution_count": 92,
     "metadata": {},
     "output_type": "execute_result"
    }
   ],
   "source": [
    "sst = new_st_df.copy()\n",
    "nrows = sst.shape[0]\n",
    "sst = sst.set_index(pd.DatetimeIndex(sst['Date']))\n",
    "sst=sst.drop('Date', axis=1)\n",
    "sst['safef'] = 0.0\n",
    "sst['CAR25'] = 0.0\n",
    "sst.tail(5)"
   ]
  },
  {
   "cell_type": "code",
   "execution_count": 93,
   "metadata": {
    "collapsed": true
   },
   "outputs": [],
   "source": [
    "start = sst.index[0]\n",
    "end = sst.index[-1]\n",
    "updateInterval = 1\n",
    "iStart = sst.index.get_loc(start)\n",
    "iEnd = sst.index.get_loc(end)"
   ]
  },
  {
   "cell_type": "markdown",
   "metadata": {},
   "source": [
    "#### Calculation parameters for TMS Part2\n",
    "- Understand better\n",
    "- Add parameters to system_dict OR set in system_dict and retrieve here\n",
    "- How does length of df impact these parameters?"
   ]
  },
  {
   "cell_type": "code",
   "execution_count": 94,
   "metadata": {
    "collapsed": true
   },
   "outputs": [],
   "source": [
    "forecastHorizon = 45\n",
    "initialEquity = 100000\n",
    "ddTolerance = 0.10\n",
    "tailRiskPct = 95\n",
    "windowLength = 1*forecastHorizon\n",
    "nCurves = 50\n",
    "\n",
    "years_in_forecast = forecastHorizon / 252.0"
   ]
  },
  {
   "cell_type": "code",
   "execution_count": 95,
   "metadata": {
    "collapsed": true
   },
   "outputs": [],
   "source": [
    "printDetails = False"
   ]
  },
  {
   "cell_type": "code",
   "execution_count": 96,
   "metadata": {
    "code_folding": [
     0
    ],
    "collapsed": true
   },
   "outputs": [],
   "source": [
    "# Calculate safe-f, CAR25\n",
    "for i in range(iStart, iEnd+1, updateInterval):\n",
    "    if printDetails: \n",
    "        print (\"\\nDate: \", dt.datetime.strftime(sst.index[i], '%Y-%m-%d'))\n",
    "        print (\"beLong: \", sst.signal[i])\n",
    "        print (\"gain Ahead: {0:.4f}\".format(sst.gainAhead[i]))\n",
    "\n",
    "#  Initialize variables\n",
    "    curves = np.zeros(nCurves)\n",
    "    numberDraws = np.zeros(nCurves)\n",
    "    TWR = np.zeros(nCurves)\n",
    "    maxDD = np.zeros(nCurves)\n",
    "    \n",
    "    fraction = 1.00\n",
    "    dd95 = 2 * ddTolerance\n",
    "    \n",
    "    while (abs(dd95-ddTolerance)>0.03):\n",
    "        #  Generate nCurve equity curves\n",
    "        if printDetails: \n",
    "            print  (\"    Fraction {0:.2f}\".format(fraction))\n",
    "#    \n",
    "        for nc in range(nCurves):\n",
    "            #print (\"working on curve \", nc)\n",
    "            equity = initialEquity\n",
    "            maxEquity = equity\n",
    "            drawdown = 0\n",
    "            maxDrawdown = 0\n",
    "            horizonSoFar = 0\n",
    "            nd = 0\n",
    "            while (horizonSoFar < forecastHorizon):\n",
    "                j = np.random.randint(0,windowLength)\n",
    "        #        print j\n",
    "                nd = nd + 1\n",
    "                weightJ = 1.00 - j/windowLength\n",
    "        #        print weightJ\n",
    "                horizonSoFar = horizonSoFar + weightJ\n",
    "                signalJ = sst.signal[i-j]\n",
    "                if signalJ > 0:\n",
    "                    tradeJ = sst.gainAhead[i-j] * weightJ\n",
    "                else:\n",
    "                    tradeJ = 0.0\n",
    "                thisTrade = fraction * tradeJ * equity    \n",
    "                equity = equity + thisTrade\n",
    "                maxEquity = max(equity,maxEquity)\n",
    "                drawdown = (maxEquity-equity)/maxEquity\n",
    "                maxDrawdown = max(drawdown,maxDrawdown)\n",
    "    #        print \"equity, maxDD, ndraws:\", equity, maxDrawdown, nd        \n",
    "            TWR[nc] = equity\n",
    "            maxDD[nc] = maxDrawdown\n",
    "            numberDraws[nc] = nd\n",
    "    \n",
    "        #  Find the drawdown at the tailLimit-th percentile        \n",
    "        dd95 = stats.scoreatpercentile(maxDD,tailRiskPct)\n",
    "        if printDetails: \n",
    "            print ('  DD {0}: {1:.3f} '.format(tailRiskPct, dd95))\n",
    "        fraction = fraction * ddTolerance / dd95\n",
    "        TWR25 = stats.scoreatpercentile(TWR,25)        \n",
    "        CAR25 = 100*(((TWR25/initialEquity) ** (1.0/years_in_forecast))-1.0)\n",
    "    if printDetails: \n",
    "        print ('Fraction: {0:.2f}'.format(fraction))\n",
    "        print ('CAR25: {0:.2f}'.format(CAR25))\n",
    "    sst.iloc[i,sst.columns.get_loc('safef')] = fraction\n",
    "    sst.iloc[i,sst.columns.get_loc('CAR25')] = CAR25\n",
    "    #sst.loc[i,'CAR25'] = CAR25"
   ]
  },
  {
   "cell_type": "code",
   "execution_count": 97,
   "metadata": {},
   "outputs": [
    {
     "data": {
      "text/html": [
       "<div>\n",
       "<style>\n",
       "    .dataframe thead tr:only-child th {\n",
       "        text-align: right;\n",
       "    }\n",
       "\n",
       "    .dataframe thead th {\n",
       "        text-align: left;\n",
       "    }\n",
       "\n",
       "    .dataframe tbody tr th {\n",
       "        vertical-align: top;\n",
       "    }\n",
       "</style>\n",
       "<table border=\"1\" class=\"dataframe\">\n",
       "  <thead>\n",
       "    <tr style=\"text-align: right;\">\n",
       "      <th></th>\n",
       "      <th>signal</th>\n",
       "      <th>gainAhead</th>\n",
       "      <th>Close</th>\n",
       "      <th>safef</th>\n",
       "      <th>CAR25</th>\n",
       "    </tr>\n",
       "    <tr>\n",
       "      <th>Date</th>\n",
       "      <th></th>\n",
       "      <th></th>\n",
       "      <th></th>\n",
       "      <th></th>\n",
       "      <th></th>\n",
       "    </tr>\n",
       "  </thead>\n",
       "  <tbody>\n",
       "    <tr>\n",
       "      <th>2019-01-02</th>\n",
       "      <td>-1</td>\n",
       "      <td>0.011379</td>\n",
       "      <td>122.15</td>\n",
       "      <td>4.561025</td>\n",
       "      <td>560.177969</td>\n",
       "    </tr>\n",
       "    <tr>\n",
       "      <th>2019-01-03</th>\n",
       "      <td>-1</td>\n",
       "      <td>-0.011575</td>\n",
       "      <td>123.54</td>\n",
       "      <td>4.991912</td>\n",
       "      <td>281.754613</td>\n",
       "    </tr>\n",
       "    <tr>\n",
       "      <th>2019-01-04</th>\n",
       "      <td>1</td>\n",
       "      <td>0.000000</td>\n",
       "      <td>122.11</td>\n",
       "      <td>5.257051</td>\n",
       "      <td>557.391375</td>\n",
       "    </tr>\n",
       "  </tbody>\n",
       "</table>\n",
       "</div>"
      ],
      "text/plain": [
       "            signal  gainAhead   Close     safef       CAR25\n",
       "Date                                                       \n",
       "2019-01-02      -1   0.011379  122.15  4.561025  560.177969\n",
       "2019-01-03      -1  -0.011575  123.54  4.991912  281.754613\n",
       "2019-01-04       1   0.000000  122.11  5.257051  557.391375"
      ]
     },
     "execution_count": 97,
     "metadata": {},
     "output_type": "execute_result"
    }
   ],
   "source": [
    "sst.tail(3)"
   ]
  },
  {
   "cell_type": "markdown",
   "metadata": {},
   "source": [
    "#### Save updated shadow trades"
   ]
  },
  {
   "cell_type": "code",
   "execution_count": 98,
   "metadata": {
    "collapsed": true
   },
   "outputs": [],
   "source": [
    "df_to_save = sst.copy()\n",
    "df_to_save.reset_index(level=df_to_save.index.names, inplace=True)\n",
    "filename = \"TMS_Part1_daybyday_\" + system_name + \".csv\"\n",
    "df_to_save.to_csv(system_directory+ \"\\\\\" + filename, encoding='utf-8', index=False)"
   ]
  },
  {
   "cell_type": "markdown",
   "metadata": {},
   "source": [
    "#### Now go to TMS Part 2"
   ]
  },
  {
   "cell_type": "code",
   "execution_count": 99,
   "metadata": {},
   "outputs": [
    {
     "data": {
      "text/html": [
       "<div>\n",
       "<style>\n",
       "    .dataframe thead tr:only-child th {\n",
       "        text-align: right;\n",
       "    }\n",
       "\n",
       "    .dataframe thead th {\n",
       "        text-align: left;\n",
       "    }\n",
       "\n",
       "    .dataframe tbody tr th {\n",
       "        vertical-align: top;\n",
       "    }\n",
       "</style>\n",
       "<table border=\"1\" class=\"dataframe\">\n",
       "  <thead>\n",
       "    <tr style=\"text-align: right;\">\n",
       "      <th></th>\n",
       "      <th>Date</th>\n",
       "      <th>signal</th>\n",
       "      <th>gainAhead</th>\n",
       "      <th>Close</th>\n",
       "      <th>safef</th>\n",
       "      <th>CAR25</th>\n",
       "      <th>trade</th>\n",
       "      <th>fract</th>\n",
       "      <th>equity</th>\n",
       "      <th>maxEquity</th>\n",
       "      <th>drawdown</th>\n",
       "      <th>maxDD</th>\n",
       "    </tr>\n",
       "  </thead>\n",
       "  <tbody>\n",
       "    <tr>\n",
       "      <th>82</th>\n",
       "      <td>2018-12-31</td>\n",
       "      <td>1</td>\n",
       "      <td>0.005267</td>\n",
       "      <td>121.51</td>\n",
       "      <td>4.615235</td>\n",
       "      <td>842.325553</td>\n",
       "      <td>4190.401434</td>\n",
       "      <td>4.615235</td>\n",
       "      <td>172813.411331</td>\n",
       "      <td>182765.065897</td>\n",
       "      <td>0.054451</td>\n",
       "      <td>0.121668</td>\n",
       "    </tr>\n",
       "    <tr>\n",
       "      <th>83</th>\n",
       "      <td>2019-01-02</td>\n",
       "      <td>-1</td>\n",
       "      <td>0.011379</td>\n",
       "      <td>122.15</td>\n",
       "      <td>4.642382</td>\n",
       "      <td>746.140389</td>\n",
       "      <td>0.000000</td>\n",
       "      <td>4.642382</td>\n",
       "      <td>172813.411331</td>\n",
       "      <td>182765.065897</td>\n",
       "      <td>0.054451</td>\n",
       "      <td>0.121668</td>\n",
       "    </tr>\n",
       "    <tr>\n",
       "      <th>84</th>\n",
       "      <td>2019-01-03</td>\n",
       "      <td>-1</td>\n",
       "      <td>-0.011575</td>\n",
       "      <td>123.54</td>\n",
       "      <td>4.930997</td>\n",
       "      <td>503.287359</td>\n",
       "      <td>0.000000</td>\n",
       "      <td>4.930997</td>\n",
       "      <td>100000.000000</td>\n",
       "      <td>0.000000</td>\n",
       "      <td>0.000000</td>\n",
       "      <td>0.000000</td>\n",
       "    </tr>\n",
       "  </tbody>\n",
       "</table>\n",
       "</div>"
      ],
      "text/plain": [
       "          Date  signal  gainAhead   Close     safef       CAR25        trade  \\\n",
       "82  2018-12-31       1   0.005267  121.51  4.615235  842.325553  4190.401434   \n",
       "83  2019-01-02      -1   0.011379  122.15  4.642382  746.140389     0.000000   \n",
       "84  2019-01-03      -1  -0.011575  123.54  4.930997  503.287359     0.000000   \n",
       "\n",
       "       fract         equity      maxEquity  drawdown     maxDD  \n",
       "82  4.615235  172813.411331  182765.065897  0.054451  0.121668  \n",
       "83  4.642382  172813.411331  182765.065897  0.054451  0.121668  \n",
       "84  4.930997  100000.000000       0.000000  0.000000  0.000000  "
      ]
     },
     "execution_count": 99,
     "metadata": {},
     "output_type": "execute_result"
    }
   ],
   "source": [
    "filename = \"TMS_Part2_\" + system_name + \".csv\"\n",
    "path = system_directory+ \"\\\\\" + filename\n",
    "tms2 = pd.read_csv(path)\n",
    "tms2.tail(3)"
   ]
  },
  {
   "cell_type": "markdown",
   "metadata": {},
   "source": [
    "#### Update TMS Part 2 with new trade data\n",
    "- Do I need to go through whole loop?\n",
    "- Can I append new data and get new calculations?"
   ]
  },
  {
   "cell_type": "code",
   "execution_count": 100,
   "metadata": {
    "code_folding": [],
    "collapsed": true
   },
   "outputs": [],
   "source": [
    "# Init vars\n",
    "sst1 = sst.copy()\n",
    "sst1['trade'] = 0.0\n",
    "sst1['fract'] = 0.0\n",
    "sst1['equity'] = 0.0\n",
    "sst1['maxEquity'] = 0.0\n",
    "sst1['drawdown'] = 0.0\n",
    "sst1['maxDD'] = 0.0\n",
    "initialEquity = 100000\n",
    "sst1['trade_decision'] = ''\n",
    "\n",
    "nrows = sst1.shape[0]\n",
    "start = sst.index[0]\n",
    "end = sst.index[-1]\n",
    "\n",
    "iStart = sst.index.get_loc(start)\n",
    "iEnd = sst.index.get_loc(end)"
   ]
  },
  {
   "cell_type": "code",
   "execution_count": 101,
   "metadata": {
    "collapsed": true
   },
   "outputs": [],
   "source": [
    "sst1.iloc[0,sst1.columns.get_loc('safef')] = 1.0\n",
    "sst1.iloc[0,sst1.columns.get_loc('CAR25')] = 10.0\n",
    "sst1.iloc[0,sst1.columns.get_loc('equity')] = initialEquity"
   ]
  },
  {
   "cell_type": "code",
   "execution_count": 102,
   "metadata": {
    "code_folding": [],
    "collapsed": true
   },
   "outputs": [],
   "source": [
    "for i in range(1,nrows):\n",
    "    if (sst1.iloc[i,sst1.columns.get_loc('safef')]==0 and sst1.iloc[i,sst1.columns.get_loc('CAR25')]==0):\n",
    "        sst1.iloc[i,sst1.columns.get_loc('safef')] = sst1.iloc[i-1,sst1.columns.get_loc('safef')]\n",
    "        sst1.iloc[i,sst1.columns.get_loc('CAR25')] = sst1.iloc[i-1,sst1.columns.get_loc('CAR25')]\n",
    "        sst1.iloc[i,sst1.columns.get_loc('fract')] = sst1.iloc[i,sst1.columns.get_loc('safef')]\n",
    "        sst1.iloc[i,sst1.columns.get_loc('equity')] = sst1.iloc[i-1,sst1.columns.get_loc('equity')]\n",
    "    else:\n",
    "        sst1.iloc[i,sst1.columns.get_loc('fract')] = sst1.iloc[i,sst1.columns.get_loc('safef')]\n",
    "        sst1.iloc[i,sst1.columns.get_loc('equity')] = sst1.iloc[i-1,sst1.columns.get_loc('equity')]"
   ]
  },
  {
   "cell_type": "code",
   "execution_count": 103,
   "metadata": {},
   "outputs": [],
   "source": [
    "# Update trade_decision with current date decision\n",
    "sst1.iloc[iEnd,sst1.columns.get_loc('trade_decision')] = 'Long'"
   ]
  },
  {
   "cell_type": "code",
   "execution_count": 104,
   "metadata": {
    "code_folding": [],
    "collapsed": true
   },
   "outputs": [],
   "source": [
    "for i in range(iStart, iEnd):\n",
    "    if (sst1.trade_decision[i] == 'Long'):\n",
    "        sst1.iloc[i,sst1.columns.get_loc('trade')] = sst1.iloc[i-1,sst1.columns.get_loc('fract')] * sst1.iloc[i-1,sst1.columns.get_loc('equity')] * sst1.iloc[i,sst1.columns.get_loc('gainAhead')]\n",
    "    elif (sst1.signal[i] > 0):\n",
    "        sst1.iloc[i,sst1.columns.get_loc('trade')] = sst1.iloc[i-1,sst1.columns.get_loc('fract')] * sst1.iloc[i-1,sst1.columns.get_loc('equity')] * sst1.iloc[i,sst1.columns.get_loc('gainAhead')]\n",
    "    else:\n",
    "        sst1.iloc[i,sst1.columns.get_loc('trade')] = 0.0\n",
    "        \n",
    "    sst1.iloc[i,sst1.columns.get_loc('equity')] = sst1.iloc[i-1,sst1.columns.get_loc('equity')] + sst1.iloc[i,sst1.columns.get_loc('trade')]\n",
    "    sst1.iloc[i,sst1.columns.get_loc('maxEquity')] = max(sst1.iloc[i,sst1.columns.get_loc('equity')],sst1.iloc[i-1,sst1.columns.get_loc('maxEquity')])\n",
    "    sst1.iloc[i,sst1.columns.get_loc('drawdown')] = (sst1.iloc[i,sst1.columns.get_loc('maxEquity')] - sst1.iloc[i,sst1.columns.get_loc('equity')]) / sst1.iloc[i,sst1.columns.get_loc('maxEquity')]\n",
    "    sst1.iloc[i,sst1.columns.get_loc('maxDD')] =  max(sst1.iloc[i,sst1.columns.get_loc('drawdown')],sst1.iloc[i-1,sst1.columns.get_loc('maxDD')])"
   ]
  },
  {
   "cell_type": "code",
   "execution_count": 105,
   "metadata": {},
   "outputs": [
    {
     "data": {
      "text/html": [
       "<div>\n",
       "<style>\n",
       "    .dataframe thead tr:only-child th {\n",
       "        text-align: right;\n",
       "    }\n",
       "\n",
       "    .dataframe thead th {\n",
       "        text-align: left;\n",
       "    }\n",
       "\n",
       "    .dataframe tbody tr th {\n",
       "        vertical-align: top;\n",
       "    }\n",
       "</style>\n",
       "<table border=\"1\" class=\"dataframe\">\n",
       "  <thead>\n",
       "    <tr style=\"text-align: right;\">\n",
       "      <th></th>\n",
       "      <th>signal</th>\n",
       "      <th>gainAhead</th>\n",
       "      <th>Close</th>\n",
       "      <th>safef</th>\n",
       "      <th>CAR25</th>\n",
       "      <th>trade</th>\n",
       "      <th>fract</th>\n",
       "      <th>equity</th>\n",
       "      <th>maxEquity</th>\n",
       "      <th>drawdown</th>\n",
       "      <th>maxDD</th>\n",
       "      <th>trade_decision</th>\n",
       "    </tr>\n",
       "    <tr>\n",
       "      <th>Date</th>\n",
       "      <th></th>\n",
       "      <th></th>\n",
       "      <th></th>\n",
       "      <th></th>\n",
       "      <th></th>\n",
       "      <th></th>\n",
       "      <th></th>\n",
       "      <th></th>\n",
       "      <th></th>\n",
       "      <th></th>\n",
       "      <th></th>\n",
       "      <th></th>\n",
       "    </tr>\n",
       "  </thead>\n",
       "  <tbody>\n",
       "    <tr>\n",
       "      <th>2019-01-02</th>\n",
       "      <td>-1</td>\n",
       "      <td>0.011379</td>\n",
       "      <td>122.15</td>\n",
       "      <td>4.561025</td>\n",
       "      <td>560.177969</td>\n",
       "      <td>0.0</td>\n",
       "      <td>4.561025</td>\n",
       "      <td>158153.866333</td>\n",
       "      <td>165622.70206</td>\n",
       "      <td>0.045095</td>\n",
       "      <td>0.118418</td>\n",
       "      <td></td>\n",
       "    </tr>\n",
       "    <tr>\n",
       "      <th>2019-01-03</th>\n",
       "      <td>-1</td>\n",
       "      <td>-0.011575</td>\n",
       "      <td>123.54</td>\n",
       "      <td>4.991912</td>\n",
       "      <td>281.754613</td>\n",
       "      <td>0.0</td>\n",
       "      <td>4.991912</td>\n",
       "      <td>158153.866333</td>\n",
       "      <td>165622.70206</td>\n",
       "      <td>0.045095</td>\n",
       "      <td>0.118418</td>\n",
       "      <td></td>\n",
       "    </tr>\n",
       "    <tr>\n",
       "      <th>2019-01-04</th>\n",
       "      <td>1</td>\n",
       "      <td>0.000000</td>\n",
       "      <td>122.11</td>\n",
       "      <td>5.257051</td>\n",
       "      <td>557.391375</td>\n",
       "      <td>0.0</td>\n",
       "      <td>5.257051</td>\n",
       "      <td>100000.000000</td>\n",
       "      <td>0.00000</td>\n",
       "      <td>0.000000</td>\n",
       "      <td>0.000000</td>\n",
       "      <td>Long</td>\n",
       "    </tr>\n",
       "  </tbody>\n",
       "</table>\n",
       "</div>"
      ],
      "text/plain": [
       "            signal  gainAhead   Close     safef       CAR25  trade     fract  \\\n",
       "Date                                                                           \n",
       "2019-01-02      -1   0.011379  122.15  4.561025  560.177969    0.0  4.561025   \n",
       "2019-01-03      -1  -0.011575  123.54  4.991912  281.754613    0.0  4.991912   \n",
       "2019-01-04       1   0.000000  122.11  5.257051  557.391375    0.0  5.257051   \n",
       "\n",
       "                   equity     maxEquity  drawdown     maxDD trade_decision  \n",
       "Date                                                                        \n",
       "2019-01-02  158153.866333  165622.70206  0.045095  0.118418                 \n",
       "2019-01-03  158153.866333  165622.70206  0.045095  0.118418                 \n",
       "2019-01-04  100000.000000       0.00000  0.000000  0.000000           Long  "
      ]
     },
     "execution_count": 105,
     "metadata": {},
     "output_type": "execute_result"
    }
   ],
   "source": [
    "sst1.tail(3)"
   ]
  },
  {
   "cell_type": "markdown",
   "metadata": {},
   "source": [
    "#### Save updated TMS Part 2"
   ]
  },
  {
   "cell_type": "code",
   "execution_count": 106,
   "metadata": {
    "collapsed": true
   },
   "outputs": [],
   "source": [
    "df_to_save = sst1.copy()\n",
    "df_to_save.reset_index(level=df_to_save.index.names, inplace=True)\n",
    "filename = \"TMS_Part2_daybyday_\" + system_name + \".csv\"\n",
    "df_to_save.to_csv(system_directory+ \"\\\\\" + filename, encoding='utf-8', index=False)"
   ]
  },
  {
   "cell_type": "markdown",
   "metadata": {},
   "source": [
    "#### Save system_dict"
   ]
  },
  {
   "cell_type": "code",
   "execution_count": 107,
   "metadata": {},
   "outputs": [
    {
     "data": {
      "text/plain": [
       "'2019-01-04'"
      ]
     },
     "execution_count": 107,
     "metadata": {},
     "output_type": "execute_result"
    }
   ],
   "source": [
    "tradeDate"
   ]
  },
  {
   "cell_type": "code",
   "execution_count": 108,
   "metadata": {
    "scrolled": true
   },
   "outputs": [
    {
     "data": {
      "text/plain": [
       "{'best_model': 'SVM',\n",
       " 'direction': 'Long',\n",
       " 'is_oos_ratio': 4,\n",
       " 'issue': 'TLT',\n",
       " 'oos_months': 4,\n",
       " 'pivot_date': '2019-01-03',\n",
       " 'segments': 1,\n",
       " 'system_name': 'TLT-Long-system-6863-V1',\n",
       " 'ver_num': 1}"
      ]
     },
     "execution_count": 108,
     "metadata": {},
     "output_type": "execute_result"
    }
   ],
   "source": [
    "system_dict"
   ]
  },
  {
   "cell_type": "code",
   "execution_count": 109,
   "metadata": {},
   "outputs": [
    {
     "data": {
      "text/plain": [
       "{'best_model': 'SVM',\n",
       " 'direction': 'Long',\n",
       " 'is_oos_ratio': 4,\n",
       " 'issue': 'TLT',\n",
       " 'oos_months': 4,\n",
       " 'pivot_date': '2019-01-04',\n",
       " 'segments': 1,\n",
       " 'system_name': 'TLT-Long-system-6863-V1',\n",
       " 'ver_num': 1}"
      ]
     },
     "execution_count": 109,
     "metadata": {},
     "output_type": "execute_result"
    }
   ],
   "source": [
    "system_dict['pivot_date']=tradeDate\n",
    "system_dict"
   ]
  },
  {
   "cell_type": "code",
   "execution_count": 110,
   "metadata": {
    "collapsed": true
   },
   "outputs": [],
   "source": [
    "save_json('system_dict.json', system_dict)"
   ]
  },
  {
   "cell_type": "markdown",
   "metadata": {},
   "source": [
    "## End of day completed, 2019-01-04\n",
    "Trade decision: Flat"
   ]
  },
  {
   "cell_type": "markdown",
   "metadata": {
    "collapsed": true
   },
   "source": [
    "## Start next day, 2019-01-07"
   ]
  },
  {
   "cell_type": "code",
   "execution_count": null,
   "metadata": {
    "collapsed": true
   },
   "outputs": [],
   "source": []
  }
 ],
 "metadata": {
  "kernelspec": {
   "display_name": "Python 3",
   "language": "python",
   "name": "python3"
  },
  "language_info": {
   "codemirror_mode": {
    "name": "ipython",
    "version": 3
   },
   "file_extension": ".py",
   "mimetype": "text/x-python",
   "name": "python",
   "nbconvert_exporter": "python",
   "pygments_lexer": "ipython3",
   "version": "3.6.6"
  }
 },
 "nbformat": 4,
 "nbformat_minor": 2
}
