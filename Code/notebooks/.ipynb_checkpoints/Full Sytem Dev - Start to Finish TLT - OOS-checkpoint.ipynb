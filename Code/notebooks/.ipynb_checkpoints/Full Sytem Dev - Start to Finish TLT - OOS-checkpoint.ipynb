{
 "cells": [
  {
   "cell_type": "markdown",
   "metadata": {},
   "source": [
    "### OOS\n",
    "Goal: Complete OOS analysis based on output from previous IS analysis"
   ]
  },
  {
   "cell_type": "markdown",
   "metadata": {},
   "source": [
    "##### Import standard libraries"
   ]
  },
  {
   "cell_type": "code",
   "execution_count": 1,
   "metadata": {
    "code_folding": [
     0
    ],
    "collapsed": true
   },
   "outputs": [],
   "source": [
    "# Import standard libs\n",
    "%matplotlib inline\n",
    "\n",
    "import pandas as pd\n",
    "import numpy as np\n",
    "import datetime\n",
    "from dateutil.relativedelta import relativedelta\n",
    "import matplotlib.pylab as plt\n",
    "from pandas.tseries.offsets import BDay\n",
    "import os\n",
    "import os.path\n",
    "import pickle\n",
    "import random\n",
    "import json\n",
    "\n",
    "from sklearn.model_selection import StratifiedShuffleSplit, TimeSeriesSplit\n",
    "from sklearn import svm\n",
    "from sklearn.ensemble import RandomForestClassifier, AdaBoostClassifier, GradientBoostingClassifier\n",
    "from sklearn.discriminant_analysis import QuadraticDiscriminantAnalysis\n",
    "from sklearn.neighbors import KNeighborsClassifier\n",
    "from sklearn.tree import DecisionTreeClassifier\n",
    "from sklearn.metrics import confusion_matrix, accuracy_score, precision_score, recall_score, f1_score"
   ]
  },
  {
   "cell_type": "markdown",
   "metadata": {},
   "source": [
    "##### Import custom libraries"
   ]
  },
  {
   "cell_type": "code",
   "execution_count": 2,
   "metadata": {
    "code_folding": [
     0
    ],
    "collapsed": true
   },
   "outputs": [],
   "source": [
    "# Imports and assignments\n",
    "from Code.lib.plot_utils import PlotUtility\n",
    "from Code.lib.time_utils import TimeUtility\n",
    "from Code.lib.retrieve_data import DataRetrieve, ComputeTarget\n",
    "from Code.lib.candle_indicators import CandleIndicators\n",
    "from Code.lib.transformers import Transformers\n",
    "from Code.lib.ta_momentum_studies import TALibMomentumStudies\n",
    "from Code.lib.model_utils import ModelUtility, TimeSeriesSplitImproved\n",
    "from Code.lib.feature_generator import FeatureGenerator\n",
    "from Code.utilities.stat_tests import stationarity_tests\n",
    "from Code.lib.config import current_feature, feature_dict\n",
    "from Code.models import models_utils\n",
    "from Code.lib.model_algos import AlgoUtility\n",
    "\n",
    "plotIt = PlotUtility()\n",
    "timeUtil = TimeUtility()\n",
    "ct = ComputeTarget()\n",
    "candle_ind = CandleIndicators()\n",
    "dSet = DataRetrieve()\n",
    "taLibMomSt = TALibMomentumStudies()\n",
    "transf = Transformers()\n",
    "modelUtil = ModelUtility()\n",
    "featureGen = FeatureGenerator()\n",
    "dSet = DataRetrieve()\n",
    "modelAlgo = AlgoUtility()"
   ]
  },
  {
   "cell_type": "code",
   "execution_count": 3,
   "metadata": {
    "code_folding": [
     0
    ],
    "collapsed": true
   },
   "outputs": [],
   "source": [
    "# function to create system directory based on system name if one doesn't already exist\n",
    "def get_system_dir(system_name):\n",
    "    # Create system directory in current path\n",
    "    current_directory = os.getcwd()\n",
    "    system_directory = os.path.join(current_directory, system_name)\n",
    "    if not os.path.exists(system_directory):\n",
    "       os.makedirs(system_directory)\n",
    "    return system_directory"
   ]
  },
  {
   "cell_type": "code",
   "execution_count": 4,
   "metadata": {
    "code_folding": [
     0
    ],
    "collapsed": true
   },
   "outputs": [],
   "source": [
    "# functions for save and load json files\n",
    "def save_json(filename, json_file):\n",
    "    # Save system_dict to file\n",
    "    #filename = 'system_dict.json'\n",
    "    file_path = os.path.join(system_directory, filename)\n",
    "    with open(file_path, 'w') as fp:\n",
    "        json.dump(json_file, fp, sort_keys=True, indent=4)\n",
    "        \n",
    "def load_json(file_path):\n",
    "    with open(file_path, 'r') as fp:\n",
    "        json_file = json.load(fp)\n",
    "    return json_file"
   ]
  },
  {
   "cell_type": "markdown",
   "metadata": {},
   "source": [
    "#### Get system information from IS\n",
    "Where to start?\n",
    "Manually?\n"
   ]
  },
  {
   "cell_type": "code",
   "execution_count": 5,
   "metadata": {
    "collapsed": true
   },
   "outputs": [],
   "source": [
    "system_name = 'TLT-Long-system-7045-V1'"
   ]
  },
  {
   "cell_type": "code",
   "execution_count": 6,
   "metadata": {
    "code_folding": [
     0
    ],
    "collapsed": true
   },
   "outputs": [],
   "source": [
    "# Get info from system_dict\n",
    "current_directory = os.getcwd()\n",
    "system_directory = os.path.join(current_directory, system_name)\n",
    "if not os.path.exists(system_directory):\n",
    "    print(\"system doesn't exist\")\n",
    "else:\n",
    "    filename = 'system_dict.json'    \n",
    "    file_path = os.path.join(system_directory, filename)\n",
    "    system_dict = load_json(file_path)\n",
    "    issue = system_dict[\"issue\"]\n",
    "    direction = system_dict[\"direction\"]\n",
    "    ver_num = system_dict[\"ver_num\"]\n",
    "    # Perhaps only load these when needed?\n",
    "    pivotDate = system_dict[\"pivot_date\"]\n",
    "    is_oos_ratio = system_dict[\"is_oos_ratio\"]\n",
    "    oos_months = system_dict[\"oos_months\"]\n",
    "    segments = system_dict[\"segments\"]"
   ]
  },
  {
   "cell_type": "markdown",
   "metadata": {},
   "source": [
    "#### Retrieve data"
   ]
  },
  {
   "cell_type": "code",
   "execution_count": 7,
   "metadata": {
    "code_folding": [
     0
    ]
   },
   "outputs": [
    {
     "name": "stdout",
     "output_type": "stream",
     "text": [
      "C:\\Users\\kruegkj\\Documents\\GitHub\\QuantTradingSys\\Code\\notebooks\\TLT-Long-system-7045-V1\n",
      "TLT-Long-system-7045-V1\n"
     ]
    }
   ],
   "source": [
    "# retrieve dataset from IS\n",
    "print(system_directory)\n",
    "print(system_name)\n",
    "file_title = \"raw-features-\" + system_name + \".pkl\"\n",
    "file_name = os.path.join(system_directory, file_title)\n",
    "dataSet = pd.read_pickle(file_name)"
   ]
  },
  {
   "cell_type": "code",
   "execution_count": 8,
   "metadata": {},
   "outputs": [
    {
     "data": {
      "text/html": [
       "<div>\n",
       "<style>\n",
       "    .dataframe thead tr:only-child th {\n",
       "        text-align: right;\n",
       "    }\n",
       "\n",
       "    .dataframe thead th {\n",
       "        text-align: left;\n",
       "    }\n",
       "\n",
       "    .dataframe tbody tr th {\n",
       "        vertical-align: top;\n",
       "    }\n",
       "</style>\n",
       "<table border=\"1\" class=\"dataframe\">\n",
       "  <thead>\n",
       "    <tr style=\"text-align: right;\">\n",
       "      <th></th>\n",
       "      <th>Open</th>\n",
       "      <th>High</th>\n",
       "      <th>Low</th>\n",
       "      <th>Close</th>\n",
       "      <th>AdjClose</th>\n",
       "      <th>Volume</th>\n",
       "      <th>gainAhead</th>\n",
       "      <th>beLong</th>\n",
       "      <th>PPO_f2_s5</th>\n",
       "      <th>PPO_f2_s5_Normalized</th>\n",
       "      <th>...</th>\n",
       "      <th>ROC_10_Normalized</th>\n",
       "      <th>Close_lag3</th>\n",
       "      <th>Close_lag3_Normalized</th>\n",
       "      <th>Close_lag5</th>\n",
       "      <th>Close_lag5_Normalized</th>\n",
       "      <th>ChaikinADOSC_f4_s10</th>\n",
       "      <th>ChaikinADOSC_f4_s10_Normalized</th>\n",
       "      <th>KAMA_4</th>\n",
       "      <th>KAMA_4_Normalized</th>\n",
       "      <th>Volume_Normalized</th>\n",
       "    </tr>\n",
       "  </thead>\n",
       "  <tbody>\n",
       "    <tr>\n",
       "      <th>2002-11-07</th>\n",
       "      <td>87.05</td>\n",
       "      <td>87.73</td>\n",
       "      <td>86.85</td>\n",
       "      <td>87.73</td>\n",
       "      <td>48.2867</td>\n",
       "      <td>147900.0</td>\n",
       "      <td>0.008093</td>\n",
       "      <td>1</td>\n",
       "      <td>0.734559</td>\n",
       "      <td>0.850939</td>\n",
       "      <td>...</td>\n",
       "      <td>0.658536</td>\n",
       "      <td>88.41</td>\n",
       "      <td>0.781192</td>\n",
       "      <td>86.76</td>\n",
       "      <td>0.503464</td>\n",
       "      <td>156663.768769</td>\n",
       "      <td>0.751232</td>\n",
       "      <td>85.944019</td>\n",
       "      <td>0.206014</td>\n",
       "      <td>0.521408</td>\n",
       "    </tr>\n",
       "    <tr>\n",
       "      <th>2002-11-08</th>\n",
       "      <td>88.40</td>\n",
       "      <td>88.65</td>\n",
       "      <td>87.95</td>\n",
       "      <td>88.44</td>\n",
       "      <td>48.6775</td>\n",
       "      <td>294700.0</td>\n",
       "      <td>0.005427</td>\n",
       "      <td>1</td>\n",
       "      <td>1.797065</td>\n",
       "      <td>0.948797</td>\n",
       "      <td>...</td>\n",
       "      <td>0.689196</td>\n",
       "      <td>88.60</td>\n",
       "      <td>0.806426</td>\n",
       "      <td>87.11</td>\n",
       "      <td>0.583669</td>\n",
       "      <td>180784.851739</td>\n",
       "      <td>0.782884</td>\n",
       "      <td>86.707639</td>\n",
       "      <td>0.427486</td>\n",
       "      <td>0.802277</td>\n",
       "    </tr>\n",
       "    <tr>\n",
       "      <th>2002-11-11</th>\n",
       "      <td>88.55</td>\n",
       "      <td>88.92</td>\n",
       "      <td>88.40</td>\n",
       "      <td>88.92</td>\n",
       "      <td>48.9417</td>\n",
       "      <td>70000.0</td>\n",
       "      <td>-0.005735</td>\n",
       "      <td>-1</td>\n",
       "      <td>1.704246</td>\n",
       "      <td>0.933679</td>\n",
       "      <td>...</td>\n",
       "      <td>0.734183</td>\n",
       "      <td>86.76</td>\n",
       "      <td>0.502790</td>\n",
       "      <td>87.50</td>\n",
       "      <td>0.668962</td>\n",
       "      <td>194750.848707</td>\n",
       "      <td>0.800093</td>\n",
       "      <td>87.690911</td>\n",
       "      <td>0.738316</td>\n",
       "      <td>0.356152</td>\n",
       "    </tr>\n",
       "    <tr>\n",
       "      <th>2002-11-12</th>\n",
       "      <td>89.15</td>\n",
       "      <td>89.15</td>\n",
       "      <td>88.37</td>\n",
       "      <td>88.41</td>\n",
       "      <td>48.6610</td>\n",
       "      <td>494300.0</td>\n",
       "      <td>0.002149</td>\n",
       "      <td>1</td>\n",
       "      <td>0.959896</td>\n",
       "      <td>0.824649</td>\n",
       "      <td>...</td>\n",
       "      <td>0.604911</td>\n",
       "      <td>87.11</td>\n",
       "      <td>0.567559</td>\n",
       "      <td>87.82</td>\n",
       "      <td>0.733123</td>\n",
       "      <td>90657.171508</td>\n",
       "      <td>0.653535</td>\n",
       "      <td>87.874938</td>\n",
       "      <td>0.785763</td>\n",
       "      <td>0.973333</td>\n",
       "    </tr>\n",
       "    <tr>\n",
       "      <th>2002-11-13</th>\n",
       "      <td>88.45</td>\n",
       "      <td>88.69</td>\n",
       "      <td>87.96</td>\n",
       "      <td>88.60</td>\n",
       "      <td>48.7656</td>\n",
       "      <td>104700.0</td>\n",
       "      <td>-0.020767</td>\n",
       "      <td>-1</td>\n",
       "      <td>0.096132</td>\n",
       "      <td>0.494370</td>\n",
       "      <td>...</td>\n",
       "      <td>0.623113</td>\n",
       "      <td>87.50</td>\n",
       "      <td>0.637574</td>\n",
       "      <td>86.96</td>\n",
       "      <td>0.549523</td>\n",
       "      <td>50174.349132</td>\n",
       "      <td>0.587458</td>\n",
       "      <td>87.959594</td>\n",
       "      <td>0.805790</td>\n",
       "      <td>0.428346</td>\n",
       "    </tr>\n",
       "  </tbody>\n",
       "</table>\n",
       "<p>5 rows × 29 columns</p>\n",
       "</div>"
      ],
      "text/plain": [
       "             Open   High    Low  Close  AdjClose    Volume  gainAhead  beLong  \\\n",
       "2002-11-07  87.05  87.73  86.85  87.73   48.2867  147900.0   0.008093       1   \n",
       "2002-11-08  88.40  88.65  87.95  88.44   48.6775  294700.0   0.005427       1   \n",
       "2002-11-11  88.55  88.92  88.40  88.92   48.9417   70000.0  -0.005735      -1   \n",
       "2002-11-12  89.15  89.15  88.37  88.41   48.6610  494300.0   0.002149       1   \n",
       "2002-11-13  88.45  88.69  87.96  88.60   48.7656  104700.0  -0.020767      -1   \n",
       "\n",
       "            PPO_f2_s5  PPO_f2_s5_Normalized        ...          \\\n",
       "2002-11-07   0.734559              0.850939        ...           \n",
       "2002-11-08   1.797065              0.948797        ...           \n",
       "2002-11-11   1.704246              0.933679        ...           \n",
       "2002-11-12   0.959896              0.824649        ...           \n",
       "2002-11-13   0.096132              0.494370        ...           \n",
       "\n",
       "            ROC_10_Normalized  Close_lag3  Close_lag3_Normalized  Close_lag5  \\\n",
       "2002-11-07           0.658536       88.41               0.781192       86.76   \n",
       "2002-11-08           0.689196       88.60               0.806426       87.11   \n",
       "2002-11-11           0.734183       86.76               0.502790       87.50   \n",
       "2002-11-12           0.604911       87.11               0.567559       87.82   \n",
       "2002-11-13           0.623113       87.50               0.637574       86.96   \n",
       "\n",
       "            Close_lag5_Normalized  ChaikinADOSC_f4_s10  \\\n",
       "2002-11-07               0.503464        156663.768769   \n",
       "2002-11-08               0.583669        180784.851739   \n",
       "2002-11-11               0.668962        194750.848707   \n",
       "2002-11-12               0.733123         90657.171508   \n",
       "2002-11-13               0.549523         50174.349132   \n",
       "\n",
       "            ChaikinADOSC_f4_s10_Normalized     KAMA_4  KAMA_4_Normalized  \\\n",
       "2002-11-07                        0.751232  85.944019           0.206014   \n",
       "2002-11-08                        0.782884  86.707639           0.427486   \n",
       "2002-11-11                        0.800093  87.690911           0.738316   \n",
       "2002-11-12                        0.653535  87.874938           0.785763   \n",
       "2002-11-13                        0.587458  87.959594           0.805790   \n",
       "\n",
       "            Volume_Normalized  \n",
       "2002-11-07           0.521408  \n",
       "2002-11-08           0.802277  \n",
       "2002-11-11           0.356152  \n",
       "2002-11-12           0.973333  \n",
       "2002-11-13           0.428346  \n",
       "\n",
       "[5 rows x 29 columns]"
      ]
     },
     "execution_count": 8,
     "metadata": {},
     "output_type": "execute_result"
    }
   ],
   "source": [
    "dataSet.head(5)"
   ]
  },
  {
   "cell_type": "markdown",
   "metadata": {},
   "source": [
    "#### Retrieve feature_dict"
   ]
  },
  {
   "cell_type": "code",
   "execution_count": 9,
   "metadata": {
    "collapsed": true
   },
   "outputs": [],
   "source": [
    "file_name = 'feature_dict.json'\n",
    "file_path = os.path.join(system_directory, file_name)\n",
    "feature_dict = load_json(file_path)"
   ]
  },
  {
   "cell_type": "code",
   "execution_count": 10,
   "metadata": {},
   "outputs": [
    {
     "data": {
      "text/plain": [
       "{'CCI_10': 'Drop',\n",
       " 'CCI_10_Normalized': 'Drop',\n",
       " 'CMO_5': 'Drop',\n",
       " 'CMO_5_Normalized': 'Drop',\n",
       " 'ChaikinADOSC_f4_s10': 'Drop',\n",
       " 'ChaikinADOSC_f4_s10_Normalized': 'Keep',\n",
       " 'Close_lag3': 'Drop',\n",
       " 'Close_lag3_Normalized': 'Keep',\n",
       " 'Close_lag5': 'Drop',\n",
       " 'Close_lag5_Normalized': 'Keep',\n",
       " 'KAMA_4': 'Drop',\n",
       " 'KAMA_4_Normalized': 'Drop',\n",
       " 'PPO_f2_s5': 'Drop',\n",
       " 'PPO_f2_s5_Normalized': 'Keep',\n",
       " 'ROC_10': 'Drop',\n",
       " 'ROC_10_Normalized': 'Keep',\n",
       " 'RSI_2': 'Drop',\n",
       " 'RSI_2_Normalized': 'Keep',\n",
       " 'UltOsc_t110_t220_t330': 'Drop',\n",
       " 'UltOsc_t110_t220_t330_Normalized': 'Keep',\n",
       " 'Volume_Normalized': 'Keep'}"
      ]
     },
     "execution_count": 10,
     "metadata": {},
     "output_type": "execute_result"
    }
   ],
   "source": [
    "feature_dict"
   ]
  },
  {
   "cell_type": "markdown",
   "metadata": {},
   "source": [
    "### Establish and display OOS time parameters"
   ]
  },
  {
   "cell_type": "code",
   "execution_count": 11,
   "metadata": {},
   "outputs": [
    {
     "name": "stdout",
     "output_type": "stream",
     "text": [
      "2019-01-03 00:00:00\n"
     ]
    }
   ],
   "source": [
    "# Set IS-OOS parameters\n",
    "from datetime import datetime\n",
    "pivotDate = datetime.strptime(pivotDate, '%Y-%m-%d')\n",
    "print(pivotDate)"
   ]
  },
  {
   "cell_type": "code",
   "execution_count": 12,
   "metadata": {
    "collapsed": true
   },
   "outputs": [],
   "source": [
    "pivotDate = datetime.date(pivotDate)"
   ]
  },
  {
   "cell_type": "code",
   "execution_count": 13,
   "metadata": {
    "code_folding": [
     0
    ]
   },
   "outputs": [
    {
     "name": "stdout",
     "output_type": "stream",
     "text": [
      "                    Segments:  1\n",
      "                IS OOS Ratio:  4\n",
      "                  OOS months:  4\n",
      "                   IS Months:  16\n",
      "              Months to load:  20\n",
      "              Data Load Date:  2017-04-03\n",
      "              IS Start  Date:  2017-05-03\n",
      "              OOS Start Date:  2018-09-03\n",
      "                  Pivot Date:  2019-01-03\n",
      "Issue: TLT\n",
      "OOS Start date: 2018-09-03  OOS End date: 2019-01-03\n"
     ]
    }
   ],
   "source": [
    "# set date splits\n",
    "isOosDates = timeUtil.is_oos_data_split(issue, pivotDate, is_oos_ratio, oos_months, segments)\n",
    "dataLoadStartDate = isOosDates[0]\n",
    "is_start_date = isOosDates[1]\n",
    "oos_start_date = isOosDates[2]\n",
    "is_months = isOosDates[3]\n",
    "is_end_date = isOosDates[4]\n",
    "oos_end_date = isOosDates[5]\n",
    "\n",
    "modelStartDate = oos_start_date\n",
    "modelEndDate = modelStartDate + relativedelta(months=oos_months)\n",
    "print(\"Issue: \" + issue)\n",
    "print(\"OOS Start date: \" + str(modelStartDate) + \"  OOS End date: \" + str(modelEndDate))"
   ]
  },
  {
   "cell_type": "markdown",
   "metadata": {},
   "source": [
    "### Retrieve best model\n",
    "Where am I getting model name?\n",
    "Should come from system_dict (or some dict)\n",
    "For now, hard code"
   ]
  },
  {
   "cell_type": "code",
   "execution_count": 14,
   "metadata": {},
   "outputs": [],
   "source": [
    "best_model_name = system_dict[\"best_model\"]\n",
    "file_title = \"fit-model-\" + best_model_name + \"-IS-\" + system_name + \".sav\"\n",
    "file_name = os.path.join(system_directory, file_title)\n",
    "model = pickle.load(open(file_name, 'rb'))"
   ]
  },
  {
   "cell_type": "markdown",
   "metadata": {},
   "source": [
    "### Initialize dataframes for trade analysis\n",
    "    "
   ]
  },
  {
   "cell_type": "code",
   "execution_count": 16,
   "metadata": {},
   "outputs": [
    {
     "data": {
      "image/png": "[encoded data removed]",
      "text/plain": [
       "<Figure size 1008x432 with 2 Axes>"
      ]
     },
     "metadata": {},
     "output_type": "display_data"
    },
    {
     "data": {
      "image/png": "[encoded data removed]",
      "text/plain": [
       "<Figure size 432x144 with 1 Axes>"
      ]
     },
     "metadata": {},
     "output_type": "display_data"
    }
   ],
   "source": [
    "tradesDataFull = pd.DataFrame()\n",
    "valDataFull = pd.DataFrame()\n",
    "\n",
    "valData = dataSet[modelStartDate:modelEndDate].copy()\n",
    "tradesData = valData.copy()\n",
    "\n",
    "# Plot price and be lOngs for visual analysis\n",
    "models_utils.plotPriceAndBeLong(issue,\n",
    "                                modelStartDate,\n",
    "                                modelEndDate,\n",
    "                                valData\n",
    "                                )"
   ]
  },
  {
   "cell_type": "code",
   "execution_count": 17,
   "metadata": {
    "code_folding": [
     0
    ]
   },
   "outputs": [],
   "source": [
    "# drop cols\n",
    "col_vals = [k for k,v in feature_dict.items() if v == 'Drop']\n",
    "to_drop = ['Open','High','Low', 'gainAhead', 'Close', 'Volume', 'AdjClose', 'beLong']\n",
    "for x in to_drop:\n",
    "    col_vals.append(x)\n",
    "valModelData = dSet.drop_columns(valData, col_vals)\n",
    "\n",
    "valRows = valModelData.shape[0]\n",
    "#        print(\"There are %i data points\" % valRows)"
   ]
  },
  {
   "cell_type": "code",
   "execution_count": 18,
   "metadata": {},
   "outputs": [
    {
     "data": {
      "text/html": [
       "<div>\n",
       "<style>\n",
       "    .dataframe thead tr:only-child th {\n",
       "        text-align: right;\n",
       "    }\n",
       "\n",
       "    .dataframe thead th {\n",
       "        text-align: left;\n",
       "    }\n",
       "\n",
       "    .dataframe tbody tr th {\n",
       "        vertical-align: top;\n",
       "    }\n",
       "</style>\n",
       "<table border=\"1\" class=\"dataframe\">\n",
       "  <thead>\n",
       "    <tr style=\"text-align: right;\">\n",
       "      <th></th>\n",
       "      <th>PPO_f2_s5_Normalized</th>\n",
       "      <th>RSI_2_Normalized</th>\n",
       "      <th>UltOsc_t110_t220_t330_Normalized</th>\n",
       "      <th>ROC_10_Normalized</th>\n",
       "      <th>Close_lag3_Normalized</th>\n",
       "      <th>Close_lag5_Normalized</th>\n",
       "      <th>ChaikinADOSC_f4_s10_Normalized</th>\n",
       "      <th>Volume_Normalized</th>\n",
       "    </tr>\n",
       "  </thead>\n",
       "  <tbody>\n",
       "    <tr>\n",
       "      <th>2018-09-04</th>\n",
       "      <td>0.013658</td>\n",
       "      <td>0.086060</td>\n",
       "      <td>0.279866</td>\n",
       "      <td>0.057872</td>\n",
       "      <td>0.049884</td>\n",
       "      <td>0.039310</td>\n",
       "      <td>0.747351</td>\n",
       "      <td>1.000000</td>\n",
       "    </tr>\n",
       "    <tr>\n",
       "      <th>2018-09-05</th>\n",
       "      <td>0.007195</td>\n",
       "      <td>0.137057</td>\n",
       "      <td>0.271397</td>\n",
       "      <td>0.063233</td>\n",
       "      <td>0.107233</td>\n",
       "      <td>0.066807</td>\n",
       "      <td>0.735571</td>\n",
       "      <td>0.908454</td>\n",
       "    </tr>\n",
       "    <tr>\n",
       "      <th>2018-09-06</th>\n",
       "      <td>0.094788</td>\n",
       "      <td>0.400100</td>\n",
       "      <td>0.276884</td>\n",
       "      <td>0.061067</td>\n",
       "      <td>0.039310</td>\n",
       "      <td>0.112342</td>\n",
       "      <td>0.760876</td>\n",
       "      <td>0.917348</td>\n",
       "    </tr>\n",
       "    <tr>\n",
       "      <th>2018-09-07</th>\n",
       "      <td>0.174278</td>\n",
       "      <td>0.185423</td>\n",
       "      <td>0.134142</td>\n",
       "      <td>0.014472</td>\n",
       "      <td>0.066807</td>\n",
       "      <td>0.088748</td>\n",
       "      <td>0.672838</td>\n",
       "      <td>0.963717</td>\n",
       "    </tr>\n",
       "    <tr>\n",
       "      <th>2018-09-10</th>\n",
       "      <td>0.198679</td>\n",
       "      <td>0.435138</td>\n",
       "      <td>0.102232</td>\n",
       "      <td>0.032856</td>\n",
       "      <td>0.112342</td>\n",
       "      <td>0.114775</td>\n",
       "      <td>0.691928</td>\n",
       "      <td>0.536440</td>\n",
       "    </tr>\n",
       "  </tbody>\n",
       "</table>\n",
       "</div>"
      ],
      "text/plain": [
       "            PPO_f2_s5_Normalized  RSI_2_Normalized  \\\n",
       "2018-09-04              0.013658          0.086060   \n",
       "2018-09-05              0.007195          0.137057   \n",
       "2018-09-06              0.094788          0.400100   \n",
       "2018-09-07              0.174278          0.185423   \n",
       "2018-09-10              0.198679          0.435138   \n",
       "\n",
       "            UltOsc_t110_t220_t330_Normalized  ROC_10_Normalized  \\\n",
       "2018-09-04                          0.279866           0.057872   \n",
       "2018-09-05                          0.271397           0.063233   \n",
       "2018-09-06                          0.276884           0.061067   \n",
       "2018-09-07                          0.134142           0.014472   \n",
       "2018-09-10                          0.102232           0.032856   \n",
       "\n",
       "            Close_lag3_Normalized  Close_lag5_Normalized  \\\n",
       "2018-09-04               0.049884               0.039310   \n",
       "2018-09-05               0.107233               0.066807   \n",
       "2018-09-06               0.039310               0.112342   \n",
       "2018-09-07               0.066807               0.088748   \n",
       "2018-09-10               0.112342               0.114775   \n",
       "\n",
       "            ChaikinADOSC_f4_s10_Normalized  Volume_Normalized  \n",
       "2018-09-04                        0.747351           1.000000  \n",
       "2018-09-05                        0.735571           0.908454  \n",
       "2018-09-06                        0.760876           0.917348  \n",
       "2018-09-07                        0.672838           0.963717  \n",
       "2018-09-10                        0.691928           0.536440  "
      ]
     },
     "execution_count": 18,
     "metadata": {},
     "output_type": "execute_result"
    }
   ],
   "source": [
    "valModelData.head(5)"
   ]
  },
  {
   "cell_type": "code",
   "execution_count": 19,
   "metadata": {
    "collapsed": true
   },
   "outputs": [],
   "source": [
    "# test the validation data\n",
    "y_validate = []\n",
    "y_validate = model.predict(valModelData)"
   ]
  },
  {
   "cell_type": "markdown",
   "metadata": {},
   "source": [
    "### Establish best estimate of trades"
   ]
  },
  {
   "cell_type": "code",
   "execution_count": 20,
   "metadata": {
    "code_folding": [
     0
    ],
    "collapsed": true
   },
   "outputs": [],
   "source": [
    "# Create best estimate of trades\n",
    "bestEstimate = np.zeros(valRows)\n",
    "\n",
    "# You may need to adjust for the first and / or final entry \n",
    "for i in range(valRows -1):\n",
    "    #print(valData.gainAhead.iloc[i], y_validate[i])\n",
    "    if y_validate[i] > 0.0: \n",
    "        bestEstimate[i] = valData.gainAhead.iloc[i]\n",
    "    else:\n",
    "        bestEstimate[i] = 0.0 "
   ]
  },
  {
   "cell_type": "markdown",
   "metadata": {},
   "source": [
    "### Create and plot equity curve"
   ]
  },
  {
   "cell_type": "code",
   "execution_count": 21,
   "metadata": {
    "code_folding": [
     0
    ]
   },
   "outputs": [
    {
     "data": {
      "image/png": "[encoded data removed]",
      "text/plain": [
       "<Figure size 432x288 with 1 Axes>"
      ]
     },
     "metadata": {},
     "output_type": "display_data"
    },
    {
     "name": "stdout",
     "output_type": "stream",
     "text": [
      "Terminal Weatlh:  1.09\n"
     ]
    }
   ],
   "source": [
    "# Plot equity curve\n",
    "equity = np.zeros(valRows)\n",
    "equity[0] = 1.0\n",
    "for i in range(1,valRows):\n",
    "    equity[i] = (1+bestEstimate[i])*equity[i-1]       \n",
    "plt.plot(equity)\n",
    "plt.title('Terminal wealth of predicted trades')\n",
    "plt.show(block=True)\n",
    "\n",
    "print('{0:} {1:.2f}'.format(\"Terminal Weatlh: \", equity[valRows-1]))"
   ]
  },
  {
   "cell_type": "code",
   "execution_count": 22,
   "metadata": {
    "code_folding": [
     0
    ]
   },
   "outputs": [
    {
     "data": {
      "image/png": "[encoded data removed]",
      "text/plain": [
       "<Figure size 720x720 with 3 Axes>"
      ]
     },
     "metadata": {},
     "output_type": "display_data"
    }
   ],
   "source": [
    "# Store predictions in valBeLong for plotting\n",
    "valData['valBeLong'] = pd.Series(y_validate, index=valData.index)\n",
    "\n",
    "# Plot price and trading signals\n",
    "models_utils.plotPriceAndTradeSignals(valData)"
   ]
  },
  {
   "cell_type": "markdown",
   "metadata": {},
   "source": [
    "### Storing info for later trades analysis "
   ]
  },
  {
   "cell_type": "code",
   "execution_count": 23,
   "metadata": {
    "collapsed": true
   },
   "outputs": [],
   "source": [
    "tradesData['valBeLong'] = pd.Series(y_validate, index=tradesData.index)\n",
    "tradesData['gain'] = tradesData['Close'] - tradesData['Open']"
   ]
  },
  {
   "cell_type": "code",
   "execution_count": 24,
   "metadata": {
    "code_folding": [
     0
    ]
   },
   "outputs": [
    {
     "name": "stdout",
     "output_type": "stream",
     "text": [
      "\n",
      "\n",
      "Starting Equity Analysis\n",
      "\n",
      "There are 85 rows of data\n",
      "TWR for All is 1.02044518568\n",
      "TWR for BeLong is 1.22134445109\n",
      "TWR for ValBeLong is 1.08677367523\n"
     ]
    },
    {
     "data": {
      "image/png": "[encoded data removed]",
      "text/plain": [
       "<Figure size 720x360 with 2 Axes>"
      ]
     },
     "metadata": {},
     "output_type": "display_data"
    }
   ],
   "source": [
    "# Getting Cumulative equity values\n",
    "#  Count the number of rows in the file\n",
    "print('\\n\\nStarting Equity Analysis\\n')\n",
    "nrows = tradesData.shape[0]\n",
    "print ('There are %0.f rows of data' % nrows)\n",
    "\n",
    "models_utils.cumulEquity(valData, tradesData, ceType='All')  \n",
    "models_utils.cumulEquity(valData, tradesData, ceType='BeLong')   \n",
    "models_utils.cumulEquity(valData, tradesData, ceType='ValBeLong')\n",
    "# Plot those values\n",
    "models_utils.plotPriceAndCumulEquity(issue, valData)"
   ]
  },
  {
   "cell_type": "markdown",
   "metadata": {},
   "source": [
    "### Trades Analysis"
   ]
  },
  {
   "cell_type": "markdown",
   "metadata": {},
   "source": [
    "#### Initialize vars for trade analysis"
   ]
  },
  {
   "cell_type": "code",
   "execution_count": 25,
   "metadata": {},
   "outputs": [
    {
     "data": {
      "text/plain": [
       "85"
      ]
     },
     "execution_count": 25,
     "metadata": {},
     "output_type": "execute_result"
    }
   ],
   "source": [
    "tradesDataFull = tradesDataFull.append(tradesData)\n",
    "valDataFull = valDataFull.append(valData)\n",
    "\n",
    "ndays = tradesDataFull.shape[0]\n",
    "ndays"
   ]
  },
  {
   "cell_type": "code",
   "execution_count": 26,
   "metadata": {
    "code_folding": [
     0
    ],
    "collapsed": true
   },
   "outputs": [],
   "source": [
    "#  Local variables for trading system    \n",
    "initialEquity = 100000\n",
    "fixedTradeDollars = 10000\n",
    "commission = 0.005      #  Dollars per share per trade\n",
    "\n",
    "#  These are scalar and apply to the current conditions      \n",
    "entryPrice = 0\n",
    "exitPrice = 0\n",
    "\n",
    "#  These have an element for each day loaded\n",
    "#  Some will be unnecessary    \n",
    "accountBalance = np.zeros(ndays)\n",
    "cash = np.zeros(ndays)\n",
    "sharesHeld = np.zeros(ndays)\n",
    "tradeGain = []\n",
    "tradeGainDollars = []\n",
    "openTradeEquity = np.zeros(ndays)\n",
    "tradeWinsValue = np.zeros(ndays)\n",
    "tradeLossesValue = np.zeros(ndays)\n",
    "\n",
    "iTradeDay = 0\n",
    "iTradeNumber = 0\n",
    "\n",
    "#  Day 0 contains the initial values\n",
    "accountBalance[0] = initialEquity\n",
    "cash[0] = accountBalance[0]\n",
    "sharesHeld[0] = 0"
   ]
  },
  {
   "cell_type": "markdown",
   "metadata": {},
   "source": [
    "####  Loop over all the days loaded"
   ]
  },
  {
   "cell_type": "code",
   "execution_count": 27,
   "metadata": {
    "code_folding": [
     0
    ],
    "collapsed": true
   },
   "outputs": [],
   "source": [
    "# Loop over all days loaded\n",
    "oos_start_date = isOosDates[2]\n",
    "oos_end_date = isOosDates[5]\n",
    "\n",
    "for i in range (1,ndays):\n",
    "    #  Extract the date\n",
    "    dt = tradesDataFull.index[i]\n",
    "    dt = dt.date()\n",
    "    #  Check the date\n",
    "    # oos_start_date\n",
    "    # oos_end_date\n",
    "    datesPass = dt>=oos_start_date and dt<=pivotDate\n",
    "    if datesPass:\n",
    "        iTradeDay = iTradeDay + 1\n",
    "        if sharesHeld[iTradeDay-1] > 0:\n",
    "            #  In a long position\n",
    "            if tradesDataFull.valBeLong[i]<0:\n",
    "                #  target is -1 -- beFlat \n",
    "                #  Exit -- close the trade\n",
    "                exitPrice = tradesDataFull.Close[i]\n",
    "                grossProceeds = sharesHeld[iTradeDay-1] * exitPrice\n",
    "                commissionAmount = sharesHeld[iTradeDay-1] * commission\n",
    "                netProceeds = grossProceeds - commissionAmount\n",
    "                #print(\"netProceeds: \", netProceeds)\n",
    "                cash[iTradeDay] = cash[iTradeDay-1] + netProceeds\n",
    "                accountBalance[iTradeDay] = cash[iTradeDay]\n",
    "                sharesHeld[iTradeDay] = 0\n",
    "                iTradeNumber = iTradeNumber+1\n",
    "                #tradeGain[iTradeNumber] = (exitPrice / (1.0 * entryPrice))    \n",
    "                tradeGain.append(exitPrice / (1.0 * entryPrice))\n",
    "                tradeGainDollars.append(((exitPrice / (1.0 * entryPrice))*fixedTradeDollars)-fixedTradeDollars)\n",
    "\n",
    "                pass\n",
    "            else:\n",
    "                #  target is +1 -- beLong\n",
    "                #  Continue long\n",
    "                sharesHeld[iTradeDay] = sharesHeld[iTradeDay-1]\n",
    "                cash[iTradeDay] = cash[iTradeDay-1]\n",
    "                MTMPrice = tradesDataFull.Close[i]\n",
    "                openTradeEquity = sharesHeld[iTradeDay] * MTMPrice\n",
    "                accountBalance[iTradeDay] = cash[iTradeDay] + openTradeEquity\n",
    "                pass\n",
    "        else:\n",
    "            #  Currently flat\n",
    "            if tradesDataFull.valBeLong[i]>0:\n",
    "                #  target is +1 -- beLong\n",
    "                #  Enter a new position\n",
    "                entryPrice = tradesDataFull.Close[i]\n",
    "                sharesHeld[iTradeDay] = int(fixedTradeDollars/(entryPrice+commission))\n",
    "                shareCost = sharesHeld[iTradeDay]*(entryPrice+commission)\n",
    "                cash[iTradeDay] = cash[iTradeDay-1] - shareCost\n",
    "                openTradeEquity = sharesHeld[iTradeDay]*entryPrice\n",
    "                accountBalance[iTradeDay] = cash[iTradeDay] + openTradeEquity\n",
    "                pass\n",
    "            else:\n",
    "                #  target is -1 -- beFlat\n",
    "                #  Continue flat\n",
    "                cash[iTradeDay] = cash[iTradeDay-1]\n",
    "                accountBalance[iTradeDay] = cash[iTradeDay] \n",
    "                pass\n",
    "    else:\n",
    "        print(\"dates don't pass\")"
   ]
  },
  {
   "cell_type": "code",
   "execution_count": 28,
   "metadata": {
    "code_folding": [
     0
    ]
   },
   "outputs": [
    {
     "name": "stdout",
     "output_type": "stream",
     "text": [
      "Final account balance: 100827.62\n",
      "Number of trades: 8\n"
     ]
    }
   ],
   "source": [
    "# Format and print results\n",
    "finalAccountBalance = accountBalance[iTradeDay]\n",
    "print ('Final account balance: %.2f' %  finalAccountBalance)\n",
    "numberTradeDays = iTradeDay        \n",
    "numberTrades = iTradeNumber\n",
    "print (\"Number of trades:\", numberTrades)"
   ]
  },
  {
   "cell_type": "code",
   "execution_count": 29,
   "metadata": {
    "code_folding": [
     0
    ]
   },
   "outputs": [
    {
     "data": {
      "image/png": "[encoded data removed]",
      "text/plain": [
       "<Figure size 432x288 with 1 Axes>"
      ]
     },
     "metadata": {},
     "output_type": "display_data"
    }
   ],
   "source": [
    "# Plot equity curve\n",
    "from pandas import Series\n",
    "    \n",
    "Sequity = Series(accountBalance[0:numberTradeDays-1])\n",
    "Sequity.plot(grid=True, title=\"Equity Curve\", )\n",
    "plt.show(block=False)"
   ]
  },
  {
   "cell_type": "code",
   "execution_count": 30,
   "metadata": {
    "code_folding": [
     0
    ]
   },
   "outputs": [
    {
     "name": "stdout",
     "output_type": "stream",
     "text": [
      "Wins:  6\n",
      "Losses:  2\n",
      "W/L:  0.75\n",
      "Total value of Wins:  981.42\n",
      "Total value of Losses:  -141.61\n",
      "Expectancy:  140.38\n",
      "Fixed trade size:  10000\n"
     ]
    }
   ],
   "source": [
    "# Calculate trade statistics\n",
    "tradeWins = sum(1 for x in tradeGain if float(x) >= 1.0)\n",
    "tradeLosses = sum(1 for x in tradeGain if float(x) < 1.0 and float(x) > 0)\n",
    "print(\"Wins: \", tradeWins)\n",
    "print(\"Losses: \", tradeLosses)\n",
    "print(\"W/L: \", tradeWins/numberTrades)\n",
    "\n",
    "tradeWinsValue = sum((x*fixedTradeDollars)-fixedTradeDollars for x in tradeGain if float(x) >= 1.0)\n",
    "tradeLossesValue = sum((x*fixedTradeDollars)-fixedTradeDollars for x in tradeGain if float(x) < 1.0 and float(x) > 0)\n",
    "print('Total value of Wins:  %.2f' % tradeWinsValue)\n",
    "print('Total value of Losses:  %.2f' % tradeLossesValue)\n",
    "#(Win % x Average Win Size) – (Loss % x Average Loss Size)\n",
    "print('Expectancy:  %.2f' % ((tradeWins/numberTrades)*(tradeWinsValue/tradeWins)-(tradeLosses/numberTrades)*(tradeLossesValue/tradeLosses)))\n",
    "print(\"Fixed trade size: \", fixedTradeDollars)"
   ]
  },
  {
   "cell_type": "code",
   "execution_count": 31,
   "metadata": {},
   "outputs": [
    {
     "data": {
      "text/html": [
       "<div>\n",
       "<style>\n",
       "    .dataframe thead tr:only-child th {\n",
       "        text-align: right;\n",
       "    }\n",
       "\n",
       "    .dataframe thead th {\n",
       "        text-align: left;\n",
       "    }\n",
       "\n",
       "    .dataframe tbody tr th {\n",
       "        vertical-align: top;\n",
       "    }\n",
       "</style>\n",
       "<table border=\"1\" class=\"dataframe\">\n",
       "  <thead>\n",
       "    <tr style=\"text-align: right;\">\n",
       "      <th></th>\n",
       "      <th>Open</th>\n",
       "      <th>High</th>\n",
       "      <th>Low</th>\n",
       "      <th>Close</th>\n",
       "      <th>AdjClose</th>\n",
       "      <th>Volume</th>\n",
       "      <th>gainAhead</th>\n",
       "      <th>beLong</th>\n",
       "      <th>PPO_f2_s5</th>\n",
       "      <th>PPO_f2_s5_Normalized</th>\n",
       "      <th>...</th>\n",
       "      <th>Close_lag3_Normalized</th>\n",
       "      <th>Close_lag5</th>\n",
       "      <th>Close_lag5_Normalized</th>\n",
       "      <th>ChaikinADOSC_f4_s10</th>\n",
       "      <th>ChaikinADOSC_f4_s10_Normalized</th>\n",
       "      <th>KAMA_4</th>\n",
       "      <th>KAMA_4_Normalized</th>\n",
       "      <th>Volume_Normalized</th>\n",
       "      <th>valBeLong</th>\n",
       "      <th>gain</th>\n",
       "    </tr>\n",
       "  </thead>\n",
       "  <tbody>\n",
       "    <tr>\n",
       "      <th>2018-12-27</th>\n",
       "      <td>121.26</td>\n",
       "      <td>121.38</td>\n",
       "      <td>119.9800</td>\n",
       "      <td>120.04</td>\n",
       "      <td>119.7679</td>\n",
       "      <td>12146772.0</td>\n",
       "      <td>0.008414</td>\n",
       "      <td>1</td>\n",
       "      <td>-0.446221</td>\n",
       "      <td>0.097180</td>\n",
       "      <td>...</td>\n",
       "      <td>0.901450</td>\n",
       "      <td>122.11</td>\n",
       "      <td>0.809991</td>\n",
       "      <td>-5.350915e+06</td>\n",
       "      <td>0.010307</td>\n",
       "      <td>120.353046</td>\n",
       "      <td>0.786044</td>\n",
       "      <td>0.856717</td>\n",
       "      <td>1</td>\n",
       "      <td>-1.22</td>\n",
       "    </tr>\n",
       "    <tr>\n",
       "      <th>2018-12-28</th>\n",
       "      <td>120.40</td>\n",
       "      <td>121.05</td>\n",
       "      <td>120.2900</td>\n",
       "      <td>121.05</td>\n",
       "      <td>120.7756</td>\n",
       "      <td>9879116.0</td>\n",
       "      <td>0.003800</td>\n",
       "      <td>1</td>\n",
       "      <td>-0.070463</td>\n",
       "      <td>0.242591</td>\n",
       "      <td>...</td>\n",
       "      <td>0.956843</td>\n",
       "      <td>121.75</td>\n",
       "      <td>0.760020</td>\n",
       "      <td>-4.474868e+06</td>\n",
       "      <td>0.047113</td>\n",
       "      <td>120.365251</td>\n",
       "      <td>0.762299</td>\n",
       "      <td>0.643356</td>\n",
       "      <td>1</td>\n",
       "      <td>0.65</td>\n",
       "    </tr>\n",
       "    <tr>\n",
       "      <th>2018-12-31</th>\n",
       "      <td>120.65</td>\n",
       "      <td>121.56</td>\n",
       "      <td>120.4600</td>\n",
       "      <td>121.51</td>\n",
       "      <td>121.2345</td>\n",
       "      <td>17408971.0</td>\n",
       "      <td>0.005267</td>\n",
       "      <td>1</td>\n",
       "      <td>0.407325</td>\n",
       "      <td>0.526133</td>\n",
       "      <td>...</td>\n",
       "      <td>0.809991</td>\n",
       "      <td>121.43</td>\n",
       "      <td>0.664462</td>\n",
       "      <td>-2.663441e+05</td>\n",
       "      <td>0.363018</td>\n",
       "      <td>120.377998</td>\n",
       "      <td>0.785343</td>\n",
       "      <td>0.990908</td>\n",
       "      <td>1</td>\n",
       "      <td>0.86</td>\n",
       "    </tr>\n",
       "    <tr>\n",
       "      <th>2019-01-02</th>\n",
       "      <td>121.66</td>\n",
       "      <td>122.16</td>\n",
       "      <td>121.3401</td>\n",
       "      <td>122.15</td>\n",
       "      <td>121.8731</td>\n",
       "      <td>19841527.0</td>\n",
       "      <td>0.011379</td>\n",
       "      <td>1</td>\n",
       "      <td>0.724242</td>\n",
       "      <td>0.713338</td>\n",
       "      <td>...</td>\n",
       "      <td>0.760020</td>\n",
       "      <td>121.24</td>\n",
       "      <td>0.585994</td>\n",
       "      <td>6.042490e+06</td>\n",
       "      <td>0.941620</td>\n",
       "      <td>121.165555</td>\n",
       "      <td>0.902842</td>\n",
       "      <td>0.996762</td>\n",
       "      <td>-1</td>\n",
       "      <td>0.49</td>\n",
       "    </tr>\n",
       "    <tr>\n",
       "      <th>2019-01-03</th>\n",
       "      <td>122.29</td>\n",
       "      <td>123.86</td>\n",
       "      <td>122.2267</td>\n",
       "      <td>123.54</td>\n",
       "      <td>123.2599</td>\n",
       "      <td>21187045.0</td>\n",
       "      <td>-0.011575</td>\n",
       "      <td>-1</td>\n",
       "      <td>0.975686</td>\n",
       "      <td>0.794186</td>\n",
       "      <td>...</td>\n",
       "      <td>0.664462</td>\n",
       "      <td>120.46</td>\n",
       "      <td>0.412070</td>\n",
       "      <td>1.151138e+07</td>\n",
       "      <td>0.999335</td>\n",
       "      <td>122.220864</td>\n",
       "      <td>0.970980</td>\n",
       "      <td>0.997688</td>\n",
       "      <td>-1</td>\n",
       "      <td>1.25</td>\n",
       "    </tr>\n",
       "  </tbody>\n",
       "</table>\n",
       "<p>5 rows × 31 columns</p>\n",
       "</div>"
      ],
      "text/plain": [
       "              Open    High       Low   Close  AdjClose      Volume  gainAhead  \\\n",
       "2018-12-27  121.26  121.38  119.9800  120.04  119.7679  12146772.0   0.008414   \n",
       "2018-12-28  120.40  121.05  120.2900  121.05  120.7756   9879116.0   0.003800   \n",
       "2018-12-31  120.65  121.56  120.4600  121.51  121.2345  17408971.0   0.005267   \n",
       "2019-01-02  121.66  122.16  121.3401  122.15  121.8731  19841527.0   0.011379   \n",
       "2019-01-03  122.29  123.86  122.2267  123.54  123.2599  21187045.0  -0.011575   \n",
       "\n",
       "            beLong  PPO_f2_s5  PPO_f2_s5_Normalized  ...   \\\n",
       "2018-12-27       1  -0.446221              0.097180  ...    \n",
       "2018-12-28       1  -0.070463              0.242591  ...    \n",
       "2018-12-31       1   0.407325              0.526133  ...    \n",
       "2019-01-02       1   0.724242              0.713338  ...    \n",
       "2019-01-03      -1   0.975686              0.794186  ...    \n",
       "\n",
       "            Close_lag3_Normalized  Close_lag5  Close_lag5_Normalized  \\\n",
       "2018-12-27               0.901450      122.11               0.809991   \n",
       "2018-12-28               0.956843      121.75               0.760020   \n",
       "2018-12-31               0.809991      121.43               0.664462   \n",
       "2019-01-02               0.760020      121.24               0.585994   \n",
       "2019-01-03               0.664462      120.46               0.412070   \n",
       "\n",
       "            ChaikinADOSC_f4_s10  ChaikinADOSC_f4_s10_Normalized      KAMA_4  \\\n",
       "2018-12-27        -5.350915e+06                        0.010307  120.353046   \n",
       "2018-12-28        -4.474868e+06                        0.047113  120.365251   \n",
       "2018-12-31        -2.663441e+05                        0.363018  120.377998   \n",
       "2019-01-02         6.042490e+06                        0.941620  121.165555   \n",
       "2019-01-03         1.151138e+07                        0.999335  122.220864   \n",
       "\n",
       "            KAMA_4_Normalized  Volume_Normalized  valBeLong  gain  \n",
       "2018-12-27           0.786044           0.856717          1 -1.22  \n",
       "2018-12-28           0.762299           0.643356          1  0.65  \n",
       "2018-12-31           0.785343           0.990908          1  0.86  \n",
       "2019-01-02           0.902842           0.996762         -1  0.49  \n",
       "2019-01-03           0.970980           0.997688         -1  1.25  \n",
       "\n",
       "[5 rows x 31 columns]"
      ]
     },
     "execution_count": 31,
     "metadata": {},
     "output_type": "execute_result"
    }
   ],
   "source": [
    "tradesDataFull.tail(5)"
   ]
  },
  {
   "cell_type": "code",
   "execution_count": 32,
   "metadata": {
    "code_folding": [
     0
    ],
    "collapsed": true
   },
   "outputs": [],
   "source": [
    "####  end and save Shadow trades  ####     \n",
    "df_to_save = tradesDataFull[['valBeLong','gainAhead','Close']].copy()\n",
    "df_to_save.reset_index(level=df_to_save.index.names, inplace=True)\n",
    "df_to_save.columns=['Date','signal','gainAhead','Close']\n",
    "#print(df_to_save)\n",
    "filename = \"OOS_Equity_\" + system_name + \".csv\"\n",
    "df_to_save.to_csv(system_directory+ \"\\\\\" + filename, encoding='utf-8', index=False)\n"
   ]
  },
  {
   "cell_type": "code",
   "execution_count": 33,
   "metadata": {},
   "outputs": [
    {
     "data": {
      "text/html": [
       "<div>\n",
       "<style>\n",
       "    .dataframe thead tr:only-child th {\n",
       "        text-align: right;\n",
       "    }\n",
       "\n",
       "    .dataframe thead th {\n",
       "        text-align: left;\n",
       "    }\n",
       "\n",
       "    .dataframe tbody tr th {\n",
       "        vertical-align: top;\n",
       "    }\n",
       "</style>\n",
       "<table border=\"1\" class=\"dataframe\">\n",
       "  <thead>\n",
       "    <tr style=\"text-align: right;\">\n",
       "      <th></th>\n",
       "      <th>Date</th>\n",
       "      <th>signal</th>\n",
       "      <th>gainAhead</th>\n",
       "      <th>Close</th>\n",
       "    </tr>\n",
       "  </thead>\n",
       "  <tbody>\n",
       "    <tr>\n",
       "      <th>0</th>\n",
       "      <td>2018-09-04</td>\n",
       "      <td>-1</td>\n",
       "      <td>-0.002666</td>\n",
       "      <td>120.03</td>\n",
       "    </tr>\n",
       "    <tr>\n",
       "      <th>1</th>\n",
       "      <td>2018-09-05</td>\n",
       "      <td>-1</td>\n",
       "      <td>0.003676</td>\n",
       "      <td>119.71</td>\n",
       "    </tr>\n",
       "    <tr>\n",
       "      <th>2</th>\n",
       "      <td>2018-09-06</td>\n",
       "      <td>-1</td>\n",
       "      <td>-0.008489</td>\n",
       "      <td>120.15</td>\n",
       "    </tr>\n",
       "    <tr>\n",
       "      <th>3</th>\n",
       "      <td>2018-09-07</td>\n",
       "      <td>-1</td>\n",
       "      <td>0.003693</td>\n",
       "      <td>119.13</td>\n",
       "    </tr>\n",
       "    <tr>\n",
       "      <th>4</th>\n",
       "      <td>2018-09-10</td>\n",
       "      <td>-1</td>\n",
       "      <td>-0.007611</td>\n",
       "      <td>119.57</td>\n",
       "    </tr>\n",
       "    <tr>\n",
       "      <th>5</th>\n",
       "      <td>2018-09-11</td>\n",
       "      <td>1</td>\n",
       "      <td>0.002360</td>\n",
       "      <td>118.66</td>\n",
       "    </tr>\n",
       "  </tbody>\n",
       "</table>\n",
       "</div>"
      ],
      "text/plain": [
       "        Date  signal  gainAhead   Close\n",
       "0 2018-09-04      -1  -0.002666  120.03\n",
       "1 2018-09-05      -1   0.003676  119.71\n",
       "2 2018-09-06      -1  -0.008489  120.15\n",
       "3 2018-09-07      -1   0.003693  119.13\n",
       "4 2018-09-10      -1  -0.007611  119.57\n",
       "5 2018-09-11       1   0.002360  118.66"
      ]
     },
     "execution_count": 33,
     "metadata": {},
     "output_type": "execute_result"
    }
   ],
   "source": [
    "df_to_save.head(6)"
   ]
  },
  {
   "cell_type": "code",
   "execution_count": 34,
   "metadata": {},
   "outputs": [
    {
     "data": {
      "text/html": [
       "<div>\n",
       "<style>\n",
       "    .dataframe thead tr:only-child th {\n",
       "        text-align: right;\n",
       "    }\n",
       "\n",
       "    .dataframe thead th {\n",
       "        text-align: left;\n",
       "    }\n",
       "\n",
       "    .dataframe tbody tr th {\n",
       "        vertical-align: top;\n",
       "    }\n",
       "</style>\n",
       "<table border=\"1\" class=\"dataframe\">\n",
       "  <thead>\n",
       "    <tr style=\"text-align: right;\">\n",
       "      <th></th>\n",
       "      <th>Date</th>\n",
       "      <th>signal</th>\n",
       "      <th>gainAhead</th>\n",
       "      <th>Close</th>\n",
       "    </tr>\n",
       "  </thead>\n",
       "  <tbody>\n",
       "    <tr>\n",
       "      <th>79</th>\n",
       "      <td>2018-12-26</td>\n",
       "      <td>1</td>\n",
       "      <td>0.000167</td>\n",
       "      <td>120.02</td>\n",
       "    </tr>\n",
       "    <tr>\n",
       "      <th>80</th>\n",
       "      <td>2018-12-27</td>\n",
       "      <td>1</td>\n",
       "      <td>0.008414</td>\n",
       "      <td>120.04</td>\n",
       "    </tr>\n",
       "    <tr>\n",
       "      <th>81</th>\n",
       "      <td>2018-12-28</td>\n",
       "      <td>1</td>\n",
       "      <td>0.003800</td>\n",
       "      <td>121.05</td>\n",
       "    </tr>\n",
       "    <tr>\n",
       "      <th>82</th>\n",
       "      <td>2018-12-31</td>\n",
       "      <td>1</td>\n",
       "      <td>0.005267</td>\n",
       "      <td>121.51</td>\n",
       "    </tr>\n",
       "    <tr>\n",
       "      <th>83</th>\n",
       "      <td>2019-01-02</td>\n",
       "      <td>-1</td>\n",
       "      <td>0.011379</td>\n",
       "      <td>122.15</td>\n",
       "    </tr>\n",
       "    <tr>\n",
       "      <th>84</th>\n",
       "      <td>2019-01-03</td>\n",
       "      <td>-1</td>\n",
       "      <td>-0.011575</td>\n",
       "      <td>123.54</td>\n",
       "    </tr>\n",
       "  </tbody>\n",
       "</table>\n",
       "</div>"
      ],
      "text/plain": [
       "         Date  signal  gainAhead   Close\n",
       "79 2018-12-26       1   0.000167  120.02\n",
       "80 2018-12-27       1   0.008414  120.04\n",
       "81 2018-12-28       1   0.003800  121.05\n",
       "82 2018-12-31       1   0.005267  121.51\n",
       "83 2019-01-02      -1   0.011379  122.15\n",
       "84 2019-01-03      -1  -0.011575  123.54"
      ]
     },
     "execution_count": 34,
     "metadata": {},
     "output_type": "execute_result"
    }
   ],
   "source": [
    "df_to_save.tail(6)"
   ]
  },
  {
   "cell_type": "markdown",
   "metadata": {},
   "source": [
    "### Proceed to TMS Part 1"
   ]
  }
 ],
 "metadata": {
  "kernelspec": {
   "display_name": "Python 3",
   "language": "python",
   "name": "python3"
  },
  "language_info": {
   "codemirror_mode": {
    "name": "ipython",
    "version": 3
   },
   "file_extension": ".py",
   "mimetype": "text/x-python",
   "name": "python",
   "nbconvert_exporter": "python",
   "pygments_lexer": "ipython3",
   "version": "3.6.6"
  }
 },
 "nbformat": 4,
 "nbformat_minor": 2
}
