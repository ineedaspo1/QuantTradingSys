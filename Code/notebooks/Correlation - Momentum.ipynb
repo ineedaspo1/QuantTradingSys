{
 "cells": [
  {
   "cell_type": "markdown",
   "metadata": {},
   "source": [
    "## Correlation - examining momentum features\n",
    "    RSI_<period>\n",
    "    PPO_f<fast period>_s<slow period>\n",
    "    CMO_<period>\n",
    "    CCI\n",
    "    UltOsc_t1<time period1>_t2<time period2>_t3<time period3>\n",
    "    ROC_<period>"
   ]
  },
  {
   "cell_type": "code",
   "execution_count": 1,
   "metadata": {
    "collapsed": true
   },
   "outputs": [],
   "source": [
    "%matplotlib inline"
   ]
  },
  {
   "cell_type": "code",
   "execution_count": 2,
   "metadata": {},
   "outputs": [
    {
     "name": "stderr",
     "output_type": "stream",
     "text": [
      "C:\\ProgramData\\Anaconda3\\lib\\site-packages\\statsmodels\\compat\\pandas.py:56: FutureWarning: The pandas.core.datetools module is deprecated and will be removed in a future version. Please use the pandas.tseries module instead.\n",
      "  from pandas.core import datetools\n"
     ]
    }
   ],
   "source": [
    "import json\n",
    "\n",
    "from Code.lib.plot_utils import PlotUtility\n",
    "from Code.lib.time_utils import TimeUtility\n",
    "from Code.lib.retrieve_data import DataRetrieve, ComputeTarget\n",
    "from Code.lib.candle_indicators import CandleIndicators\n",
    "from Code.lib.transformers import Transformers\n",
    "from Code.lib.ta_momentum_studies import TALibMomentumStudies\n",
    "from Code.lib.model_utils import ModelUtility\n",
    "from Code.lib.feature_generator import FeatureGenerator\n",
    "from Code.utilities.stat_tests import stationarity_tests\n",
    "from Code.lib.config import current_feature, feature_dict\n",
    "from Code.models import models_utils"
   ]
  },
  {
   "cell_type": "code",
   "execution_count": 3,
   "metadata": {
    "collapsed": true
   },
   "outputs": [],
   "source": [
    "import pandas as pd\n",
    "import numpy as np\n",
    "import datetime\n",
    "from dateutil.relativedelta import relativedelta\n",
    "import matplotlib.pylab as plt\n",
    "from pandas.tseries.offsets import BDay\n",
    "import os.path\n",
    "import pickle"
   ]
  },
  {
   "cell_type": "code",
   "execution_count": 4,
   "metadata": {
    "collapsed": true
   },
   "outputs": [],
   "source": [
    "from sklearn.model_selection import StratifiedShuffleSplit\n",
    "from sklearn.model_selection import TimeSeriesSplit\n",
    "from sklearn.ensemble import RandomForestClassifier\n",
    "from sklearn.metrics import confusion_matrix\n",
    "from sklearn.metrics import accuracy_score\n",
    "from sklearn.metrics import precision_score\n",
    "from sklearn.metrics import recall_score\n",
    "from sklearn.metrics import f1_score"
   ]
  },
  {
   "cell_type": "markdown",
   "metadata": {},
   "source": [
    "### Load issue data and set date range\n",
    "Pivot date is last date and time segments calculated by OOS months and IS-OOS ratio"
   ]
  },
  {
   "cell_type": "code",
   "execution_count": 5,
   "metadata": {},
   "outputs": [
    {
     "name": "stdout",
     "output_type": "stream",
     "text": [
      "Successfully retrieved data series for TLT\n"
     ]
    }
   ],
   "source": [
    "plotIt = PlotUtility()\n",
    "timeUtil = TimeUtility()\n",
    "ct = ComputeTarget()\n",
    "candle_ind = CandleIndicators()\n",
    "dSet = DataRetrieve()\n",
    "taLibMomSt = TALibMomentumStudies()\n",
    "transf = Transformers()\n",
    "modelUtil = ModelUtility()\n",
    "featureGen = FeatureGenerator()\n",
    "    \n",
    "issue = \"TLT\"\n",
    "# Set IS-OOS parameters\n",
    "pivotDate = datetime.date(2018, 4, 2)\n",
    "is_oos_ratio = 2\n",
    "oos_months = 4\n",
    "segments = 2\n",
    "\n",
    "dataSet = dSet.read_issue_data(issue)\n",
    "\n",
    "# get first data from loaded data instead of hard coding start date\n",
    "dataSet = dSet.set_date_range(dataSet, \"2014-09-26\", pivotDate)\n",
    "\n",
    "#set beLong level\n",
    "beLongThreshold = 0.000\n",
    "dataSet = ct.setTarget(dataSet, \"Long\", beLongThreshold)"
   ]
  },
  {
   "cell_type": "markdown",
   "metadata": {},
   "source": [
    "### Set features\n",
    "Features should be normalized..."
   ]
  },
  {
   "cell_type": "code",
   "execution_count": 6,
   "metadata": {},
   "outputs": [
    {
     "name": "stdout",
     "output_type": "stream",
     "text": [
      "f1\n",
      "Current feature:  PPO_f5_s10\n",
      "transform:  ['Normalized', 50]\n",
      "f2\n",
      "Current feature:  RSI_2\n",
      "transform:  ['Normalized', 50]\n",
      "f3\n",
      "Current feature:  CMO_10\n",
      "transform:  ['Scaler', 'robust']\n",
      "f4\n",
      "Current feature:  CCI_10\n",
      "transform:  ['Normalized', 50]\n",
      "f5\n",
      "Current feature:  UltOsc_t110_t220_t330\n",
      "transform:  ['Normalized', 50]\n",
      "f6\n",
      "Current feature:  ROC_5\n",
      "transform:  ['Normalized', 50]\n"
     ]
    }
   ],
   "source": [
    "input_dict = {} # initialize\n",
    "input_dict = {'f1': \n",
    "          {'fname' : 'PPO', \n",
    "           'params' : [5,10],\n",
    "           'transform' : ['Normalized', 50]\n",
    "           },\n",
    "          'f2': \n",
    "          {'fname' : 'RSI', \n",
    "           'params' : [2],\n",
    "           'transform' : ['Normalized', 50]\n",
    "           },\n",
    "          'f3': \n",
    "          {'fname' : 'CMO', \n",
    "           'params' : [10],\n",
    "           'transform' : ['Scaler', 'robust']\n",
    "           },\n",
    "          'f4': \n",
    "          {'fname' : 'CCI', \n",
    "           'params' : [10],\n",
    "           'transform' : ['Normalized', 50]\n",
    "           },\n",
    "          'f5': \n",
    "          {'fname' : 'UltimateOscillator', \n",
    "           'params' : [10, 20, 30],\n",
    "           'transform' : ['Normalized', 50]\n",
    "           },\n",
    "          'f6': \n",
    "          {'fname' : 'ROC', \n",
    "           'params' : [5],\n",
    "           'transform' : ['Normalized', 50]\n",
    "           }\n",
    "         }    \n",
    "dataSet = featureGen.generate_features(dataSet, input_dict)"
   ]
  },
  {
   "cell_type": "markdown",
   "metadata": {},
   "source": [
    "### Load processing dates for IS and OOS; set start date for model analysis"
   ]
  },
  {
   "cell_type": "code",
   "execution_count": 7,
   "metadata": {},
   "outputs": [
    {
     "name": "stdout",
     "output_type": "stream",
     "text": [
      "                    Segments:  2\n",
      "                IS OOS Ratio:  2\n",
      "                  OOS months:  4\n",
      "                   IS Months:  8\n",
      "              Months to load:  20\n",
      "              Data Load Date:  2016-11-02\n",
      "              IS Start  Date:  2016-12-02\n",
      "              OOS Start Date:  2017-08-02\n",
      "                  Pivot Date:  2018-04-02\n",
      "Issue: TLT\n",
      "Start date: 2016-12-02  End date: 2017-08-02\n"
     ]
    }
   ],
   "source": [
    "# set date splits\n",
    "isOosDates = timeUtil.is_oos_data_split(issue, pivotDate, is_oos_ratio, oos_months, segments)\n",
    "dataLoadStartDate = isOosDates[0]\n",
    "is_start_date = isOosDates[1]\n",
    "oos_start_date = isOosDates[2]\n",
    "is_months = isOosDates[3]\n",
    "is_end_date = isOosDates[4]\n",
    "oos_end_date = isOosDates[5]\n",
    "\n",
    "modelStartDate = is_start_date\n",
    "modelEndDate = modelStartDate + relativedelta(months=is_months)\n",
    "print(\"Issue: \" + issue)\n",
    "print(\"Start date: \" + str(modelStartDate) + \"  End date: \" + str(modelEndDate))\n",
    "\n",
    "\n",
    "predictor_vars = \"Temp holding spot\""
   ]
  },
  {
   "cell_type": "markdown",
   "metadata": {},
   "source": [
    "### Split data for analysis and make a copy for Expected Value calcs"
   ]
  },
  {
   "cell_type": "code",
   "execution_count": 8,
   "metadata": {
    "collapsed": true
   },
   "outputs": [],
   "source": [
    "mmData = dataSet[modelStartDate:modelEndDate].copy()\n",
    "nrows = mmData.shape[0]\n",
    "\n",
    "# EV related\n",
    "evData = dataSet[modelStartDate:modelEndDate].copy()\n"
   ]
  },
  {
   "cell_type": "markdown",
   "metadata": {},
   "source": [
    "### Select features to drop including OHL, gainAhead, symbol, Date, Close"
   ]
  },
  {
   "cell_type": "code",
   "execution_count": 9,
   "metadata": {
    "collapsed": true
   },
   "outputs": [],
   "source": [
    "col_vals = [k for k,v in feature_dict.items() if v == 'Drop']\n",
    "to_drop = ['Open','High','Low', 'gainAhead', 'Symbol', 'Date', 'Close', 'beLong', 'Volume']\n",
    "for x in to_drop:\n",
    "    col_vals.append(x)\n",
    "mmData = dSet.drop_columns(mmData, col_vals)"
   ]
  },
  {
   "cell_type": "code",
   "execution_count": 10,
   "metadata": {},
   "outputs": [
    {
     "name": "stdout",
     "output_type": "stream",
     "text": [
      "            PPO_f5_s10_Normalized  RSI_2_Normalized  CMO_10_Scaled  \\\n",
      "2016-12-02               0.602583          0.601066       0.254672   \n",
      "2016-12-05               0.490689          0.571866       0.247623   \n",
      "2016-12-06               0.338472          0.539684       0.242342   \n",
      "2016-12-07               0.376988          0.849172       0.372012   \n",
      "2016-12-08               0.468101          0.486060       0.276447   \n",
      "\n",
      "            CCI_10_Normalized  UltOsc_t110_t220_t330_Normalized  \\\n",
      "2016-12-02           0.459892                          0.484796   \n",
      "2016-12-05           0.477001                          0.537794   \n",
      "2016-12-06           0.551547                          0.523820   \n",
      "2016-12-07           0.816012                          0.658172   \n",
      "2016-12-08           0.485304                          0.537538   \n",
      "\n",
      "            ROC_5_Normalized  \n",
      "2016-12-02          0.424634  \n",
      "2016-12-05          0.258755  \n",
      "2016-12-06          0.184852  \n",
      "2016-12-07          0.709564  \n",
      "2016-12-08          0.724339  \n"
     ]
    }
   ],
   "source": [
    "print(mmData.head())"
   ]
  },
  {
   "cell_type": "markdown",
   "metadata": {},
   "source": [
    "### Plot correlation matrix\n",
    "Improve this to identify and drop features with corr value higher than 0.3\n",
    "Look at other methods to identify features and their contribution"
   ]
  },
  {
   "cell_type": "code",
   "execution_count": 11,
   "metadata": {},
   "outputs": [
    {
     "data": {
      "image/png": "[encoded data removed]",
      "text/plain": [
       "<Figure size 432x288 with 2 Axes>"
      ]
     },
     "metadata": {},
     "output_type": "display_data"
    }
   ],
   "source": [
    "plotIt.correlation_matrix(mmData)"
   ]
  },
  {
   "cell_type": "markdown",
   "metadata": {
    "collapsed": true
   },
   "source": [
    "#### Examine and drop features with corr value > 0.85"
   ]
  },
  {
   "cell_type": "code",
   "execution_count": 12,
   "metadata": {},
   "outputs": [
    {
     "name": "stdout",
     "output_type": "stream",
     "text": [
      "                                  PPO_f5_s10_Normalized  RSI_2_Normalized  \\\n",
      "PPO_f5_s10_Normalized                               NaN          0.438143   \n",
      "RSI_2_Normalized                                    NaN               NaN   \n",
      "CMO_10_Scaled                                       NaN               NaN   \n",
      "CCI_10_Normalized                                   NaN               NaN   \n",
      "UltOsc_t110_t220_t330_Normalized                    NaN               NaN   \n",
      "ROC_5_Normalized                                    NaN               NaN   \n",
      "\n",
      "                                  CMO_10_Scaled  CCI_10_Normalized  \\\n",
      "PPO_f5_s10_Normalized                  0.622077           0.734342   \n",
      "RSI_2_Normalized                       0.517282           0.813253   \n",
      "CMO_10_Scaled                               NaN           0.582454   \n",
      "CCI_10_Normalized                           NaN                NaN   \n",
      "UltOsc_t110_t220_t330_Normalized            NaN                NaN   \n",
      "ROC_5_Normalized                            NaN                NaN   \n",
      "\n",
      "                                  UltOsc_t110_t220_t330_Normalized  \\\n",
      "PPO_f5_s10_Normalized                                     0.714196   \n",
      "RSI_2_Normalized                                          0.456452   \n",
      "CMO_10_Scaled                                             0.730488   \n",
      "CCI_10_Normalized                                         0.613769   \n",
      "UltOsc_t110_t220_t330_Normalized                               NaN   \n",
      "ROC_5_Normalized                                               NaN   \n",
      "\n",
      "                                  ROC_5_Normalized  \n",
      "PPO_f5_s10_Normalized                     0.720240  \n",
      "RSI_2_Normalized                          0.776228  \n",
      "CMO_10_Scaled                             0.645993  \n",
      "CCI_10_Normalized                         0.876351  \n",
      "UltOsc_t110_t220_t330_Normalized          0.575042  \n",
      "ROC_5_Normalized                               NaN  \n",
      "\n",
      "=====To Drop=====\n",
      "['ROC_5_Normalized']\n"
     ]
    }
   ],
   "source": [
    "# Create correlation matrix\n",
    "corr_matrix = mmData.corr()\n",
    "\n",
    "# Select upper triangle of correlation matrix\n",
    "upper = corr_matrix.where(np.triu(np.ones(corr_matrix.shape), k=1).astype(np.bool))\n",
    "print(upper)\n",
    "\n",
    "# Find index of feature columns with correlation greater than 0.85\n",
    "to_drop = [column for column in upper.columns if any(upper[column] > 0.85)]\n",
    "print(\"\\n=====To Drop=====\\n\" + str(to_drop))"
   ]
  },
  {
   "cell_type": "code",
   "execution_count": null,
   "metadata": {
    "collapsed": true
   },
   "outputs": [],
   "source": []
  }
 ],
 "metadata": {
  "kernelspec": {
   "display_name": "Python 3",
   "language": "python",
   "name": "python3"
  },
  "language_info": {
   "codemirror_mode": {
    "name": "ipython",
    "version": 3
   },
   "file_extension": ".py",
   "mimetype": "text/x-python",
   "name": "python",
   "nbconvert_exporter": "python",
   "pygments_lexer": "ipython3",
   "version": "3.6.6"
  }
 },
 "nbformat": 4,
 "nbformat_minor": 2
}
