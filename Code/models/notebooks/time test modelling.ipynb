{
 "cells": [
  {
   "cell_type": "code",
   "execution_count": 3,
   "metadata": {
    "collapsed": true
   },
   "outputs": [],
   "source": [
    "import sys\n",
    "sys.path.append('../lib')\n",
    "sys.path.append('../transform')\n",
    "sys.path.append('../indicators')\n",
    "sys.path.append('../predictors')\n",
    "sys.path.append('../utilities')\n",
    "\n",
    "# Import the Time Series library\n",
    "import statsmodels.tsa.stattools as ts\n",
    "from retrieve_issue_data import read_issue_data\n",
    "from stat_tests import *\n",
    "from compute_target import *\n",
    "from lag_transform import *\n",
    "import pandas as pd\n",
    "import numpy as np\n",
    "import datetime\n",
    "from dateutil.relativedelta import relativedelta\n",
    "import matplotlib.pylab as plt\n",
    "from sklearn.linear_model import LogisticRegression\n",
    "import matplotlib as mpl\n",
    "plt.style.use('seaborn-ticks')"
   ]
  },
  {
   "cell_type": "code",
   "execution_count": 14,
   "metadata": {},
   "outputs": [
    {
     "name": "stdout",
     "output_type": "stream",
     "text": [
      "Load Date:  2017-07-01\n",
      "In Sample Start  Date:  2017-08-01\n",
      "Pivot Date:  2018-04-01\n",
      "Successfully retrieved Primary\n",
      "tlt\n",
      "nrows:  186\n"
     ]
    }
   ],
   "source": [
    "    issue = \"tlt\"\n",
    "    pivotDate = datetime.date(2018, 4, 1)\n",
    "    inSampleOutOfSampleRatio = 2\n",
    "    outOfSampleMonths = 2\n",
    "    inSampleMonths = inSampleOutOfSampleRatio * outOfSampleMonths\n",
    "    segments = 2\n",
    "    months_to_load = inSampleMonths + segments * outOfSampleMonths\n",
    "       \n",
    "    inSampleStartDate = pivotDate - relativedelta(months=months_to_load)\n",
    "    dataLoadStartDate = inSampleStartDate - relativedelta(months=1)\n",
    "    print(\"Load Date: \", dataLoadStartDate)\n",
    "    print(\"In Sample Start  Date: \", inSampleStartDate)\n",
    "    print(\"Pivot Date: \", pivotDate)\n",
    "    \n",
    "    dataSet = read_issue_data(issue, dataLoadStartDate, pivotDate)\n",
    "    print(issue)\n",
    "    nrows = dataSet.shape[0]\n",
    "    print (\"nrows: \", nrows)\n",
    "    \n",
    "    # set lag on Close (Pri)\n",
    "    lag_var = 'Pri'\n",
    "    lags = 5\n",
    "    dataSet = add_lag(dataSet, lag_var, lags)\n",
    "    \n",
    "    # set % return variables and lags\n",
    "    dataSet[\"percReturn\"] = dataSet[\"Pri\"].pct_change()*100\n",
    "    lag_var = 'percReturn'\n",
    "    lags = 5    \n",
    "    dataSet = add_lag(dataSet, lag_var, lags)    "
   ]
  },
  {
   "cell_type": "code",
   "execution_count": 5,
   "metadata": {},
   "outputs": [
    {
     "name": "stdout",
     "output_type": "stream",
     "text": [
      "             Close    High      Low    Open    Volume     Pri  Pri_lag1  \\\n",
      "2017-07-03  124.46  125.04  124.020  125.00  11021117  124.46       NaN   \n",
      "2017-07-05  124.49  124.65  124.115  124.20  11394539  124.49    124.46   \n",
      "2017-07-06  123.46  123.64  122.930  123.52  10853050  123.46    124.49   \n",
      "2017-07-07  122.72  123.03  122.585  122.84   9401813  122.72    123.46   \n",
      "2017-07-10  122.90  123.10  122.680  122.87   3859189  122.90    122.72   \n",
      "\n",
      "            Pri_lag2  Pri_lag3  Pri_lag4  Pri_lag5  percReturn  \\\n",
      "2017-07-03       NaN       NaN       NaN       NaN         NaN   \n",
      "2017-07-05       NaN       NaN       NaN       NaN    0.024104   \n",
      "2017-07-06    124.46       NaN       NaN       NaN   -0.827376   \n",
      "2017-07-07    124.49    124.46       NaN       NaN   -0.599384   \n",
      "2017-07-10    123.46    124.49    124.46       NaN    0.146675   \n",
      "\n",
      "            percReturn_lag1  percReturn_lag2  percReturn_lag3  \\\n",
      "2017-07-03              NaN              NaN              NaN   \n",
      "2017-07-05              NaN              NaN              NaN   \n",
      "2017-07-06         0.024104              NaN              NaN   \n",
      "2017-07-07        -0.827376         0.024104              NaN   \n",
      "2017-07-10        -0.599384        -0.827376         0.024104   \n",
      "\n",
      "            percReturn_lag4  percReturn_lag5  \n",
      "2017-07-03              NaN              NaN  \n",
      "2017-07-05              NaN              NaN  \n",
      "2017-07-06              NaN              NaN  \n",
      "2017-07-07              NaN              NaN  \n",
      "2017-07-10              NaN              NaN  \n"
     ]
    }
   ],
   "source": [
    "#print(dataSet.head())"
   ]
  },
  {
   "cell_type": "code",
   "execution_count": 15,
   "metadata": {},
   "outputs": [
    {
     "name": "stdout",
     "output_type": "stream",
     "text": [
      "2017-08-01\n"
     ]
    }
   ],
   "source": [
    "    #set beLong level\n",
    "    beLongThreshold = 0\n",
    "    \n",
    "    modelStartDate = inSampleStartDate\n",
    "    print(modelStartDate)\n",
    "    modelEndDate = modelStartDate + relativedelta(months=inSampleMonths)"
   ]
  },
  {
   "cell_type": "code",
   "execution_count": 8,
   "metadata": {
    "collapsed": true
   },
   "outputs": [
    {
     "name": "stdout",
     "output_type": "stream",
     "text": [
      "nrows:  85\n",
      "(85, 19)\n",
      "             Close      High       Low    Open    Volume     Pri  Pri_lag1  \\\n",
      "2017-11-17  126.39  126.4400  125.9600  126.07   6938792  126.39    125.46   \n",
      "2017-11-20  126.34  126.3800  125.9100  125.91   4232349  126.34    126.39   \n",
      "2017-11-21  126.74  127.2900  126.3100  127.09   5818422  126.74    126.34   \n",
      "2017-11-22  127.15  127.2048  126.5100  126.62   4140708  127.15    126.74   \n",
      "2017-11-24  126.80  127.0300  126.6900  126.93   3141388  126.80    127.15   \n",
      "2017-11-27  126.62  127.0500  126.4200  126.86   6079853  126.62    126.80   \n",
      "2017-11-28  126.79  127.1800  126.4700  126.77   5983021  126.79    126.62   \n",
      "2017-11-29  125.54  125.6800  125.1031  125.56  14547146  125.54    126.79   \n",
      "2017-11-30  125.12  125.5200  124.4399  125.31   9630008  125.12    125.54   \n",
      "2017-12-01  126.55  127.6900  125.1000  125.87  24583127  126.55    125.12   \n",
      "\n",
      "            Pri_lag2  Pri_lag3  Pri_lag4  Pri_lag5  percReturn  \\\n",
      "2017-11-17    126.56    125.20    124.36    126.00    0.741272   \n",
      "2017-11-20    125.46    126.56    125.20    124.36   -0.039560   \n",
      "2017-11-21    126.39    125.46    126.56    125.20    0.316606   \n",
      "2017-11-22    126.34    126.39    125.46    126.56    0.323497   \n",
      "2017-11-24    126.74    126.34    126.39    125.46   -0.275265   \n",
      "2017-11-27    127.15    126.74    126.34    126.39   -0.141956   \n",
      "2017-11-28    126.80    127.15    126.74    126.34    0.134260   \n",
      "2017-11-29    126.62    126.80    127.15    126.74   -0.985882   \n",
      "2017-11-30    126.79    126.62    126.80    127.15   -0.334555   \n",
      "2017-12-01    125.54    126.79    126.62    126.80    1.142903   \n",
      "\n",
      "            percReturn_lag1  percReturn_lag2  percReturn_lag3  \\\n",
      "2017-11-17        -0.869153         1.086262         0.675458   \n",
      "2017-11-20         0.741272        -0.869153         1.086262   \n",
      "2017-11-21        -0.039560         0.741272        -0.869153   \n",
      "2017-11-22         0.316606        -0.039560         0.741272   \n",
      "2017-11-24         0.323497         0.316606        -0.039560   \n",
      "2017-11-27        -0.275265         0.323497         0.316606   \n",
      "2017-11-28        -0.141956        -0.275265         0.323497   \n",
      "2017-11-29         0.134260        -0.141956        -0.275265   \n",
      "2017-11-30        -0.985882         0.134260        -0.141956   \n",
      "2017-12-01        -0.334555        -0.985882         0.134260   \n",
      "\n",
      "            percReturn_lag4  percReturn_lag5  gainAhead  beLong  \n",
      "2017-11-17        -1.301587        -0.284900  -0.000396      -1  \n",
      "2017-11-20         0.675458        -1.301587   0.003166       1  \n",
      "2017-11-21         1.086262         0.675458   0.003235       1  \n",
      "2017-11-22        -0.869153         1.086262  -0.002753      -1  \n",
      "2017-11-24         0.741272        -0.869153  -0.001420      -1  \n",
      "2017-11-27        -0.039560         0.741272   0.001343       1  \n",
      "2017-11-28         0.316606        -0.039560  -0.009859      -1  \n",
      "2017-11-29         0.323497         0.316606  -0.003346      -1  \n",
      "2017-11-30        -0.275265         0.323497   0.011429       1  \n",
      "2017-12-01        -0.141956        -0.275265   0.000000      -1  \n",
      "beLong counts: \n",
      " 1    45\n",
      "-1    40\n",
      "Name: beLong, dtype: int64\n",
      "out of  85\n",
      "nrows:  82\n",
      "(82, 19)\n",
      "             Close    High      Low    Open    Volume     Pri  Pri_lag1  \\\n",
      "2018-03-19  119.43  119.97  119.200  119.21   8491173  119.43    119.81   \n",
      "2018-03-20  118.95  119.22  118.830  118.91   5445971  118.95    119.43   \n",
      "2018-03-21  119.08  119.42  118.110  118.66   9742409  119.08    118.95   \n",
      "2018-03-22  120.26  120.82  119.670  120.31  12136574  120.26    119.08   \n",
      "2018-03-23  120.17  120.31  119.620  119.68   7250408  120.17    120.26   \n",
      "2018-03-26  119.71  120.45  119.670  120.00   8237947  119.71    120.17   \n",
      "2018-03-27  120.99  121.12  119.810  119.83   9168508  120.99    119.71   \n",
      "2018-03-28  121.31  121.64  120.945  121.45   7412538  121.31    120.99   \n",
      "2018-03-29  121.90  122.29  121.510  121.54   9694323  121.90    121.31   \n",
      "2018-03-30  121.90  121.90  121.900  121.90         0  121.90    121.90   \n",
      "\n",
      "            Pri_lag2  Pri_lag3  Pri_lag4  Pri_lag5  percReturn  \\\n",
      "2018-03-19    120.24    120.24    119.19    118.59   -0.317169   \n",
      "2018-03-20    119.81    120.24    120.24    119.19   -0.401909   \n",
      "2018-03-21    119.43    119.81    120.24    120.24    0.109290   \n",
      "2018-03-22    118.95    119.43    119.81    120.24    0.990930   \n",
      "2018-03-23    119.08    118.95    119.43    119.81   -0.074838   \n",
      "2018-03-26    120.26    119.08    118.95    119.43   -0.382791   \n",
      "2018-03-27    120.17    120.26    119.08    118.95    1.069251   \n",
      "2018-03-28    119.71    120.17    120.26    119.08    0.264485   \n",
      "2018-03-29    120.99    119.71    120.17    120.26    0.486357   \n",
      "2018-03-30    121.31    120.99    119.71    120.17    0.000000   \n",
      "\n",
      "            percReturn_lag1  percReturn_lag2  percReturn_lag3  \\\n",
      "2018-03-19        -0.357618         0.000000         0.880946   \n",
      "2018-03-20        -0.317169        -0.357618         0.000000   \n",
      "2018-03-21        -0.401909        -0.317169        -0.357618   \n",
      "2018-03-22         0.109290        -0.401909        -0.317169   \n",
      "2018-03-23         0.990930         0.109290        -0.401909   \n",
      "2018-03-26        -0.074838         0.990930         0.109290   \n",
      "2018-03-27        -0.382791        -0.074838         0.990930   \n",
      "2018-03-28         1.069251        -0.382791        -0.074838   \n",
      "2018-03-29         0.264485         1.069251        -0.382791   \n",
      "2018-03-30         0.486357         0.264485         1.069251   \n",
      "\n",
      "            percReturn_lag4  percReturn_lag5  gainAhead  beLong  \n",
      "2018-03-19         0.505945         0.576711  -0.004019      -1  \n",
      "2018-03-20         0.880946         0.505945   0.001093       1  \n",
      "2018-03-21         0.000000         0.880946   0.009909       1  \n",
      "2018-03-22        -0.357618         0.000000  -0.000748      -1  \n",
      "2018-03-23        -0.317169        -0.357618  -0.003828      -1  \n",
      "2018-03-26        -0.401909        -0.317169   0.010693       1  \n",
      "2018-03-27         0.109290        -0.401909   0.002645       1  \n",
      "2018-03-28         0.990930         0.109290   0.004864       1  \n",
      "2018-03-29        -0.074838         0.990930   0.000100       1  \n",
      "2018-03-30        -0.382791        -0.074838   0.000000      -1  \n",
      "beLong counts: \n",
      " 1    42\n",
      "-1    40\n",
      "Name: beLong, dtype: int64\n",
      "out of  82\n"
     ]
    }
   ],
   "source": [
    "    for i in range(segments):\n",
    "#        inSampleDataSetName = 'isDataSet' + str(i)\n",
    "#        print (inSampleDataSetName)\n",
    "#        outOfSampleDataSetName = 'oosDataSet' + str(i)\n",
    "#        print (outOfSampleDataSetName)\n",
    "        modelEndDate = modelStartDate + relativedelta(months=inSampleMonths)\n",
    "        modelData = dataSet.ix[modelStartDate:modelEndDate].copy()\n",
    "        #print(modelData)\n",
    "        \n",
    "        # set target var\n",
    "        mmData = setTarget(modelData, \"Long\", beLongThreshold)\n",
    "        nrows = mmData.shape[0]\n",
    "        print (\"nrows: \", nrows)\n",
    "        print (mmData.shape)\n",
    "        print (mmData.tail(10))\n",
    "        print (\"beLong counts: \")\n",
    "        print (mmData['beLong'].value_counts())\n",
    "        print (\"out of \", nrows)\n",
    "        modelStartDate = modelEndDate"
   ]
  },
  {
   "cell_type": "code",
   "execution_count": 9,
   "metadata": {},
   "outputs": [
    {
     "name": "stdout",
     "output_type": "stream",
     "text": [
      "nrows:  0\n",
      "(0, 19)\n",
      "Empty DataFrame\n",
      "Columns: [Close, High, Low, Open, Volume, Pri, Pri_lag1, Pri_lag2, Pri_lag3, Pri_lag4, Pri_lag5, percReturn, percReturn_lag1, percReturn_lag2, percReturn_lag3, percReturn_lag4, percReturn_lag5, gainAhead, beLong]\n",
      "Index: []\n",
      "beLong counts: \n",
      "Series([], Name: beLong, dtype: int64)\n",
      "out of  0\n",
      "nrows:  0\n",
      "(0, 19)\n",
      "Empty DataFrame\n",
      "Columns: [Close, High, Low, Open, Volume, Pri, Pri_lag1, Pri_lag2, Pri_lag3, Pri_lag4, Pri_lag5, percReturn, percReturn_lag1, percReturn_lag2, percReturn_lag3, percReturn_lag4, percReturn_lag5, gainAhead, beLong]\n",
      "Index: []\n",
      "beLong counts: \n",
      "Series([], Name: beLong, dtype: int64)\n",
      "out of  0\n"
     ]
    }
   ],
   "source": [
    "for i in range(segments):\n",
    "#        inSampleDataSetName = 'isDataSet' + str(i)\n",
    "#        print (inSampleDataSetName)\n",
    "#        outOfSampleDataSetName = 'oosDataSet' + str(i)\n",
    "#        print (outOfSampleDataSetName)\n",
    "        modelEndDate = modelStartDate + relativedelta(months=inSampleMonths)\n",
    "        modelData = dataSet.ix[modelStartDate:modelEndDate].copy()\n",
    "        #print(modelData)\n",
    "        \n",
    "        # set target var\n",
    "        mmData = setTarget(modelData, \"Long\", beLongThreshold)\n",
    "        nrows = mmData.shape[0]\n",
    "        print (\"nrows: \", nrows)\n",
    "        print (mmData.shape)\n",
    "        print (mmData.tail(10))\n",
    "        print (\"beLong counts: \")\n",
    "        print (mmData['beLong'].value_counts())\n",
    "        print (\"out of \", nrows)\n",
    "        modelStartDate = modelEndDate"
   ]
  },
  {
   "cell_type": "code",
   "execution_count": 10,
   "metadata": {},
   "outputs": [
    {
     "name": "stdout",
     "output_type": "stream",
     "text": [
      "Empty DataFrame\n",
      "Columns: [Close, High, Low, Open, Volume, Pri, Pri_lag1, Pri_lag2, Pri_lag3, Pri_lag4, Pri_lag5, percReturn, percReturn_lag1, percReturn_lag2, percReturn_lag3, percReturn_lag4, percReturn_lag5, gainAhead, beLong]\n",
      "Index: []\n"
     ]
    }
   ],
   "source": [
    "print(modelData)"
   ]
  },
  {
   "cell_type": "code",
   "execution_count": 18,
   "metadata": {},
   "outputs": [
    {
     "name": "stdout",
     "output_type": "stream",
     "text": [
      "nrows:  85\n",
      "(85, 19)\n",
      "             Close      High       Low    Open    Volume     Pri  Pri_lag1  \\\n",
      "2017-11-17  126.39  126.4400  125.9600  126.07   6938792  126.39    125.46   \n",
      "2017-11-20  126.34  126.3800  125.9100  125.91   4232349  126.34    126.39   \n",
      "2017-11-21  126.74  127.2900  126.3100  127.09   5818422  126.74    126.34   \n",
      "2017-11-22  127.15  127.2048  126.5100  126.62   4140708  127.15    126.74   \n",
      "2017-11-24  126.80  127.0300  126.6900  126.93   3141388  126.80    127.15   \n",
      "2017-11-27  126.62  127.0500  126.4200  126.86   6079853  126.62    126.80   \n",
      "2017-11-28  126.79  127.1800  126.4700  126.77   5983021  126.79    126.62   \n",
      "2017-11-29  125.54  125.6800  125.1031  125.56  14547146  125.54    126.79   \n",
      "2017-11-30  125.12  125.5200  124.4399  125.31   9630008  125.12    125.54   \n",
      "2017-12-01  126.55  127.6900  125.1000  125.87  24583127  126.55    125.12   \n",
      "\n",
      "            Pri_lag2  Pri_lag3  Pri_lag4  Pri_lag5  percReturn  \\\n",
      "2017-11-17    126.56    125.20    124.36    126.00    0.741272   \n",
      "2017-11-20    125.46    126.56    125.20    124.36   -0.039560   \n",
      "2017-11-21    126.39    125.46    126.56    125.20    0.316606   \n",
      "2017-11-22    126.34    126.39    125.46    126.56    0.323497   \n",
      "2017-11-24    126.74    126.34    126.39    125.46   -0.275265   \n",
      "2017-11-27    127.15    126.74    126.34    126.39   -0.141956   \n",
      "2017-11-28    126.80    127.15    126.74    126.34    0.134260   \n",
      "2017-11-29    126.62    126.80    127.15    126.74   -0.985882   \n",
      "2017-11-30    126.79    126.62    126.80    127.15   -0.334555   \n",
      "2017-12-01    125.54    126.79    126.62    126.80    1.142903   \n",
      "\n",
      "            percReturn_lag1  percReturn_lag2  percReturn_lag3  \\\n",
      "2017-11-17        -0.869153         1.086262         0.675458   \n",
      "2017-11-20         0.741272        -0.869153         1.086262   \n",
      "2017-11-21        -0.039560         0.741272        -0.869153   \n",
      "2017-11-22         0.316606        -0.039560         0.741272   \n",
      "2017-11-24         0.323497         0.316606        -0.039560   \n",
      "2017-11-27        -0.275265         0.323497         0.316606   \n",
      "2017-11-28        -0.141956        -0.275265         0.323497   \n",
      "2017-11-29         0.134260        -0.141956        -0.275265   \n",
      "2017-11-30        -0.985882         0.134260        -0.141956   \n",
      "2017-12-01        -0.334555        -0.985882         0.134260   \n",
      "\n",
      "            percReturn_lag4  percReturn_lag5  gainAhead  beLong  \n",
      "2017-11-17        -1.301587        -0.284900  -0.000396      -1  \n",
      "2017-11-20         0.675458        -1.301587   0.003166       1  \n",
      "2017-11-21         1.086262         0.675458   0.003235       1  \n",
      "2017-11-22        -0.869153         1.086262  -0.002753      -1  \n",
      "2017-11-24         0.741272        -0.869153  -0.001420      -1  \n",
      "2017-11-27        -0.039560         0.741272   0.001343       1  \n",
      "2017-11-28         0.316606        -0.039560  -0.009859      -1  \n",
      "2017-11-29         0.323497         0.316606  -0.003346      -1  \n",
      "2017-11-30        -0.275265         0.323497   0.011429       1  \n",
      "2017-12-01        -0.141956        -0.275265   0.000000      -1  \n",
      "beLong counts: \n",
      " 1    45\n",
      "-1    40\n",
      "Name: beLong, dtype: int64\n",
      "out of  85\n"
     ]
    }
   ],
   "source": [
    "        modelEndDate = modelStartDate + relativedelta(months=inSampleMonths)\n",
    "        modelData = dataSet.ix[modelStartDate:modelEndDate].copy()\n",
    "        #print(modelData)\n",
    "        \n",
    "        # set target var\n",
    "        mmData = setTarget(modelData, \"Long\", beLongThreshold)\n",
    "        nrows = mmData.shape[0]\n",
    "        print (\"nrows: \", nrows)\n",
    "        print (mmData.shape)\n",
    "        print (mmData.tail(10))\n",
    "        print (\"beLong counts: \")\n",
    "        print (mmData['beLong'].value_counts())\n",
    "        print (\"out of \", nrows)\n",
    "        #modelStartDate = modelEndDate"
   ]
  },
  {
   "cell_type": "code",
   "execution_count": 20,
   "metadata": {},
   "outputs": [
    {
     "name": "stdout",
     "output_type": "stream",
     "text": [
      "\n",
      "\n",
      "\n",
      "\n"
     ]
    },
    {
     "data": {
      "image/png": "[encoded data removed]",
      "text/plain": [
       "<matplotlib.figure.Figure at 0xc85a400>"
      ]
     },
     "metadata": {},
     "output_type": "display_data"
    }
   ],
   "source": [
    "        mmData = mmData.drop(['Open','High','Low','Close'],axis=1)\n",
    "        \n",
    "        plt.style.use('seaborn-ticks')\n",
    "        fig, ax = plt.subplots()\n",
    "        ax.yaxis.set_major_formatter(mpl.ticker.StrMethodFormatter('{x:,.0f}'))\n",
    "        plt.plot(mmData['Pri'], label=issue)\n",
    "        plt.legend(loc='upper left')\n",
    "        print(\"\\n\\n\\n\")\n",
    "        plt.show(block=False)"
   ]
  },
  {
   "cell_type": "code",
   "execution_count": 21,
   "metadata": {},
   "outputs": [
    {
     "name": "stdout",
     "output_type": "stream",
     "text": [
      "nrows beLong:  85\n",
      "2017-08-01    1\n",
      "2017-08-02    1\n",
      "2017-08-03   -1\n",
      "2017-08-04    1\n",
      "2017-08-07   -1\n",
      "Freq: C, Name: beLong, dtype: int32\n",
      "\n",
      "\n",
      "\n",
      "\n"
     ]
    },
    {
     "data": {
      "image/png": "[encoded data removed]",
      "text/plain": [
       "<matplotlib.figure.Figure at 0xc899ac8>"
      ]
     },
     "metadata": {},
     "output_type": "display_data"
    }
   ],
   "source": [
    "        mmData = mmData.drop(['Pri'],axis=1)\n",
    "        \n",
    "        datay = mmData['beLong']\n",
    "        nrows = datay.shape[0]\n",
    "        print (\"nrows beLong: \", nrows)\n",
    "        print(datay.head())\n",
    "        plt.figure(2)\n",
    "        datay.hist(figsize=(8,4  ))\n",
    "        print(\"\\n\\n\\n\")\n",
    "        plt.show(block=False)\n",
    "        \n",
    "        mmData = mmData.drop(['beLong'],axis=1)"
   ]
  },
  {
   "cell_type": "code",
   "execution_count": 22,
   "metadata": {},
   "outputs": [
    {
     "ename": "NameError",
     "evalue": "name 'StratifiedShuffleSplit' is not defined",
     "output_type": "error",
     "traceback": [
      "\u001b[0;31m---------------------------------------------------------------------------\u001b[0m",
      "\u001b[0;31mNameError\u001b[0m                                 Traceback (most recent call last)",
      "\u001b[0;32m<ipython-input-22-4dea5104a5ea>\u001b[0m in \u001b[0;36m<module>\u001b[0;34m()\u001b[0m\n\u001b[1;32m     16\u001b[0m \u001b[1;33m\u001b[0m\u001b[0m\n\u001b[1;32m     17\u001b[0m \u001b[1;31m#  Make 'iterations' index vectors for the train-test split\u001b[0m\u001b[1;33m\u001b[0m\u001b[1;33m\u001b[0m\u001b[0m\n\u001b[0;32m---> 18\u001b[0;31m \u001b[0msss\u001b[0m \u001b[1;33m=\u001b[0m \u001b[0mStratifiedShuffleSplit\u001b[0m\u001b[1;33m(\u001b[0m\u001b[0mdy\u001b[0m\u001b[1;33m,\u001b[0m\u001b[0miterations\u001b[0m\u001b[1;33m,\u001b[0m\u001b[0mtest_size\u001b[0m\u001b[1;33m=\u001b[0m\u001b[1;36m0.33\u001b[0m\u001b[1;33m,\u001b[0m \u001b[0mrandom_state\u001b[0m\u001b[1;33m=\u001b[0m\u001b[1;32mNone\u001b[0m\u001b[1;33m)\u001b[0m\u001b[1;33m\u001b[0m\u001b[0m\n\u001b[0m",
      "\u001b[0;31mNameError\u001b[0m: name 'StratifiedShuffleSplit' is not defined"
     ]
    }
   ],
   "source": [
    "        dataX = mmData\n",
    "        \n",
    "        #  Copy from pandas dataframe to numpy arrays\n",
    "        dy = np.zeros_like(datay)\n",
    "        dX = np.zeros_like(dataX)\n",
    "        \n",
    "        dy = datay.values\n",
    "        dX = dataX.values\n",
    "        \n",
    "        ######################\n",
    "        # ML section\n",
    "        \n",
    "        iterations = 100\n",
    "        \n",
    "        model = LogisticRegression()\n",
    "        \n",
    "        #  Make 'iterations' index vectors for the train-test split\n",
    "        sss = StratifiedShuffleSplit(dy,iterations,test_size=0.33, random_state=None)"
   ]
  },
  {
   "cell_type": "code",
   "execution_count": null,
   "metadata": {
    "collapsed": true
   },
   "outputs": [],
   "source": []
  }
 ],
 "metadata": {
  "kernelspec": {
   "display_name": "Python 3",
   "language": "python",
   "name": "python3"
  },
  "language_info": {
   "codemirror_mode": {
    "name": "ipython",
    "version": 3
   },
   "file_extension": ".py",
   "mimetype": "text/x-python",
   "name": "python",
   "nbconvert_exporter": "python",
   "pygments_lexer": "ipython3",
   "version": "3.6.0"
  }
 },
 "nbformat": 4,
 "nbformat_minor": 2
}
